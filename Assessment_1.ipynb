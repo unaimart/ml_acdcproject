{
 "cells": [
  {
   "cell_type": "markdown",
   "metadata": {
    "id": "dFqdFxSJCZtk"
   },
   "source": [
    "# Cardiovascular disease diagnosis using cardiac magnetic resonance radiomics and machine learning\n"
   ]
  },
  {
   "cell_type": "markdown",
   "metadata": {
    "id": "1FBOvpDeadiR"
   },
   "source": [
    "\n",
    "The purpose of this Assignment is to identify the machine learning algorithm that is best-suited for the classification problem and compute its perfomance using metrics.\n",
    "\n",
    "### Dataset Overview\n",
    "\n",
    "For the purposes of this project, you will utilize data extracted from the ACDC challenge\n",
    "dataset. The dataset contains 100 patients, evenly distributed across the five classes of\n",
    "interest:\n",
    "1. Normal case (NORM),\n",
    "2. Heart failure with infarction (MINF),\n",
    "3. Dilated cardiomyopathy (DCM),\n",
    "4. Hypertrophic cardiomyopathy (HCM),\n",
    "5. Abnormal right ventricle (RV)\n",
    "\n",
    "The file ACDC_radiomics.csv contains the radiomics for three structures of interest (left ventricle, myocardium, right ventricle) at two different time-points of the cardiac cycle (end-systole and end-diastole) extracted from the CMR and the respective segmentations of the structures of interest. The radiomics where calculated using the Pyradiomics library. Additionally, patient height and weight data are included. Finally, the patients' class, i.e., the target output, is provided in the “class” column.\n",
    "\n",
    "\n",
    "Datafile structure:\n",
    "Each row of the file represents a patient, with columns corresponding to radiomic features, patient weight, height, and class labels. In total, you are provided with 643 radiomics of three different categories (107 per structure per time-point):\n",
    "* Shape,\n",
    "* First order, and\n",
    "* Texture (GLCM, GLSZM, GLRLM, NGTDM, GLDM).\n",
    "\n",
    "The naming convention for the characteristics in the .csv is as follows:\n",
    "original_RadiomicCategory_FeatureName_Structure_Phase, where RadiomicCategory represents shape, firstorder, glcm, glszm, glrlm, ngtdm, or gldm. FeatureName indicates the name of the feature. Structure refers to one of the structures of interest: myocardium (MYO),\n",
    "left ventricle (LV), or right ventricle (RV). Phase represents either end-diastole (ED) or endsystole (ES).\n",
    "For example: original_ngtdm_Strength_MYO_ES.\n",
    "\n",
    "Let’s have a look the first a few rows of the data."
   ]
  },
  {
   "cell_type": "code",
   "execution_count": 2,
   "metadata": {
    "colab": {
     "base_uri": "https://localhost:8080/"
    },
    "executionInfo": {
     "elapsed": 2154,
     "status": "ok",
     "timestamp": 1709498032367,
     "user": {
      "displayName": "Unai Martínez",
      "userId": "07627802615691193729"
     },
     "user_tz": -60
    },
    "id": "9Rd2zlh8a-wD",
    "outputId": "58661997-7390-4635-806a-6abe3bbf8071"
   },
   "outputs": [
    {
     "name": "stdout",
     "output_type": "stream",
     "text": [
      "Drive already mounted at /content/gdrive; to attempt to forcibly remount, call drive.mount(\"/content/gdrive\", force_remount=True).\n"
     ]
    }
   ],
   "source": [
    "#Load data\n",
    "from google.colab import drive\n",
    "drive.mount('/content/gdrive')\n"
   ]
  },
  {
   "cell_type": "code",
   "execution_count": 3,
   "metadata": {
    "executionInfo": {
     "elapsed": 3944,
     "status": "ok",
     "timestamp": 1709498038012,
     "user": {
      "displayName": "Unai Martínez",
      "userId": "07627802615691193729"
     },
     "user_tz": -60
    },
    "id": "bjfLBtuEgGn-"
   },
   "outputs": [],
   "source": [
    "#Installation of required packages.\n",
    "\n",
    "from sklearn.linear_model import LogisticRegression\n",
    "from sklearn.metrics import accuracy_score, classification_report,confusion_matrix\n",
    "from sklearn.model_selection import train_test_split\n",
    "from sklearn.preprocessing import MinMaxScaler\n",
    "import pandas as pd\n",
    "import matplotlib.pyplot as plt\n",
    "import numpy as np\n",
    "import seaborn as sns\n",
    "import sklearn\n",
    "from sklearn.tree import DecisionTreeClassifier\n",
    "\n",
    "\n"
   ]
  },
  {
   "cell_type": "code",
   "execution_count": 4,
   "metadata": {
    "colab": {
     "base_uri": "https://localhost:8080/",
     "height": 255
    },
    "executionInfo": {
     "elapsed": 322,
     "status": "ok",
     "timestamp": 1709498039797,
     "user": {
      "displayName": "Unai Martínez",
      "userId": "07627802615691193729"
     },
     "user_tz": -60
    },
    "id": "9k1dMN3xX3Bx",
    "outputId": "aafd61ba-1e8c-4480-8c99-10bd0dbc5fdc"
   },
   "outputs": [
    {
     "data": {
      "application/vnd.google.colaboratory.intrinsic+json": {
       "type": "dataframe",
       "variable_name": "df"
      },
      "text/html": [
       "\n",
       "  <div id=\"df-bda4c4b7-54c2-432d-976f-1ee1b1950dc2\" class=\"colab-df-container\">\n",
       "    <div>\n",
       "<style scoped>\n",
       "    .dataframe tbody tr th:only-of-type {\n",
       "        vertical-align: middle;\n",
       "    }\n",
       "\n",
       "    .dataframe tbody tr th {\n",
       "        vertical-align: top;\n",
       "    }\n",
       "\n",
       "    .dataframe thead th {\n",
       "        text-align: right;\n",
       "    }\n",
       "</style>\n",
       "<table border=\"1\" class=\"dataframe\">\n",
       "  <thead>\n",
       "    <tr style=\"text-align: right;\">\n",
       "      <th></th>\n",
       "      <th>original_shape_Elongation_LV_ED</th>\n",
       "      <th>original_shape_Flatness_LV_ED</th>\n",
       "      <th>original_shape_LeastAxisLength_LV_ED</th>\n",
       "      <th>original_shape_MajorAxisLength_LV_ED</th>\n",
       "      <th>original_shape_Maximum2DDiameterColumn_LV_ED</th>\n",
       "      <th>original_shape_Maximum2DDiameterRow_LV_ED</th>\n",
       "      <th>original_shape_Maximum2DDiameterSlice_LV_ED</th>\n",
       "      <th>original_shape_Maximum3DDiameter_LV_ED</th>\n",
       "      <th>original_shape_MeshVolume_LV_ED</th>\n",
       "      <th>original_shape_MinorAxisLength_LV_ED</th>\n",
       "      <th>...</th>\n",
       "      <th>original_glszm_ZonePercentage_MYO_ES</th>\n",
       "      <th>original_glszm_ZoneVariance_MYO_ES</th>\n",
       "      <th>original_ngtdm_Busyness_MYO_ES</th>\n",
       "      <th>original_ngtdm_Coarseness_MYO_ES</th>\n",
       "      <th>original_ngtdm_Complexity_MYO_ES</th>\n",
       "      <th>original_ngtdm_Contrast_MYO_ES</th>\n",
       "      <th>original_ngtdm_Strength_MYO_ES</th>\n",
       "      <th>height</th>\n",
       "      <th>weight</th>\n",
       "      <th>class</th>\n",
       "    </tr>\n",
       "  </thead>\n",
       "  <tbody>\n",
       "    <tr>\n",
       "      <th>0</th>\n",
       "      <td>0.560917</td>\n",
       "      <td>0.110560</td>\n",
       "      <td>6.592758</td>\n",
       "      <td>59.630582</td>\n",
       "      <td>45.398238</td>\n",
       "      <td>64.776539</td>\n",
       "      <td>64.007812</td>\n",
       "      <td>65.199693</td>\n",
       "      <td>5674.000000</td>\n",
       "      <td>33.447817</td>\n",
       "      <td>...</td>\n",
       "      <td>0.053567</td>\n",
       "      <td>40384.123570</td>\n",
       "      <td>19.552355</td>\n",
       "      <td>0.000993</td>\n",
       "      <td>36.034390</td>\n",
       "      <td>0.010496</td>\n",
       "      <td>0.091329</td>\n",
       "      <td>184</td>\n",
       "      <td>95</td>\n",
       "      <td>DCM</td>\n",
       "    </tr>\n",
       "    <tr>\n",
       "      <th>1</th>\n",
       "      <td>0.454960</td>\n",
       "      <td>0.088323</td>\n",
       "      <td>5.730218</td>\n",
       "      <td>64.877933</td>\n",
       "      <td>40.311289</td>\n",
       "      <td>64.140471</td>\n",
       "      <td>61.000000</td>\n",
       "      <td>67.446275</td>\n",
       "      <td>5015.833333</td>\n",
       "      <td>29.516875</td>\n",
       "      <td>...</td>\n",
       "      <td>0.028344</td>\n",
       "      <td>130808.332098</td>\n",
       "      <td>29.225756</td>\n",
       "      <td>0.000722</td>\n",
       "      <td>17.238110</td>\n",
       "      <td>0.006596</td>\n",
       "      <td>0.045024</td>\n",
       "      <td>160</td>\n",
       "      <td>70</td>\n",
       "      <td>DCM</td>\n",
       "    </tr>\n",
       "    <tr>\n",
       "      <th>2</th>\n",
       "      <td>0.541682</td>\n",
       "      <td>0.105418</td>\n",
       "      <td>6.711577</td>\n",
       "      <td>63.666027</td>\n",
       "      <td>48.041649</td>\n",
       "      <td>66.843100</td>\n",
       "      <td>59.135438</td>\n",
       "      <td>68.080834</td>\n",
       "      <td>7817.666667</td>\n",
       "      <td>34.486772</td>\n",
       "      <td>...</td>\n",
       "      <td>0.041404</td>\n",
       "      <td>92088.926893</td>\n",
       "      <td>20.732684</td>\n",
       "      <td>0.001106</td>\n",
       "      <td>13.916093</td>\n",
       "      <td>0.004455</td>\n",
       "      <td>0.069372</td>\n",
       "      <td>165</td>\n",
       "      <td>77</td>\n",
       "      <td>DCM</td>\n",
       "    </tr>\n",
       "    <tr>\n",
       "      <th>3</th>\n",
       "      <td>0.487949</td>\n",
       "      <td>0.105906</td>\n",
       "      <td>6.726159</td>\n",
       "      <td>63.510529</td>\n",
       "      <td>44.407207</td>\n",
       "      <td>66.370174</td>\n",
       "      <td>66.007575</td>\n",
       "      <td>66.475559</td>\n",
       "      <td>5629.166667</td>\n",
       "      <td>30.989912</td>\n",
       "      <td>...</td>\n",
       "      <td>0.150855</td>\n",
       "      <td>5232.431686</td>\n",
       "      <td>5.158496</td>\n",
       "      <td>0.000848</td>\n",
       "      <td>216.183657</td>\n",
       "      <td>0.025431</td>\n",
       "      <td>0.208797</td>\n",
       "      <td>159</td>\n",
       "      <td>46</td>\n",
       "      <td>DCM</td>\n",
       "    </tr>\n",
       "    <tr>\n",
       "      <th>4</th>\n",
       "      <td>0.442150</td>\n",
       "      <td>0.095225</td>\n",
       "      <td>7.186765</td>\n",
       "      <td>75.471150</td>\n",
       "      <td>68.066144</td>\n",
       "      <td>77.472576</td>\n",
       "      <td>50.487622</td>\n",
       "      <td>77.472576</td>\n",
       "      <td>8550.083333</td>\n",
       "      <td>33.369563</td>\n",
       "      <td>...</td>\n",
       "      <td>0.040613</td>\n",
       "      <td>91705.803093</td>\n",
       "      <td>18.086404</td>\n",
       "      <td>0.000710</td>\n",
       "      <td>41.886924</td>\n",
       "      <td>0.005266</td>\n",
       "      <td>0.123346</td>\n",
       "      <td>165</td>\n",
       "      <td>77</td>\n",
       "      <td>DCM</td>\n",
       "    </tr>\n",
       "  </tbody>\n",
       "</table>\n",
       "<p>5 rows × 645 columns</p>\n",
       "</div>\n",
       "    <div class=\"colab-df-buttons\">\n",
       "\n",
       "  <div class=\"colab-df-container\">\n",
       "    <button class=\"colab-df-convert\" onclick=\"convertToInteractive('df-bda4c4b7-54c2-432d-976f-1ee1b1950dc2')\"\n",
       "            title=\"Convert this dataframe to an interactive table.\"\n",
       "            style=\"display:none;\">\n",
       "\n",
       "  <svg xmlns=\"http://www.w3.org/2000/svg\" height=\"24px\" viewBox=\"0 -960 960 960\">\n",
       "    <path d=\"M120-120v-720h720v720H120Zm60-500h600v-160H180v160Zm220 220h160v-160H400v160Zm0 220h160v-160H400v160ZM180-400h160v-160H180v160Zm440 0h160v-160H620v160ZM180-180h160v-160H180v160Zm440 0h160v-160H620v160Z\"/>\n",
       "  </svg>\n",
       "    </button>\n",
       "\n",
       "  <style>\n",
       "    .colab-df-container {\n",
       "      display:flex;\n",
       "      gap: 12px;\n",
       "    }\n",
       "\n",
       "    .colab-df-convert {\n",
       "      background-color: #E8F0FE;\n",
       "      border: none;\n",
       "      border-radius: 50%;\n",
       "      cursor: pointer;\n",
       "      display: none;\n",
       "      fill: #1967D2;\n",
       "      height: 32px;\n",
       "      padding: 0 0 0 0;\n",
       "      width: 32px;\n",
       "    }\n",
       "\n",
       "    .colab-df-convert:hover {\n",
       "      background-color: #E2EBFA;\n",
       "      box-shadow: 0px 1px 2px rgba(60, 64, 67, 0.3), 0px 1px 3px 1px rgba(60, 64, 67, 0.15);\n",
       "      fill: #174EA6;\n",
       "    }\n",
       "\n",
       "    .colab-df-buttons div {\n",
       "      margin-bottom: 4px;\n",
       "    }\n",
       "\n",
       "    [theme=dark] .colab-df-convert {\n",
       "      background-color: #3B4455;\n",
       "      fill: #D2E3FC;\n",
       "    }\n",
       "\n",
       "    [theme=dark] .colab-df-convert:hover {\n",
       "      background-color: #434B5C;\n",
       "      box-shadow: 0px 1px 3px 1px rgba(0, 0, 0, 0.15);\n",
       "      filter: drop-shadow(0px 1px 2px rgba(0, 0, 0, 0.3));\n",
       "      fill: #FFFFFF;\n",
       "    }\n",
       "  </style>\n",
       "\n",
       "    <script>\n",
       "      const buttonEl =\n",
       "        document.querySelector('#df-bda4c4b7-54c2-432d-976f-1ee1b1950dc2 button.colab-df-convert');\n",
       "      buttonEl.style.display =\n",
       "        google.colab.kernel.accessAllowed ? 'block' : 'none';\n",
       "\n",
       "      async function convertToInteractive(key) {\n",
       "        const element = document.querySelector('#df-bda4c4b7-54c2-432d-976f-1ee1b1950dc2');\n",
       "        const dataTable =\n",
       "          await google.colab.kernel.invokeFunction('convertToInteractive',\n",
       "                                                    [key], {});\n",
       "        if (!dataTable) return;\n",
       "\n",
       "        const docLinkHtml = 'Like what you see? Visit the ' +\n",
       "          '<a target=\"_blank\" href=https://colab.research.google.com/notebooks/data_table.ipynb>data table notebook</a>'\n",
       "          + ' to learn more about interactive tables.';\n",
       "        element.innerHTML = '';\n",
       "        dataTable['output_type'] = 'display_data';\n",
       "        await google.colab.output.renderOutput(dataTable, element);\n",
       "        const docLink = document.createElement('div');\n",
       "        docLink.innerHTML = docLinkHtml;\n",
       "        element.appendChild(docLink);\n",
       "      }\n",
       "    </script>\n",
       "  </div>\n",
       "\n",
       "\n",
       "<div id=\"df-7a5c0486-4a1f-4e6f-899f-626c3ddab959\">\n",
       "  <button class=\"colab-df-quickchart\" onclick=\"quickchart('df-7a5c0486-4a1f-4e6f-899f-626c3ddab959')\"\n",
       "            title=\"Suggest charts\"\n",
       "            style=\"display:none;\">\n",
       "\n",
       "<svg xmlns=\"http://www.w3.org/2000/svg\" height=\"24px\"viewBox=\"0 0 24 24\"\n",
       "     width=\"24px\">\n",
       "    <g>\n",
       "        <path d=\"M19 3H5c-1.1 0-2 .9-2 2v14c0 1.1.9 2 2 2h14c1.1 0 2-.9 2-2V5c0-1.1-.9-2-2-2zM9 17H7v-7h2v7zm4 0h-2V7h2v10zm4 0h-2v-4h2v4z\"/>\n",
       "    </g>\n",
       "</svg>\n",
       "  </button>\n",
       "\n",
       "<style>\n",
       "  .colab-df-quickchart {\n",
       "      --bg-color: #E8F0FE;\n",
       "      --fill-color: #1967D2;\n",
       "      --hover-bg-color: #E2EBFA;\n",
       "      --hover-fill-color: #174EA6;\n",
       "      --disabled-fill-color: #AAA;\n",
       "      --disabled-bg-color: #DDD;\n",
       "  }\n",
       "\n",
       "  [theme=dark] .colab-df-quickchart {\n",
       "      --bg-color: #3B4455;\n",
       "      --fill-color: #D2E3FC;\n",
       "      --hover-bg-color: #434B5C;\n",
       "      --hover-fill-color: #FFFFFF;\n",
       "      --disabled-bg-color: #3B4455;\n",
       "      --disabled-fill-color: #666;\n",
       "  }\n",
       "\n",
       "  .colab-df-quickchart {\n",
       "    background-color: var(--bg-color);\n",
       "    border: none;\n",
       "    border-radius: 50%;\n",
       "    cursor: pointer;\n",
       "    display: none;\n",
       "    fill: var(--fill-color);\n",
       "    height: 32px;\n",
       "    padding: 0;\n",
       "    width: 32px;\n",
       "  }\n",
       "\n",
       "  .colab-df-quickchart:hover {\n",
       "    background-color: var(--hover-bg-color);\n",
       "    box-shadow: 0 1px 2px rgba(60, 64, 67, 0.3), 0 1px 3px 1px rgba(60, 64, 67, 0.15);\n",
       "    fill: var(--button-hover-fill-color);\n",
       "  }\n",
       "\n",
       "  .colab-df-quickchart-complete:disabled,\n",
       "  .colab-df-quickchart-complete:disabled:hover {\n",
       "    background-color: var(--disabled-bg-color);\n",
       "    fill: var(--disabled-fill-color);\n",
       "    box-shadow: none;\n",
       "  }\n",
       "\n",
       "  .colab-df-spinner {\n",
       "    border: 2px solid var(--fill-color);\n",
       "    border-color: transparent;\n",
       "    border-bottom-color: var(--fill-color);\n",
       "    animation:\n",
       "      spin 1s steps(1) infinite;\n",
       "  }\n",
       "\n",
       "  @keyframes spin {\n",
       "    0% {\n",
       "      border-color: transparent;\n",
       "      border-bottom-color: var(--fill-color);\n",
       "      border-left-color: var(--fill-color);\n",
       "    }\n",
       "    20% {\n",
       "      border-color: transparent;\n",
       "      border-left-color: var(--fill-color);\n",
       "      border-top-color: var(--fill-color);\n",
       "    }\n",
       "    30% {\n",
       "      border-color: transparent;\n",
       "      border-left-color: var(--fill-color);\n",
       "      border-top-color: var(--fill-color);\n",
       "      border-right-color: var(--fill-color);\n",
       "    }\n",
       "    40% {\n",
       "      border-color: transparent;\n",
       "      border-right-color: var(--fill-color);\n",
       "      border-top-color: var(--fill-color);\n",
       "    }\n",
       "    60% {\n",
       "      border-color: transparent;\n",
       "      border-right-color: var(--fill-color);\n",
       "    }\n",
       "    80% {\n",
       "      border-color: transparent;\n",
       "      border-right-color: var(--fill-color);\n",
       "      border-bottom-color: var(--fill-color);\n",
       "    }\n",
       "    90% {\n",
       "      border-color: transparent;\n",
       "      border-bottom-color: var(--fill-color);\n",
       "    }\n",
       "  }\n",
       "</style>\n",
       "\n",
       "  <script>\n",
       "    async function quickchart(key) {\n",
       "      const quickchartButtonEl =\n",
       "        document.querySelector('#' + key + ' button');\n",
       "      quickchartButtonEl.disabled = true;  // To prevent multiple clicks.\n",
       "      quickchartButtonEl.classList.add('colab-df-spinner');\n",
       "      try {\n",
       "        const charts = await google.colab.kernel.invokeFunction(\n",
       "            'suggestCharts', [key], {});\n",
       "      } catch (error) {\n",
       "        console.error('Error during call to suggestCharts:', error);\n",
       "      }\n",
       "      quickchartButtonEl.classList.remove('colab-df-spinner');\n",
       "      quickchartButtonEl.classList.add('colab-df-quickchart-complete');\n",
       "    }\n",
       "    (() => {\n",
       "      let quickchartButtonEl =\n",
       "        document.querySelector('#df-7a5c0486-4a1f-4e6f-899f-626c3ddab959 button');\n",
       "      quickchartButtonEl.style.display =\n",
       "        google.colab.kernel.accessAllowed ? 'block' : 'none';\n",
       "    })();\n",
       "  </script>\n",
       "</div>\n",
       "    </div>\n",
       "  </div>\n"
      ],
      "text/plain": [
       "   original_shape_Elongation_LV_ED  original_shape_Flatness_LV_ED  \\\n",
       "0                         0.560917                       0.110560   \n",
       "1                         0.454960                       0.088323   \n",
       "2                         0.541682                       0.105418   \n",
       "3                         0.487949                       0.105906   \n",
       "4                         0.442150                       0.095225   \n",
       "\n",
       "   original_shape_LeastAxisLength_LV_ED  original_shape_MajorAxisLength_LV_ED  \\\n",
       "0                              6.592758                             59.630582   \n",
       "1                              5.730218                             64.877933   \n",
       "2                              6.711577                             63.666027   \n",
       "3                              6.726159                             63.510529   \n",
       "4                              7.186765                             75.471150   \n",
       "\n",
       "   original_shape_Maximum2DDiameterColumn_LV_ED  \\\n",
       "0                                     45.398238   \n",
       "1                                     40.311289   \n",
       "2                                     48.041649   \n",
       "3                                     44.407207   \n",
       "4                                     68.066144   \n",
       "\n",
       "   original_shape_Maximum2DDiameterRow_LV_ED  \\\n",
       "0                                  64.776539   \n",
       "1                                  64.140471   \n",
       "2                                  66.843100   \n",
       "3                                  66.370174   \n",
       "4                                  77.472576   \n",
       "\n",
       "   original_shape_Maximum2DDiameterSlice_LV_ED  \\\n",
       "0                                    64.007812   \n",
       "1                                    61.000000   \n",
       "2                                    59.135438   \n",
       "3                                    66.007575   \n",
       "4                                    50.487622   \n",
       "\n",
       "   original_shape_Maximum3DDiameter_LV_ED  original_shape_MeshVolume_LV_ED  \\\n",
       "0                               65.199693                      5674.000000   \n",
       "1                               67.446275                      5015.833333   \n",
       "2                               68.080834                      7817.666667   \n",
       "3                               66.475559                      5629.166667   \n",
       "4                               77.472576                      8550.083333   \n",
       "\n",
       "   original_shape_MinorAxisLength_LV_ED  ...  \\\n",
       "0                             33.447817  ...   \n",
       "1                             29.516875  ...   \n",
       "2                             34.486772  ...   \n",
       "3                             30.989912  ...   \n",
       "4                             33.369563  ...   \n",
       "\n",
       "   original_glszm_ZonePercentage_MYO_ES  original_glszm_ZoneVariance_MYO_ES  \\\n",
       "0                              0.053567                        40384.123570   \n",
       "1                              0.028344                       130808.332098   \n",
       "2                              0.041404                        92088.926893   \n",
       "3                              0.150855                         5232.431686   \n",
       "4                              0.040613                        91705.803093   \n",
       "\n",
       "   original_ngtdm_Busyness_MYO_ES  original_ngtdm_Coarseness_MYO_ES  \\\n",
       "0                       19.552355                          0.000993   \n",
       "1                       29.225756                          0.000722   \n",
       "2                       20.732684                          0.001106   \n",
       "3                        5.158496                          0.000848   \n",
       "4                       18.086404                          0.000710   \n",
       "\n",
       "   original_ngtdm_Complexity_MYO_ES  original_ngtdm_Contrast_MYO_ES  \\\n",
       "0                         36.034390                        0.010496   \n",
       "1                         17.238110                        0.006596   \n",
       "2                         13.916093                        0.004455   \n",
       "3                        216.183657                        0.025431   \n",
       "4                         41.886924                        0.005266   \n",
       "\n",
       "   original_ngtdm_Strength_MYO_ES  height  weight  class  \n",
       "0                        0.091329     184      95    DCM  \n",
       "1                        0.045024     160      70    DCM  \n",
       "2                        0.069372     165      77    DCM  \n",
       "3                        0.208797     159      46    DCM  \n",
       "4                        0.123346     165      77    DCM  \n",
       "\n",
       "[5 rows x 645 columns]"
      ]
     },
     "execution_count": 4,
     "metadata": {},
     "output_type": "execute_result"
    }
   ],
   "source": [
    "# Read the dataset and create the dataframe.\n",
    "%matplotlib inline\n",
    "\n",
    "df = pd.read_csv('./gdrive/My Drive/Colab Machine Learning/1st assessment/ACDC_radiomics.csv')\n",
    "df.head()"
   ]
  },
  {
   "cell_type": "code",
   "execution_count": 6,
   "metadata": {
    "colab": {
     "base_uri": "https://localhost:8080/"
    },
    "executionInfo": {
     "elapsed": 406,
     "status": "ok",
     "timestamp": 1709492580309,
     "user": {
      "displayName": "Unai Martínez",
      "userId": "07627802615691193729"
     },
     "user_tz": -60
    },
    "id": "JSxbAuBlcm-n",
    "outputId": "40fd5b61-6364-4833-bbc9-d6fa5325f7c1"
   },
   "outputs": [
    {
     "name": "stdout",
     "output_type": "stream",
     "text": [
      "(100, 645)\n"
     ]
    }
   ],
   "source": [
    "print(df.shape) #dataframe dimension"
   ]
  },
  {
   "cell_type": "markdown",
   "metadata": {
    "id": "7CkMyJICcgj2"
   },
   "source": [
    "We have 645 variables and 100 patients or rows."
   ]
  },
  {
   "cell_type": "code",
   "execution_count": 10,
   "metadata": {
    "colab": {
     "base_uri": "https://localhost:8080/"
    },
    "executionInfo": {
     "elapsed": 4,
     "status": "ok",
     "timestamp": 1709492636262,
     "user": {
      "displayName": "Unai Martínez",
      "userId": "07627802615691193729"
     },
     "user_tz": -60
    },
    "id": "yXpjMp70stFI",
    "outputId": "18e1d388-f918-47bb-b87f-28cae30a726e"
   },
   "outputs": [
    {
     "name": "stdout",
     "output_type": "stream",
     "text": [
      "26\n"
     ]
    }
   ],
   "source": [
    "nrows, ncols = 5, 5\n",
    "\n",
    "nfigs = np.ceil(df.shape[1] / (nrows * ncols)).astype(int)\n",
    "print(nfigs)"
   ]
  },
  {
   "cell_type": "code",
   "execution_count": 7,
   "metadata": {
    "colab": {
     "base_uri": "https://localhost:8080/"
    },
    "executionInfo": {
     "elapsed": 342,
     "status": "ok",
     "timestamp": 1709492582357,
     "user": {
      "displayName": "Unai Martínez",
      "userId": "07627802615691193729"
     },
     "user_tz": -60
    },
    "id": "xgm19sa6c1OK",
    "outputId": "3628b047-4183-47a3-8d84-5a08bac70acf"
   },
   "outputs": [
    {
     "name": "stdout",
     "output_type": "stream",
     "text": [
      "class\n",
      "DCM     20\n",
      "HCM     20\n",
      "MINF    20\n",
      "NOR     20\n",
      "RV      20\n",
      "dtype: int64\n"
     ]
    }
   ],
   "source": [
    "print(df.groupby('class').size())"
   ]
  },
  {
   "cell_type": "markdown",
   "metadata": {
    "id": "20ljE9mLcpc7"
   },
   "source": [
    "We have five types of class in the dataset equally distributed between patients."
   ]
  },
  {
   "cell_type": "markdown",
   "metadata": {
    "id": "ysiQTO76c-bF"
   },
   "source": [
    "### Exploratory Data Analysis\n",
    "\n",
    "Box plot for each numeric variable will give us a clearer idea of the distribution of the input variables:"
   ]
  },
  {
   "cell_type": "code",
   "execution_count": 11,
   "metadata": {
    "colab": {
     "base_uri": "https://localhost:8080/",
     "height": 1000,
     "output_embedded_package_id": "17RdGida6Aos3yXExLyCzeDnkRWb3IAw0"
    },
    "executionInfo": {
     "elapsed": 164644,
     "status": "error",
     "timestamp": 1709492963370,
     "user": {
      "displayName": "Unai Martínez",
      "userId": "07627802615691193729"
     },
     "user_tz": -60
    },
    "id": "3jzaZhXX_qLG",
    "outputId": "b197e439-1f95-4179-e87b-246e233c1aec"
   },
   "outputs": [
    {
     "data": {
      "text/plain": [
       "Output hidden; open in https://colab.research.google.com to view."
      ]
     },
     "metadata": {},
     "output_type": "display_data"
    }
   ],
   "source": [
    "# Define the number of rows, columns and figures\n",
    "nrows, ncols, nfigs = 5, 5, 26\n",
    "\n",
    "# Loop over the figures\n",
    "for fignum in range(nfigs):\n",
    "    fig, axes = plt.subplots(nrows=nrows, ncols=ncols, figsize=(15, 15))\n",
    "\n",
    "    # Loop over the subplots in the current figure\n",
    "    for i, ax in enumerate(axes.flat):\n",
    "        var_index = fignum * nrows * ncols + i\n",
    "        if var_index < df.shape[1]:\n",
    "            df.iloc[:, var_index].plot(kind='box', ax=ax)\n",
    "            ax.set_title(f\"Variable {var_index+1}\", fontsize=8)\n",
    "            ax.set(xlabel='', ylabel='')\n",
    "\n",
    "    # Adjust the layout\n",
    "    plt.tight_layout()\n",
    "\n",
    "    # Add a main title for the figure\n",
    "    fig.suptitle(f\"Box Plot for variables {fignum*nrows*ncols+1} to {min((fignum+1)*nrows*ncols, df.shape[1])}\", fontsize=12, y=1.02)\n",
    "\n",
    "    # Save the figure to a file\n",
    "    plt.savefig(f'fruits_box_{fignum}.png')\n",
    "\n",
    "    # Show the figure\n",
    "    plt.show()\n"
   ]
  },
  {
   "cell_type": "markdown",
   "metadata": {
    "id": "OgLgrp0tdNKk"
   },
   "source": [
    "Note: there is an error because the last column (class) doesn't contain numeric values.\n",
    "\n",
    "We can select from here the more \"normal\" distributions based on the number of outliers (max of 2) and getting the variables number 1,4,6,7,8,10,13,18,25,31,38,45,47,50,53,55,57,60,64,65,66,67,72,75,78,80,81,82,83,84,86,87,88,96,97,100,111,114,117,125,127,138,145,151,154,157,159,160,162,164,167,171,179,185,186,188,189,191,193,195,207,213,218,221,224,225,227,239,243,245,252,258,259,260,261,262,266,267,271,274,278,280,284,286,289,293,295,296,298,301,302,308,310,311,313,314,322,334,339,340,343,346,348,352,359,361,363,364,366,367,368,369,371,372,373,374,376,378,382,385,386,393,400,402,403,405,408,409,417,418,421,425,431,432,433,434,435,436,438,440,441,446,448,459,468,470,471,473,475,479,481,483,485,488,492,498,500,509,510,512,516,522,525,527,528,532,539,542,545,546,548,560,564,566,573,579,580,582,583,587,588,592,595,599,601,607,614,617,619,623,629,634,635,643,644"
   ]
  },
  {
   "cell_type": "code",
   "execution_count": 5,
   "metadata": {
    "executionInfo": {
     "elapsed": 413,
     "status": "ok",
     "timestamp": 1709498058377,
     "user": {
      "displayName": "Unai Martínez",
      "userId": "07627802615691193729"
     },
     "user_tz": -60
    },
    "id": "nb6r8S2azzlr"
   },
   "outputs": [],
   "source": [
    "# Defining a new dataframe based on the selected columns with 0 indexing.\n",
    "selected_columns = [0, 3, 5, 6, 7, 9, 12, 17, 24, 30, 37, 44, 46, 49, 52, 54, 56, 59, 63, 64, 65, 66, 71, 74, 77, 79, 80, 81, 82, 83, 85, 86, 87, 95, 96, 99, 110, 113, 116, 124, 126, 137, 144, 150, 153, 156, 158, 159, 161, 163, 166, 170, 178, 184, 185, 187, 188, 190, 192, 194, 206, 212, 217, 220, 223, 224, 226, 238, 242, 244, 251, 257, 258, 259, 260, 261, 265, 266, 270, 273, 277, 279, 283, 285, 288, 292, 294, 295, 297, 300, 301, 307, 309, 310, 312, 313, 321, 333, 338, 339, 342, 345, 347, 351, 358, 360, 362, 363, 365, 366, 367, 368, 370, 371, 372, 373, 375, 377, 381, 384, 385, 392, 399, 401, 402, 404, 407, 408, 416, 417, 420, 424, 430, 431, 432, 433, 434, 435, 437, 439, 440, 445, 447, 458, 467, 469, 470, 472, 474, 478, 480, 482, 484, 487, 491, 497, 499, 508, 509, 511, 515, 521, 524, 526, 527, 531, 538, 541, 544, 545, 547, 559, 563, 565, 572, 578, 579, 581, 582, 586, 587, 591, 594, 598, 600, 606, 613, 616, 618, 622, 628, 633, 634, 642, 643, 644]\n",
    "\n",
    "# Create the new DataFrame df_subset\n",
    "df_normal = df.iloc[:, selected_columns]"
   ]
  },
  {
   "cell_type": "markdown",
   "metadata": {
    "id": "UWlekYzolUWP"
   },
   "source": [
    "Now we can see the distribution with a histogram for each selected variable"
   ]
  },
  {
   "cell_type": "code",
   "execution_count": 16,
   "metadata": {
    "colab": {
     "base_uri": "https://localhost:8080/",
     "height": 1000,
     "output_embedded_package_id": "11mtxETclyI3LyOzKNAWV3GH6XN9BQQ3V"
    },
    "executionInfo": {
     "elapsed": 90311,
     "status": "ok",
     "timestamp": 1709495209888,
     "user": {
      "displayName": "Unai Martínez",
      "userId": "07627802615691193729"
     },
     "user_tz": -60
    },
    "id": "kNE6rPOPdWYG",
    "outputId": "b7141cc8-96fe-4dd9-bdf6-6520bd09991b"
   },
   "outputs": [
    {
     "data": {
      "text/plain": [
       "Output hidden; open in https://colab.research.google.com to view."
      ]
     },
     "metadata": {},
     "output_type": "display_data"
    }
   ],
   "source": [
    "# Define the number of rows and columns per figure\n",
    "nrows, ncols = 5, 5\n",
    "\n",
    "# Calculate the number of figures needed\n",
    "nfigs = np.ceil(df_normal.shape[1] / (nrows * ncols)).astype(int)\n",
    "\n",
    "# Loop over the figures\n",
    "for fignum in range(nfigs):\n",
    "    fig, axs = plt.subplots(nrows=nrows, ncols=ncols, figsize=(15, 15))\n",
    "    axs = axs.ravel()\n",
    "\n",
    "    # Loop over the subplots in the current figure\n",
    "    for i in range(nrows * ncols):\n",
    "        var_index = fignum * nrows * ncols + i\n",
    "        if var_index < df_normal.shape[1]:\n",
    "            var = df_normal.columns[var_index]\n",
    "            sns.histplot(data=df_normal, x=var, ax=axs[i], kde=True, bins=30)\n",
    "            axs[i].set_title(f\"Variable {var_index+1}\", fontsize=8)\n",
    "    # Adjust the layout\n",
    "    plt.tight_layout()\n",
    "\n",
    "    # Add a main title for the figure\n",
    "    fig.suptitle(f\"Histogram for Variables {fignum*nrows*ncols+1} to {min((fignum+1)*nrows*ncols, df_normal.shape[1])}\", fontsize=12, y=1.02)\n",
    "\n",
    "    # Save the figure to a file\n",
    "    plt.savefig(f'fruits_hist_{fignum}.png')\n",
    "\n",
    "    # Show the figure\n",
    "    plt.show()\n",
    "\n",
    "\n"
   ]
  },
  {
   "cell_type": "markdown",
   "metadata": {
    "id": "sWlElYm44tJr"
   },
   "source": [
    "From these plots we can see that the following variables don't show a normal distribution: 8,10,12,14,15,16,17,19,21,22,23,24,27,28,29,30,32,33,36,40,41,42,43,44,45,46,48,49,50,51,52,53,54,55,56,57,58,59,60,61,62,68,69,70,72,73,74,75,76,77,78,81,82,83,84,85,87,88,89,90,92,95,99,100,101,103,104,106,107,108,110,111,113,114,115,117,119,120,122,124,125,126,132,133,134,135,136,137,138,139,141,142,144,145,146,147,150,152,153,155,156,157,161,162,163,164,165,166,170,176,179,180,184,185,191,192"
   ]
  },
  {
   "cell_type": "code",
   "execution_count": 6,
   "metadata": {
    "executionInfo": {
     "elapsed": 310,
     "status": "ok",
     "timestamp": 1709498066187,
     "user": {
      "displayName": "Unai Martínez",
      "userId": "07627802615691193729"
     },
     "user_tz": -60
    },
    "id": "RBvDxN264232"
   },
   "outputs": [],
   "source": [
    "columns_to_drop = [7, 9, 11, 13, 14, 15, 16, 18, 20, 21, 22, 23, 26, 27, 28, 29, 31, 32, 35, 39, 40, 41, 42, 43, 44, 45, 47, 48, 49, 50, 51, 52, 53, 54, 55, 56, 57, 58, 59, 60, 61, 67, 68, 69, 71, 72, 73, 74, 75, 76, 77, 80, 81, 82, 83, 84, 86, 87, 88, 89, 91, 94, 98, 99, 100, 102, 103, 105, 106, 107, 109, 110, 112, 113, 114, 116, 118, 119, 121, 123, 124, 125, 131, 132, 133, 134, 135, 136, 137, 138, 140, 141, 143, 144, 145, 146, 149, 151, 152, 154, 155, 156, 160, 161, 162, 163, 164, 165, 169, 175, 178, 179, 183, 184, 190, 191]\n",
    "df_normal2 = df_normal.drop(df_normal.columns[columns_to_drop], axis=1)"
   ]
  },
  {
   "cell_type": "markdown",
   "metadata": {
    "id": "awh8mTLHlrqt"
   },
   "source": [
    "Now we can look at the correlation between the variables we kept, for this purpose, we can make a scatter matrix."
   ]
  },
  {
   "cell_type": "code",
   "execution_count": 18,
   "metadata": {
    "colab": {
     "base_uri": "https://localhost:8080/",
     "height": 1000,
     "output_embedded_package_id": "138BeOL964uUkE1XrwmbCJbdUtk-F28Mf"
    },
    "executionInfo": {
     "elapsed": 668509,
     "status": "error",
     "timestamp": 1709497491518,
     "user": {
      "displayName": "Unai Martínez",
      "userId": "07627802615691193729"
     },
     "user_tz": -60
    },
    "id": "oA1tTMyTUMui",
    "outputId": "eea9e940-e73d-4a6c-8da6-1bafdfd64a80"
   },
   "outputs": [
    {
     "data": {
      "text/plain": [
       "Output hidden; open in https://colab.research.google.com to view."
      ]
     },
     "metadata": {},
     "output_type": "display_data"
    }
   ],
   "source": [
    "# Define the number of rows and columns per figure\n",
    "nrows, ncols = 5, 5\n",
    "\n",
    "# Calculate the number of figures needed\n",
    "nfigs = np.ceil(df_normal2.shape[1] / (nrows * ncols)).astype(int)\n",
    "\n",
    "# Loop over the figures\n",
    "for fignum in range(nfigs):\n",
    "    # Select a subset of the dataframe for the current figure\n",
    "    start_col = fignum * nrows * ncols\n",
    "    end_col = min((fignum + 1) * nrows * ncols, df_normal2.shape[1])\n",
    "    subset = df_normal2.iloc[:, start_col:end_col]\n",
    "\n",
    "    # Create the pair plot for the subset\n",
    "    g = sns.pairplot(subset, diag_kind=\"hist\")\n",
    "\n",
    "    # Adjust the layout\n",
    "    plt.tight_layout()\n",
    "\n",
    "    # Add a main title for the figure\n",
    "    g.fig.suptitle(f\"Scatter-matrix for Variables {start_col+1} to {end_col}\", fontsize=12, y=1.02)\n",
    "\n",
    "    # Save the figure to a file\n",
    "    plt.savefig(f'fruits_scatter_matrix_{fignum}.png')\n",
    "\n",
    "    # Show the figure\n",
    "    plt.show()\n"
   ]
  },
  {
   "cell_type": "markdown",
   "metadata": {
    "id": "NMAYsKp0dWL0"
   },
   "source": [
    "Some pairs of attributes are correlated (mass and width). This suggests a high correlation and a predictable relationship."
   ]
  },
  {
   "cell_type": "markdown",
   "metadata": {
    "id": "95MLJq1rde-z"
   },
   "source": [
    "### Create Training and Test Sets and Apply Scaling"
   ]
  },
  {
   "cell_type": "markdown",
   "metadata": {
    "id": "wQ8_-NjumsKw"
   },
   "source": [
    "Splitting data into training and test sets is a common practice in machine learning and data analysis.\n",
    "\n",
    "By splitting the data into a training set and a test set, we can train the model on the training set and evaluate its performance on the test set. This allows us to estimate how well the model will perform on new, unseen data, and to make adjustments to the model or the training process as necessary.\n",
    "\n",
    "A common practice is to use 80% of the data for training and 20% for testing, but this ratio can vary depending on various factors as the size of the dataset, the nature of the problem, and the desired level of accuracy.\n",
    "\n",
    "On the other hand, **scaling data** is a common preprocessing step that ensures that all features are on a similar scale, which can help to improve the performance of some machine learning algorithms. There are different methods to scale data as the one we are using, min max scaling.\n",
    "\n",
    "MinMaxScaler transform features by scaling each feature to a given range.\n",
    "This estimator scales and translates each feature individually such that it is in the given range on the training set, e.g. between zero and one."
   ]
  },
  {
   "cell_type": "code",
   "execution_count": 21,
   "metadata": {
    "executionInfo": {
     "elapsed": 320,
     "status": "ok",
     "timestamp": 1709497600835,
     "user": {
      "displayName": "Unai Martínez",
      "userId": "07627802615691193729"
     },
     "user_tz": -60
    },
    "id": "wwTU_waOdf2-"
   },
   "outputs": [],
   "source": [
    "#data X Y\n",
    "X = df_normal2.drop('class', axis=1)\n",
    "y = df_normal2['class']\n",
    "\n",
    "#SPLIT DATA: TRAINING AND TEST\n",
    "X_train, X_test, y_train, y_test = train_test_split(X, y,test_size=0.2, random_state=100)\n",
    "\n",
    "#MinMaxScaler transform\n",
    "scaler = MinMaxScaler()\n",
    "X_train = scaler.fit_transform(X_train)\n",
    "X_test = scaler.transform(X_test)"
   ]
  },
  {
   "cell_type": "code",
   "execution_count": 22,
   "metadata": {
    "colab": {
     "base_uri": "https://localhost:8080/"
    },
    "executionInfo": {
     "elapsed": 435,
     "status": "ok",
     "timestamp": 1709497603285,
     "user": {
      "displayName": "Unai Martínez",
      "userId": "07627802615691193729"
     },
     "user_tz": -60
    },
    "id": "oNijNPRLoTLi",
    "outputId": "6cf5932c-d992-4d95-c122-5a500e2f1459"
   },
   "outputs": [
    {
     "name": "stdout",
     "output_type": "stream",
     "text": [
      "[[0.13161482 0.12903521 0.09312529 ... 0.33331453 0.19230769 0.21590909]\n",
      " [0.5095518  0.21594184 0.27416109 ... 0.59291066 0.         0.        ]\n",
      " [0.80086981 0.15513541 0.16233707 ... 0.31995666 0.38461538 0.26136364]\n",
      " ...\n",
      " [0.3442581  0.23708076 0.24462375 ... 0.2123232  0.26923077 0.32954545]\n",
      " [0.40922535 0.38714193 0.36168564 ... 0.73185366 0.65384615 0.53409091]\n",
      " [0.0035008  0.23558574 0.17230763 ... 0.38232219 0.25       0.29545455]]  and [[0.51331919 0.5265626  0.69148466 ... 0.80234815 0.38461538 0.27272727]\n",
      " [0.41551255 0.25998961 0.25817151 ... 1.25386287 0.48076923 0.15909091]\n",
      " [0.66253447 0.17805857 0.16200479 ... 0.64135985 0.34615385 0.28409091]\n",
      " ...\n",
      " [0.31652685 0.3037208  0.30427321 ... 1.04562847 0.76923077 0.39772727]\n",
      " [0.52997142 0.05031072 0.04320517 ... 0.53141468 0.57692308 0.39772727]\n",
      " [0.14787385 0.23666504 0.20601382 ... 0.15060087 0.38461538 0.27272727]]\n",
      "(80, 79)\n",
      "(20, 79)\n"
     ]
    }
   ],
   "source": [
    "print(X_train,\" and\", X_test) #transformed with MinMaxScaler\n",
    "print(X_train.shape) #train\n",
    "print(X_test.shape)"
   ]
  },
  {
   "cell_type": "markdown",
   "metadata": {
    "id": "WycZzeLDdhoz"
   },
   "source": [
    "### Build Models"
   ]
  },
  {
   "cell_type": "markdown",
   "metadata": {
    "id": "nULam4yOuK65"
   },
   "source": [
    "Now we are gonna build some differents models and see which one is the best for our case based on different metrics. We will see 4 metrics (precision, recall, f1-score and accuracy)\n",
    "\n",
    "\n",
    "*   **Accuracy:** the proportion of correctly classified instances out of the total number of instances.\n",
    "*   **Precision:** the proportion of true positive instances out of all positive predictions.\n",
    "*   **Recall:** the proportion of true positive instances out of all actual positive instances.\n",
    "*   **F1-score:** the harmonic mean of precision and recall, which balances both metrics.\n",
    "\n",
    "\n",
    "\n",
    "\n",
    "\n",
    "\n",
    "\n",
    "\n",
    "\n"
   ]
  },
  {
   "cell_type": "markdown",
   "metadata": {
    "id": "lPpPQYAUiHT_"
   },
   "source": [
    "Also, we will see see the confusion matrix, which is used to describe the performance of a classification model on a set of test data."
   ]
  },
  {
   "cell_type": "code",
   "execution_count": 23,
   "metadata": {
    "executionInfo": {
     "elapsed": 336,
     "status": "ok",
     "timestamp": 1709497620843,
     "user": {
      "displayName": "Unai Martínez",
      "userId": "07627802615691193729"
     },
     "user_tz": -60
    },
    "id": "pDEK6R9ifPCH"
   },
   "outputs": [],
   "source": [
    "# Function to plot confusion matrix:\n",
    "def CM(ytrue, ypred, clases=None, normalize = False):\n",
    "  conf_matrix=confusion_matrix(ytrue, ypred)\n",
    "  fig, ax = plt.subplots(figsize=(8, 8))\n",
    "  ax = sns.heatmap(conf_matrix, annot=True, fmt='d', cmap='Blues',\n",
    "                  xticklabels=np.unique(y_test), yticklabels=np.unique(y_test))\n",
    "  ax.set_title(\"Confusion Matrix\")\n",
    "  ax.set_xlabel(\"Predicted Label\")\n",
    "  ax.set_ylabel(\"True Label\")\n",
    "  plt.show()"
   ]
  },
  {
   "cell_type": "markdown",
   "metadata": {
    "id": "fo9gj6htxZMh"
   },
   "source": [
    "\n",
    "*   **Logistic Regression**\n",
    "\n",
    "A llitle of theory in: https://www.geeksforgeeks.org/understanding-logistic-regression/\n",
    "\n",
    "\n",
    "\n",
    "1.   Logistic regression is a powerful statistical technique used for classification problems, where you want to predict the probability of an event occurring based on one or more independent variables. Think of it like a yes/no or true/false prediction, but with a confidence score attached.\n",
    "2.   Modeling: Logistic regression builds a mathematical model that relates the features (independent variables) to the probability of the target event (dependent variable). It uses a sigmoid function, which squeezes the predicted probabilities between 0 and 1.\n",
    "\n",
    "\n",
    "\n",
    "\n"
   ]
  },
  {
   "cell_type": "code",
   "execution_count": 24,
   "metadata": {
    "colab": {
     "base_uri": "https://localhost:8080/"
    },
    "executionInfo": {
     "elapsed": 339,
     "status": "ok",
     "timestamp": 1709497632105,
     "user": {
      "displayName": "Unai Martínez",
      "userId": "07627802615691193729"
     },
     "user_tz": -60
    },
    "id": "Dk13sx_IdjNL",
    "outputId": "63155e75-1ca2-4558-b517-11647c17567c"
   },
   "outputs": [
    {
     "name": "stdout",
     "output_type": "stream",
     "text": [
      "              precision    recall  f1-score   support\n",
      "\n",
      "         DCM       1.00      0.50      0.67         2\n",
      "         HCM       0.60      0.43      0.50         7\n",
      "        MINF       0.33      0.67      0.44         3\n",
      "         NOR       0.50      0.60      0.55         5\n",
      "          RV       1.00      0.67      0.80         3\n",
      "\n",
      "    accuracy                           0.55        20\n",
      "   macro avg       0.69      0.57      0.59        20\n",
      "weighted avg       0.64      0.55      0.56        20\n",
      "\n",
      "Accuracy of Logistic regression classifier on training set: 0.97\n",
      "Accuracy of Logistic regression classifier on test set: 0.55\n"
     ]
    },
    {
     "name": "stderr",
     "output_type": "stream",
     "text": [
      "/usr/local/lib/python3.10/dist-packages/sklearn/linear_model/_logistic.py:458: ConvergenceWarning: lbfgs failed to converge (status=1):\n",
      "STOP: TOTAL NO. of ITERATIONS REACHED LIMIT.\n",
      "\n",
      "Increase the number of iterations (max_iter) or scale the data as shown in:\n",
      "    https://scikit-learn.org/stable/modules/preprocessing.html\n",
      "Please also refer to the documentation for alternative solver options:\n",
      "    https://scikit-learn.org/stable/modules/linear_model.html#logistic-regression\n",
      "  n_iter_i = _check_optimize_result(\n"
     ]
    }
   ],
   "source": [
    "#We are going to adjust a classification model, the logistic regression model, to predict the classes of fruits\n",
    "logreg = LogisticRegression()\n",
    "logreg.fit(X_train, y_train) #training set\n",
    "\n",
    "pred = logreg.predict(X_test) #We are going to adjust a classification model, the logistic regression model, to predict the classes of fruits.\n",
    "accuracy= accuracy_score(y_test, pred) #The classes are predicted with the test set and the metric is evaluated from this\n",
    "print(classification_report(y_test, pred))\n",
    "\n",
    "print('Accuracy of Logistic regression classifier on training set: {:.2f}'.format(logreg.score(X_train, y_train)))\n",
    "print('Accuracy of Logistic regression classifier on test set: {:.2f}'.format(accuracy))\n",
    "\n"
   ]
  },
  {
   "cell_type": "code",
   "execution_count": 25,
   "metadata": {
    "colab": {
     "base_uri": "https://localhost:8080/",
     "height": 718
    },
    "executionInfo": {
     "elapsed": 857,
     "status": "ok",
     "timestamp": 1709497650835,
     "user": {
      "displayName": "Unai Martínez",
      "userId": "07627802615691193729"
     },
     "user_tz": -60
    },
    "id": "fX5nkvJ6fuaM",
    "outputId": "002e48cf-ccd8-46ac-f8e4-3cb25d691aa8"
   },
   "outputs": [
    {
     "data": {
      "image/png": "[encoded data removed]",
      "text/plain": [
       "<Figure size 800x800 with 2 Axes>"
      ]
     },
     "metadata": {},
     "output_type": "display_data"
    }
   ],
   "source": [
    "#Confusion matrix\n",
    "CM(y_test,pred)"
   ]
  },
  {
   "cell_type": "markdown",
   "metadata": {
    "id": "AICtct4_zbiB"
   },
   "source": [
    "Now we are going to do the same with other very common methods in ML for classification, which will be explained in other lessons.\n",
    "\n",
    "The metrics for each of these methods will be displayed.\n",
    "\n"
   ]
  },
  {
   "cell_type": "markdown",
   "metadata": {
    "id": "Xkm81phoyU1F"
   },
   "source": [
    "*   **Decision Tree**\n",
    "\n",
    "Theory and introduction in: https://www.geeksforgeeks.org/decision-tree/\n",
    "\n",
    "\n",
    "*   A decision tree is a machine learning algorithm used for both classification and regression tasks. It works by building a tree-like structure where:\n",
    "*   Internal nodes represent questions based on features (attributes) of the data. Branches represent the possible answers to those questions. Leaves represent the final predictions or classifications."
   ]
  },
  {
   "cell_type": "code",
   "execution_count": 26,
   "metadata": {
    "colab": {
     "base_uri": "https://localhost:8080/"
    },
    "executionInfo": {
     "elapsed": 328,
     "status": "ok",
     "timestamp": 1709497658035,
     "user": {
      "displayName": "Unai Martínez",
      "userId": "07627802615691193729"
     },
     "user_tz": -60
    },
    "id": "gaHj8Av1yX9o",
    "outputId": "baf1e825-8af8-47cc-f11c-5398aa1e9f03"
   },
   "outputs": [
    {
     "name": "stdout",
     "output_type": "stream",
     "text": [
      "              precision    recall  f1-score   support\n",
      "\n",
      "         DCM       0.00      0.00      0.00         2\n",
      "         HCM       0.67      0.29      0.40         7\n",
      "        MINF       0.40      0.67      0.50         3\n",
      "         NOR       0.38      0.60      0.46         5\n",
      "          RV       1.00      0.67      0.80         3\n",
      "\n",
      "    accuracy                           0.45        20\n",
      "   macro avg       0.49      0.44      0.43        20\n",
      "weighted avg       0.54      0.45      0.45        20\n",
      "\n",
      "Accuracy of DecisionTree classifier on training set: 1.00\n",
      "Accuracy of DecisionTree classifier on test set: 0.45\n"
     ]
    }
   ],
   "source": [
    "clf = DecisionTreeClassifier().fit(X_train, y_train)\n",
    "clf.fit(X_train, y_train)\n",
    "pred_clf = clf.predict(X_test)\n",
    "accuracy_clf= accuracy_score(y_test, pred_clf)\n",
    "print(classification_report(y_test, pred_clf))\n",
    "\n",
    "print('Accuracy of DecisionTree classifier on training set: {:.2f}'.format(clf.score(X_train, y_train)))\n",
    "print('Accuracy of DecisionTree classifier on test set: {:.2f}'.format(accuracy_clf))"
   ]
  },
  {
   "cell_type": "code",
   "execution_count": null,
   "metadata": {
    "colab": {
     "base_uri": "https://localhost:8080/",
     "height": 718
    },
    "executionInfo": {
     "elapsed": 1117,
     "status": "ok",
     "timestamp": 1709422291356,
     "user": {
      "displayName": "Unai Martínez",
      "userId": "07627802615691193729"
     },
     "user_tz": -60
    },
    "id": "i-D3YSvKhVP0",
    "outputId": "962d73ff-60a0-41d4-f743-a69e99c0c614"
   },
   "outputs": [
    {
     "data": {
      "image/png": "[encoded data removed]",
      "text/plain": [
       "<Figure size 800x800 with 2 Axes>"
      ]
     },
     "metadata": {},
     "output_type": "display_data"
    }
   ],
   "source": [
    "CM(y_test,pred_clf)"
   ]
  },
  {
   "cell_type": "markdown",
   "metadata": {
    "id": "RbLGsB00MG5r"
   },
   "source": [
    "*   **Linear Discriminant Analysis (FDA)**\n",
    "\n",
    "theory: https://www.geeksforgeeks.org/ml-linear-discriminant-analysis/\n",
    "\n",
    "\n",
    "\n",
    "*   Find a linear combination of features that maximizes the separation between different classes. Think of it as creating a dividing line or hyperplane that best separates the data points of different classes.\n",
    "\n",
    "\n"
   ]
  },
  {
   "cell_type": "code",
   "execution_count": 27,
   "metadata": {
    "colab": {
     "base_uri": "https://localhost:8080/"
    },
    "executionInfo": {
     "elapsed": 302,
     "status": "ok",
     "timestamp": 1709497663102,
     "user": {
      "displayName": "Unai Martínez",
      "userId": "07627802615691193729"
     },
     "user_tz": -60
    },
    "id": "X_DKOg9jMGb9",
    "outputId": "abc13baf-d346-4474-c739-7b391cbfa1ed"
   },
   "outputs": [
    {
     "name": "stdout",
     "output_type": "stream",
     "text": [
      "              precision    recall  f1-score   support\n",
      "\n",
      "         DCM       0.67      1.00      0.80         2\n",
      "         HCM       0.67      0.29      0.40         7\n",
      "        MINF       0.10      0.33      0.15         3\n",
      "         NOR       0.00      0.00      0.00         5\n",
      "          RV       0.67      0.67      0.67         3\n",
      "\n",
      "    accuracy                           0.35        20\n",
      "   macro avg       0.42      0.46      0.40        20\n",
      "weighted avg       0.41      0.35      0.34        20\n",
      "\n",
      "Accuracy of LDA classifier on training set: 1.00\n",
      "Accuracy of LDA classifier on test set: 0.35\n"
     ]
    }
   ],
   "source": [
    "from sklearn.discriminant_analysis import LinearDiscriminantAnalysis\n",
    "lda = LinearDiscriminantAnalysis()\n",
    "lda.fit(X_train, y_train)\n",
    "pred_lda = lda.predict(X_test)\n",
    "accuracy_lda= accuracy_score(y_test, pred_lda)\n",
    "print(classification_report(y_test, pred_lda))\n",
    "\n",
    "print('Accuracy of LDA classifier on training set: {:.2f}'.format(lda.score(X_train, y_train)))\n",
    "print('Accuracy of LDA classifier on test set: {:.2f}'.format(accuracy_lda))"
   ]
  },
  {
   "cell_type": "code",
   "execution_count": null,
   "metadata": {
    "colab": {
     "base_uri": "https://localhost:8080/",
     "height": 718
    },
    "executionInfo": {
     "elapsed": 556,
     "status": "ok",
     "timestamp": 1709422300464,
     "user": {
      "displayName": "Unai Martínez",
      "userId": "07627802615691193729"
     },
     "user_tz": -60
    },
    "id": "gFevcmNuhYr5",
    "outputId": "f739ff40-4827-4784-a088-0380ff307b70"
   },
   "outputs": [
    {
     "data": {
      "image/png": "[encoded data removed]",
      "text/plain": [
       "<Figure size 800x800 with 2 Axes>"
      ]
     },
     "metadata": {},
     "output_type": "display_data"
    }
   ],
   "source": [
    "CM(y_test,pred_lda)"
   ]
  },
  {
   "cell_type": "markdown",
   "metadata": {
    "id": "fofW3kmhxc73"
   },
   "source": [
    "*   **K-Nearest Neighbors**\n",
    "\n",
    "theory: https://www.geeksforgeeks.org/k-nearest-neighbours/\n",
    "\n",
    "K-Nearest Neighbors (KNN) is a non-parametric, supervised machine learning algorithm used for both classification and regression tasks. It works by making predictions based on the similarity of a new data point to its k nearest neighbors in the training data."
   ]
  },
  {
   "cell_type": "code",
   "execution_count": 28,
   "metadata": {
    "colab": {
     "base_uri": "https://localhost:8080/"
    },
    "executionInfo": {
     "elapsed": 426,
     "status": "ok",
     "timestamp": 1709497672945,
     "user": {
      "displayName": "Unai Martínez",
      "userId": "07627802615691193729"
     },
     "user_tz": -60
    },
    "id": "SixFoVO0AB3n",
    "outputId": "4ac92559-ff9c-4608-f322-dcb52d57e2d4"
   },
   "outputs": [
    {
     "name": "stdout",
     "output_type": "stream",
     "text": [
      "              precision    recall  f1-score   support\n",
      "\n",
      "         DCM       0.33      0.50      0.40         2\n",
      "         HCM       1.00      0.43      0.60         7\n",
      "        MINF       0.12      0.33      0.18         3\n",
      "         NOR       0.20      0.20      0.20         5\n",
      "          RV       1.00      0.33      0.50         3\n",
      "\n",
      "    accuracy                           0.35        20\n",
      "   macro avg       0.53      0.36      0.38        20\n",
      "weighted avg       0.60      0.35      0.40        20\n",
      "\n",
      "Accuracy of K-NN classifier on training set: 0.82\n",
      "Accuracy of K-NN classifier on test set: 0.35\n"
     ]
    }
   ],
   "source": [
    "from sklearn.neighbors import KNeighborsClassifier\n",
    "knn = KNeighborsClassifier()\n",
    "knn.fit(X_train, y_train)\n",
    "pred_knn = knn.predict(X_test)\n",
    "accuracy_knn= accuracy_score(y_test, pred_knn)\n",
    "print(classification_report(y_test, pred_knn))\n",
    "\n",
    "print('Accuracy of K-NN classifier on training set: {:.2f}'.format(knn.score(X_train, y_train)))\n",
    "print('Accuracy of K-NN classifier on test set: {:.2f}'.format(accuracy_knn))"
   ]
  },
  {
   "cell_type": "code",
   "execution_count": null,
   "metadata": {
    "colab": {
     "base_uri": "https://localhost:8080/",
     "height": 718
    },
    "executionInfo": {
     "elapsed": 911,
     "status": "ok",
     "timestamp": 1709422310216,
     "user": {
      "displayName": "Unai Martínez",
      "userId": "07627802615691193729"
     },
     "user_tz": -60
    },
    "id": "u79MFPVmhq3Z",
    "outputId": "87265788-1226-406b-eb22-f88840b5361a"
   },
   "outputs": [
    {
     "data": {
      "image/png": "[encoded data removed]",
      "text/plain": [
       "<Figure size 800x800 with 2 Axes>"
      ]
     },
     "metadata": {},
     "output_type": "display_data"
    }
   ],
   "source": [
    "CM(y_test,pred_knn)"
   ]
  },
  {
   "cell_type": "markdown",
   "metadata": {
    "id": "075AyvZyysP9"
   },
   "source": [
    "*   **Support Vector Machine**\n",
    "\n",
    "theory: https://www.geeksforgeeks.org/introduction-to-support-vector-machines-svm/\n",
    "\n",
    "\n",
    "\n",
    "*   What it is: A powerful machine learning algorithm used for classification and regression, known for its ability to handle complex data and high dimensionality.\n",
    "\n",
    "*   How it works: Imagine separating different data points (e.g., emails marked spam vs. not spam) by drawing a line (hyperplane) in a high-dimensional space. SVMs find the optimal hyperplane that maximizes the margin between the two categories,\n",
    "\n"
   ]
  },
  {
   "cell_type": "code",
   "execution_count": 29,
   "metadata": {
    "colab": {
     "base_uri": "https://localhost:8080/"
    },
    "executionInfo": {
     "elapsed": 304,
     "status": "ok",
     "timestamp": 1709497868107,
     "user": {
      "displayName": "Unai Martínez",
      "userId": "07627802615691193729"
     },
     "user_tz": -60
    },
    "id": "cdR-hrdfyT3w",
    "outputId": "75cba7c2-51ea-48db-9c55-47d0ae6b4af0"
   },
   "outputs": [
    {
     "name": "stdout",
     "output_type": "stream",
     "text": [
      "              precision    recall  f1-score   support\n",
      "\n",
      "         DCM       0.33      0.50      0.40         2\n",
      "         HCM       0.75      0.43      0.55         7\n",
      "        MINF       0.25      0.67      0.36         3\n",
      "         NOR       0.33      0.20      0.25         5\n",
      "          RV       1.00      0.67      0.80         3\n",
      "\n",
      "    accuracy                           0.45        20\n",
      "   macro avg       0.53      0.49      0.47        20\n",
      "weighted avg       0.57      0.45      0.47        20\n",
      "\n",
      "Accuracy of SVC classifier on training set: 0.82\n",
      "Accuracy of SVC classifier on test set: 0.45\n"
     ]
    }
   ],
   "source": [
    "from sklearn.svm import SVC\n",
    "svm = SVC()\n",
    "svm.fit(X_train, y_train)\n",
    "pred_svm = svm.predict(X_test)\n",
    "accuracy_svm= accuracy_score(y_test, pred_svm)\n",
    "print(classification_report(y_test, pred_svm))\n",
    "\n",
    "print('Accuracy of SVC classifier on training set: {:.2f}'.format(knn.score(X_train, y_train)))\n",
    "print('Accuracy of SVC classifier on test set: {:.2f}'.format(accuracy_svm))"
   ]
  },
  {
   "cell_type": "code",
   "execution_count": null,
   "metadata": {
    "colab": {
     "base_uri": "https://localhost:8080/",
     "height": 718
    },
    "executionInfo": {
     "elapsed": 906,
     "status": "ok",
     "timestamp": 1709422498872,
     "user": {
      "displayName": "Unai Martínez",
      "userId": "07627802615691193729"
     },
     "user_tz": -60
    },
    "id": "z4HbsTKJhyvg",
    "outputId": "9b7a03fa-7d63-4367-8651-f8bd73682930"
   },
   "outputs": [
    {
     "data": {
      "image/png": "[encoded data removed]",
      "text/plain": [
       "<Figure size 800x800 with 2 Axes>"
      ]
     },
     "metadata": {},
     "output_type": "display_data"
    }
   ],
   "source": [
    "CM(y_test,pred_svm)"
   ]
  },
  {
   "cell_type": "markdown",
   "metadata": {
    "id": "6OpB660N3U8g"
   },
   "source": [
    "Parameter tuning and we must be critical of the decision made; it should be extrapolable and repeatable."
   ]
  },
  {
   "cell_type": "markdown",
   "metadata": {
    "id": "Jdy6BkeNeskW"
   },
   "source": [
    "The KNN algorithm was the most accurate model that we tried. In this case, we see an indication of no error made on the test set. However, we have to keep in mind that the **test set is small**."
   ]
  },
  {
   "cell_type": "markdown",
   "metadata": {
    "id": "dQLAKtrie4Xl"
   },
   "source": [
    "Plot the Decision Boundary of the k-NN Classifier"
   ]
  },
  {
   "cell_type": "code",
   "execution_count": null,
   "metadata": {
    "colab": {
     "base_uri": "https://localhost:8080/",
     "height": 321
    },
    "executionInfo": {
     "elapsed": 36812,
     "status": "error",
     "timestamp": 1709467367544,
     "user": {
      "displayName": "Unai Martínez",
      "userId": "07627802615691193729"
     },
     "user_tz": -60
    },
    "id": "Mfgu-hehgzN6",
    "outputId": "8a3d74f3-f051-421f-df3e-49db4ae322c0"
   },
   "outputs": [
    {
     "ename": "KeyboardInterrupt",
     "evalue": "",
     "output_type": "error",
     "traceback": [
      "\u001b[0;31m---------------------------------------------------------------------------\u001b[0m",
      "\u001b[0;31mKeyboardInterrupt\u001b[0m                         Traceback (most recent call last)",
      "\u001b[0;32m<ipython-input-14-709113dd12c4>\u001b[0m in \u001b[0;36m<cell line: 44>\u001b[0;34m()\u001b[0m\n\u001b[1;32m     42\u001b[0m     \u001b[0mplt\u001b[0m\u001b[0;34m.\u001b[0m\u001b[0mtitle\u001b[0m\u001b[0;34m(\u001b[0m\u001b[0;34m\"4-Class classification (k = %i, weights = '%s')\"\u001b[0m \u001b[0;34m%\u001b[0m \u001b[0;34m(\u001b[0m\u001b[0mn_neighbors\u001b[0m\u001b[0;34m,\u001b[0m \u001b[0mweights\u001b[0m\u001b[0;34m)\u001b[0m\u001b[0;34m)\u001b[0m\u001b[0;34m\u001b[0m\u001b[0;34m\u001b[0m\u001b[0m\n\u001b[1;32m     43\u001b[0m     \u001b[0mplt\u001b[0m\u001b[0;34m.\u001b[0m\u001b[0mshow\u001b[0m\u001b[0;34m(\u001b[0m\u001b[0;34m)\u001b[0m\u001b[0;34m\u001b[0m\u001b[0;34m\u001b[0m\u001b[0m\n\u001b[0;32m---> 44\u001b[0;31m \u001b[0mplot_df_knn\u001b[0m\u001b[0;34m(\u001b[0m\u001b[0mX_train\u001b[0m\u001b[0;34m,\u001b[0m \u001b[0my_train\u001b[0m\u001b[0;34m,\u001b[0m \u001b[0;36m5\u001b[0m\u001b[0;34m,\u001b[0m \u001b[0;34m'uniform'\u001b[0m\u001b[0;34m)\u001b[0m\u001b[0;34m\u001b[0m\u001b[0;34m\u001b[0m\u001b[0m\n\u001b[0m",
      "\u001b[0;32m<ipython-input-14-709113dd12c4>\u001b[0m in \u001b[0;36mplot_df_knn\u001b[0;34m(X, y, n_neighbors, weights)\u001b[0m\n\u001b[1;32m     24\u001b[0m     xx, yy = np.meshgrid(np.arange(x_min, x_max, mesh_step_size),\n\u001b[1;32m     25\u001b[0m                          np.arange(y_min, y_max, mesh_step_size))\n\u001b[0;32m---> 26\u001b[0;31m     \u001b[0mZ\u001b[0m \u001b[0;34m=\u001b[0m \u001b[0mclf\u001b[0m\u001b[0;34m.\u001b[0m\u001b[0mpredict\u001b[0m\u001b[0;34m(\u001b[0m\u001b[0mnp\u001b[0m\u001b[0;34m.\u001b[0m\u001b[0mc_\u001b[0m\u001b[0;34m[\u001b[0m\u001b[0mxx\u001b[0m\u001b[0;34m.\u001b[0m\u001b[0mravel\u001b[0m\u001b[0;34m(\u001b[0m\u001b[0;34m)\u001b[0m\u001b[0;34m,\u001b[0m \u001b[0myy\u001b[0m\u001b[0;34m.\u001b[0m\u001b[0mravel\u001b[0m\u001b[0;34m(\u001b[0m\u001b[0;34m)\u001b[0m\u001b[0;34m]\u001b[0m\u001b[0;34m)\u001b[0m\u001b[0;34m\u001b[0m\u001b[0;34m\u001b[0m\u001b[0m\n\u001b[0m\u001b[1;32m     27\u001b[0m \u001b[0;31m# Put the result into a color plot\u001b[0m\u001b[0;34m\u001b[0m\u001b[0;34m\u001b[0m\u001b[0m\n\u001b[1;32m     28\u001b[0m     \u001b[0mZ\u001b[0m \u001b[0;34m=\u001b[0m \u001b[0mZ\u001b[0m\u001b[0;34m.\u001b[0m\u001b[0mreshape\u001b[0m\u001b[0;34m(\u001b[0m\u001b[0mxx\u001b[0m\u001b[0;34m.\u001b[0m\u001b[0mshape\u001b[0m\u001b[0;34m)\u001b[0m\u001b[0;34m\u001b[0m\u001b[0;34m\u001b[0m\u001b[0m\n",
      "\u001b[0;32m/usr/local/lib/python3.10/dist-packages/sklearn/neighbors/_classification.py\u001b[0m in \u001b[0;36mpredict\u001b[0;34m(self, X)\u001b[0m\n\u001b[1;32m    232\u001b[0m             \u001b[0;31m# In that case, we do not need the distances to perform\u001b[0m\u001b[0;34m\u001b[0m\u001b[0;34m\u001b[0m\u001b[0m\n\u001b[1;32m    233\u001b[0m             \u001b[0;31m# the weighting so we do not compute them.\u001b[0m\u001b[0;34m\u001b[0m\u001b[0;34m\u001b[0m\u001b[0m\n\u001b[0;32m--> 234\u001b[0;31m             \u001b[0mneigh_ind\u001b[0m \u001b[0;34m=\u001b[0m \u001b[0mself\u001b[0m\u001b[0;34m.\u001b[0m\u001b[0mkneighbors\u001b[0m\u001b[0;34m(\u001b[0m\u001b[0mX\u001b[0m\u001b[0;34m,\u001b[0m \u001b[0mreturn_distance\u001b[0m\u001b[0;34m=\u001b[0m\u001b[0;32mFalse\u001b[0m\u001b[0;34m)\u001b[0m\u001b[0;34m\u001b[0m\u001b[0;34m\u001b[0m\u001b[0m\n\u001b[0m\u001b[1;32m    235\u001b[0m             \u001b[0mneigh_dist\u001b[0m \u001b[0;34m=\u001b[0m \u001b[0;32mNone\u001b[0m\u001b[0;34m\u001b[0m\u001b[0;34m\u001b[0m\u001b[0m\n\u001b[1;32m    236\u001b[0m         \u001b[0;32melse\u001b[0m\u001b[0;34m:\u001b[0m\u001b[0;34m\u001b[0m\u001b[0;34m\u001b[0m\u001b[0m\n",
      "\u001b[0;32m/usr/local/lib/python3.10/dist-packages/sklearn/neighbors/_base.py\u001b[0m in \u001b[0;36mkneighbors\u001b[0;34m(self, X, n_neighbors, return_distance)\u001b[0m\n\u001b[1;32m    877\u001b[0m                     \u001b[0;34m%\u001b[0m \u001b[0mself\u001b[0m\u001b[0;34m.\u001b[0m\u001b[0m_fit_method\u001b[0m\u001b[0;34m\u001b[0m\u001b[0;34m\u001b[0m\u001b[0m\n\u001b[1;32m    878\u001b[0m                 )\n\u001b[0;32m--> 879\u001b[0;31m             chunked_results = Parallel(n_jobs, prefer=\"threads\")(\n\u001b[0m\u001b[1;32m    880\u001b[0m                 delayed(_tree_query_parallel_helper)(\n\u001b[1;32m    881\u001b[0m                     \u001b[0mself\u001b[0m\u001b[0;34m.\u001b[0m\u001b[0m_tree\u001b[0m\u001b[0;34m,\u001b[0m \u001b[0mX\u001b[0m\u001b[0;34m[\u001b[0m\u001b[0ms\u001b[0m\u001b[0;34m]\u001b[0m\u001b[0;34m,\u001b[0m \u001b[0mn_neighbors\u001b[0m\u001b[0;34m,\u001b[0m \u001b[0mreturn_distance\u001b[0m\u001b[0;34m\u001b[0m\u001b[0;34m\u001b[0m\u001b[0m\n",
      "\u001b[0;32m/usr/local/lib/python3.10/dist-packages/sklearn/utils/parallel.py\u001b[0m in \u001b[0;36m__call__\u001b[0;34m(self, iterable)\u001b[0m\n\u001b[1;32m     61\u001b[0m             \u001b[0;32mfor\u001b[0m \u001b[0mdelayed_func\u001b[0m\u001b[0;34m,\u001b[0m \u001b[0margs\u001b[0m\u001b[0;34m,\u001b[0m \u001b[0mkwargs\u001b[0m \u001b[0;32min\u001b[0m \u001b[0miterable\u001b[0m\u001b[0;34m\u001b[0m\u001b[0;34m\u001b[0m\u001b[0m\n\u001b[1;32m     62\u001b[0m         )\n\u001b[0;32m---> 63\u001b[0;31m         \u001b[0;32mreturn\u001b[0m \u001b[0msuper\u001b[0m\u001b[0;34m(\u001b[0m\u001b[0;34m)\u001b[0m\u001b[0;34m.\u001b[0m\u001b[0m__call__\u001b[0m\u001b[0;34m(\u001b[0m\u001b[0miterable_with_config\u001b[0m\u001b[0;34m)\u001b[0m\u001b[0;34m\u001b[0m\u001b[0;34m\u001b[0m\u001b[0m\n\u001b[0m\u001b[1;32m     64\u001b[0m \u001b[0;34m\u001b[0m\u001b[0m\n\u001b[1;32m     65\u001b[0m \u001b[0;34m\u001b[0m\u001b[0m\n",
      "\u001b[0;32m/usr/local/lib/python3.10/dist-packages/joblib/parallel.py\u001b[0m in \u001b[0;36m__call__\u001b[0;34m(self, iterable)\u001b[0m\n\u001b[1;32m   1861\u001b[0m             \u001b[0moutput\u001b[0m \u001b[0;34m=\u001b[0m \u001b[0mself\u001b[0m\u001b[0;34m.\u001b[0m\u001b[0m_get_sequential_output\u001b[0m\u001b[0;34m(\u001b[0m\u001b[0miterable\u001b[0m\u001b[0;34m)\u001b[0m\u001b[0;34m\u001b[0m\u001b[0;34m\u001b[0m\u001b[0m\n\u001b[1;32m   1862\u001b[0m             \u001b[0mnext\u001b[0m\u001b[0;34m(\u001b[0m\u001b[0moutput\u001b[0m\u001b[0;34m)\u001b[0m\u001b[0;34m\u001b[0m\u001b[0;34m\u001b[0m\u001b[0m\n\u001b[0;32m-> 1863\u001b[0;31m             \u001b[0;32mreturn\u001b[0m \u001b[0moutput\u001b[0m \u001b[0;32mif\u001b[0m \u001b[0mself\u001b[0m\u001b[0;34m.\u001b[0m\u001b[0mreturn_generator\u001b[0m \u001b[0;32melse\u001b[0m \u001b[0mlist\u001b[0m\u001b[0;34m(\u001b[0m\u001b[0moutput\u001b[0m\u001b[0;34m)\u001b[0m\u001b[0;34m\u001b[0m\u001b[0;34m\u001b[0m\u001b[0m\n\u001b[0m\u001b[1;32m   1864\u001b[0m \u001b[0;34m\u001b[0m\u001b[0m\n\u001b[1;32m   1865\u001b[0m         \u001b[0;31m# Let's create an ID that uniquely identifies the current call. If the\u001b[0m\u001b[0;34m\u001b[0m\u001b[0;34m\u001b[0m\u001b[0m\n",
      "\u001b[0;32m/usr/local/lib/python3.10/dist-packages/joblib/parallel.py\u001b[0m in \u001b[0;36m_get_sequential_output\u001b[0;34m(self, iterable)\u001b[0m\n\u001b[1;32m   1790\u001b[0m                 \u001b[0mself\u001b[0m\u001b[0;34m.\u001b[0m\u001b[0mn_dispatched_batches\u001b[0m \u001b[0;34m+=\u001b[0m \u001b[0;36m1\u001b[0m\u001b[0;34m\u001b[0m\u001b[0;34m\u001b[0m\u001b[0m\n\u001b[1;32m   1791\u001b[0m                 \u001b[0mself\u001b[0m\u001b[0;34m.\u001b[0m\u001b[0mn_dispatched_tasks\u001b[0m \u001b[0;34m+=\u001b[0m \u001b[0;36m1\u001b[0m\u001b[0;34m\u001b[0m\u001b[0;34m\u001b[0m\u001b[0m\n\u001b[0;32m-> 1792\u001b[0;31m                 \u001b[0mres\u001b[0m \u001b[0;34m=\u001b[0m \u001b[0mfunc\u001b[0m\u001b[0;34m(\u001b[0m\u001b[0;34m*\u001b[0m\u001b[0margs\u001b[0m\u001b[0;34m,\u001b[0m \u001b[0;34m**\u001b[0m\u001b[0mkwargs\u001b[0m\u001b[0;34m)\u001b[0m\u001b[0;34m\u001b[0m\u001b[0;34m\u001b[0m\u001b[0m\n\u001b[0m\u001b[1;32m   1793\u001b[0m                 \u001b[0mself\u001b[0m\u001b[0;34m.\u001b[0m\u001b[0mn_completed_tasks\u001b[0m \u001b[0;34m+=\u001b[0m \u001b[0;36m1\u001b[0m\u001b[0;34m\u001b[0m\u001b[0;34m\u001b[0m\u001b[0m\n\u001b[1;32m   1794\u001b[0m                 \u001b[0mself\u001b[0m\u001b[0;34m.\u001b[0m\u001b[0mprint_progress\u001b[0m\u001b[0;34m(\u001b[0m\u001b[0;34m)\u001b[0m\u001b[0;34m\u001b[0m\u001b[0;34m\u001b[0m\u001b[0m\n",
      "\u001b[0;32m/usr/local/lib/python3.10/dist-packages/sklearn/utils/parallel.py\u001b[0m in \u001b[0;36m__call__\u001b[0;34m(self, *args, **kwargs)\u001b[0m\n\u001b[1;32m    121\u001b[0m             \u001b[0mconfig\u001b[0m \u001b[0;34m=\u001b[0m \u001b[0;34m{\u001b[0m\u001b[0;34m}\u001b[0m\u001b[0;34m\u001b[0m\u001b[0;34m\u001b[0m\u001b[0m\n\u001b[1;32m    122\u001b[0m         \u001b[0;32mwith\u001b[0m \u001b[0mconfig_context\u001b[0m\u001b[0;34m(\u001b[0m\u001b[0;34m**\u001b[0m\u001b[0mconfig\u001b[0m\u001b[0;34m)\u001b[0m\u001b[0;34m:\u001b[0m\u001b[0;34m\u001b[0m\u001b[0;34m\u001b[0m\u001b[0m\n\u001b[0;32m--> 123\u001b[0;31m             \u001b[0;32mreturn\u001b[0m \u001b[0mself\u001b[0m\u001b[0;34m.\u001b[0m\u001b[0mfunction\u001b[0m\u001b[0;34m(\u001b[0m\u001b[0;34m*\u001b[0m\u001b[0margs\u001b[0m\u001b[0;34m,\u001b[0m \u001b[0;34m**\u001b[0m\u001b[0mkwargs\u001b[0m\u001b[0;34m)\u001b[0m\u001b[0;34m\u001b[0m\u001b[0;34m\u001b[0m\u001b[0m\n\u001b[0m",
      "\u001b[0;32m/usr/local/lib/python3.10/dist-packages/sklearn/neighbors/_base.py\u001b[0m in \u001b[0;36m_tree_query_parallel_helper\u001b[0;34m(tree, *args, **kwargs)\u001b[0m\n\u001b[1;32m    683\u001b[0m     \u001b[0munder\u001b[0m \u001b[0mPyPy\u001b[0m\u001b[0;34m.\u001b[0m\u001b[0;34m\u001b[0m\u001b[0;34m\u001b[0m\u001b[0m\n\u001b[1;32m    684\u001b[0m     \"\"\"\n\u001b[0;32m--> 685\u001b[0;31m     \u001b[0;32mreturn\u001b[0m \u001b[0mtree\u001b[0m\u001b[0;34m.\u001b[0m\u001b[0mquery\u001b[0m\u001b[0;34m(\u001b[0m\u001b[0;34m*\u001b[0m\u001b[0margs\u001b[0m\u001b[0;34m,\u001b[0m \u001b[0;34m**\u001b[0m\u001b[0mkwargs\u001b[0m\u001b[0;34m)\u001b[0m\u001b[0;34m\u001b[0m\u001b[0;34m\u001b[0m\u001b[0m\n\u001b[0m\u001b[1;32m    686\u001b[0m \u001b[0;34m\u001b[0m\u001b[0m\n\u001b[1;32m    687\u001b[0m \u001b[0;34m\u001b[0m\u001b[0m\n",
      "\u001b[0;31mKeyboardInterrupt\u001b[0m: "
     ]
    }
   ],
   "source": [
    "import matplotlib.cm as cm\n",
    "from matplotlib.colors import ListedColormap, BoundaryNorm\n",
    "import matplotlib.patches as mpatches\n",
    "\n",
    "X = df.drop('class', axis=1)\n",
    "y = df['class']\n",
    "X_train, X_test, y_train, y_test = train_test_split(X, y, random_state=0)\n",
    "def plot_df_knn(X, y, n_neighbors, weights):\n",
    "    X_mat = X[['height', 'weight']].values\n",
    "    y_mat = y.values\n",
    "# Create color maps\n",
    "    cmap_light = ListedColormap(['#FFAAAA', '#AAFFAA', '#AAAAFF','#AFAFAF'])\n",
    "    cmap_bold  = ListedColormap(['#FF0000', '#00FF00', '#0000FF','#AFAFAF'])\n",
    "    clf = sklearn.neighbors.KNeighborsClassifier(n_neighbors, weights=weights)\n",
    "    clf.fit(X_mat, y_mat)\n",
    "# Plot the decision boundary by assigning a color in the color map\n",
    "    # to each mesh point.\n",
    "\n",
    "    mesh_step_size = .01  # step size in the mesh\n",
    "    plot_symbol_size = 50\n",
    "\n",
    "    x_min, x_max = X_mat[:, 0].min() - 1, X_mat[:, 0].max() + 1\n",
    "    y_min, y_max = X_mat[:, 1].min() - 1, X_mat[:, 1].max() + 1\n",
    "    xx, yy = np.meshgrid(np.arange(x_min, x_max, mesh_step_size),\n",
    "                         np.arange(y_min, y_max, mesh_step_size))\n",
    "    Z = clf.predict(np.c_[xx.ravel(), yy.ravel()])\n",
    "# Put the result into a color plot\n",
    "    Z = Z.reshape(xx.shape)\n",
    "    plt.figure()\n",
    "    plt.pcolormesh(xx, yy, Z, cmap=cmap_light)\n",
    "# Plot training points\n",
    "    plt.scatter(X_mat[:, 0], X_mat[:, 1], s=plot_symbol_size, c=y, cmap=cmap_bold, edgecolor = 'black')\n",
    "    plt.xlim(xx.min(), xx.max())\n",
    "    plt.ylim(yy.min(), yy.max())\n",
    "    patch0 = mpatches.Patch(color='#FF0000', label='apple')\n",
    "    patch1 = mpatches.Patch(color='#00FF00', label='mandarin')\n",
    "    patch2 = mpatches.Patch(color='#0000FF', label='orange')\n",
    "    patch3 = mpatches.Patch(color='#AFAFAF', label='lemon')\n",
    "    plt.legend(handles=[patch0, patch1, patch2, patch3])\n",
    "    plt.xlabel('height (cm)')\n",
    "    plt.ylabel('weight (kg)')\n",
    "    plt.title(\"4-Class classification (k = %i, weights = '%s')\" % (n_neighbors, weights))\n",
    "    plt.show()\n",
    "plot_df_knn(X_train, y_train, 5, 'uniform')"
   ]
  },
  {
   "cell_type": "markdown",
   "metadata": {
    "id": "gZeex_shs4_Y"
   },
   "source": [
    "To find the best number of neighbors, we can do parameter tuning, which is to fit the model with different values and see which one obtains the best result.\n",
    "For this particular dateset, we obtain the highest accuracy when k=5.\n",
    "\n",
    "See more examples in: https://towardsdatascience.com/solving-a-simple-classification-problem-with-python-fruits-lovers-edition-d20ab6b071d2\n",
    "\n"
   ]
  },
  {
   "cell_type": "markdown",
   "metadata": {
    "id": "y8cU7gpaUQDp"
   },
   "source": [
    "<!--NAVIGATION-->\n",
    "Based partially in internet, only for teaching pourposes.\n",
    "\n",
    "See in: https://towardsdatascience.com/solving-a-simple-classification-problem-with-python-fruits-lovers-edition-d20ab6b071d2"
   ]
  },
  {
   "cell_type": "markdown",
   "metadata": {
    "id": "KuGFIytPSnl2"
   },
   "source": [
    "# Feature selection algorithm"
   ]
  },
  {
   "cell_type": "code",
   "execution_count": null,
   "metadata": {
    "id": "ha2vl3HVS8OP"
   },
   "outputs": [],
   "source": []
  },
  {
   "cell_type": "markdown",
   "metadata": {
    "id": "UQtLxdcS_C4v"
   },
   "source": [
    "# AutoML using H2O\n",
    "\n"
   ]
  },
  {
   "cell_type": "code",
   "execution_count": 7,
   "metadata": {
    "colab": {
     "base_uri": "https://localhost:8080/"
    },
    "executionInfo": {
     "elapsed": 8347,
     "status": "ok",
     "timestamp": 1709498098315,
     "user": {
      "displayName": "Unai Martínez",
      "userId": "07627802615691193729"
     },
     "user_tz": -60
    },
    "id": "QIwRvq8Wnsjc",
    "outputId": "4d1ffeaa-9bf8-4903-bd0d-983eff90a2a0"
   },
   "outputs": [
    {
     "name": "stdout",
     "output_type": "stream",
     "text": [
      "Requirement already satisfied: h2o in /usr/local/lib/python3.10/dist-packages (3.44.0.3)\n",
      "Requirement already satisfied: requests in /usr/local/lib/python3.10/dist-packages (from h2o) (2.31.0)\n",
      "Requirement already satisfied: tabulate in /usr/local/lib/python3.10/dist-packages (from h2o) (0.9.0)\n",
      "Requirement already satisfied: charset-normalizer<4,>=2 in /usr/local/lib/python3.10/dist-packages (from requests->h2o) (3.3.2)\n",
      "Requirement already satisfied: idna<4,>=2.5 in /usr/local/lib/python3.10/dist-packages (from requests->h2o) (3.6)\n",
      "Requirement already satisfied: urllib3<3,>=1.21.1 in /usr/local/lib/python3.10/dist-packages (from requests->h2o) (2.0.7)\n",
      "Requirement already satisfied: certifi>=2017.4.17 in /usr/local/lib/python3.10/dist-packages (from requests->h2o) (2024.2.2)\n"
     ]
    }
   ],
   "source": [
    "#Download the library\n",
    "!pip install h2o"
   ]
  },
  {
   "cell_type": "code",
   "execution_count": 8,
   "metadata": {
    "colab": {
     "base_uri": "https://localhost:8080/",
     "height": 36
    },
    "executionInfo": {
     "elapsed": 5,
     "status": "ok",
     "timestamp": 1709498098316,
     "user": {
      "displayName": "Unai Martínez",
      "userId": "07627802615691193729"
     },
     "user_tz": -60
    },
    "id": "3qOFXAUf_NCv",
    "outputId": "dc9e20d7-19ba-4fbc-c4ec-db0518279bff"
   },
   "outputs": [
    {
     "data": {
      "application/vnd.google.colaboratory.intrinsic+json": {
       "type": "string"
      },
      "text/plain": [
       "'3.44.0.3'"
      ]
     },
     "execution_count": 8,
     "metadata": {},
     "output_type": "execute_result"
    }
   ],
   "source": [
    "#H2O AutoML\n",
    "import h2o\n",
    "from h2o.automl import H2OAutoML\n",
    "h2o.__version__"
   ]
  },
  {
   "cell_type": "code",
   "execution_count": 9,
   "metadata": {
    "colab": {
     "base_uri": "https://localhost:8080/"
    },
    "executionInfo": {
     "elapsed": 411,
     "status": "ok",
     "timestamp": 1709498102306,
     "user": {
      "displayName": "Unai Martínez",
      "userId": "07627802615691193729"
     },
     "user_tz": -60
    },
    "id": "4y4mWcst_vay",
    "outputId": "52e0b9f2-8988-48c4-f5bc-7701a2b570e8"
   },
   "outputs": [
    {
     "data": {
      "text/plain": [
       "svmem(total=13609443328, available=12579131392, percent=7.6, used=688934912, free=7998222336, active=1318526976, inactive=3976400896, buffers=91885568, cached=4830400512, shared=9687040, slab=215310336)"
      ]
     },
     "execution_count": 9,
     "metadata": {},
     "output_type": "execute_result"
    }
   ],
   "source": [
    "import multiprocessing\n",
    "multiprocessing.cpu_count()\n",
    "\n",
    "import psutil\n",
    "psutil.virtual_memory()"
   ]
  },
  {
   "cell_type": "code",
   "execution_count": 10,
   "metadata": {
    "colab": {
     "base_uri": "https://localhost:8080/",
     "height": 537
    },
    "executionInfo": {
     "elapsed": 10533,
     "status": "ok",
     "timestamp": 1709498114404,
     "user": {
      "displayName": "Unai Martínez",
      "userId": "07627802615691193729"
     },
     "user_tz": -60
    },
    "id": "Ak9bv_R5_vvV",
    "outputId": "5e086f16-fe94-47f2-a7ef-30d857b83187"
   },
   "outputs": [
    {
     "name": "stdout",
     "output_type": "stream",
     "text": [
      "Checking whether there is an H2O instance running at http://127.0.0.1:54321..... not found.\n",
      "Attempting to start a local H2O server...\n",
      "  Java Version: openjdk version \"11.0.22\" 2024-01-16; OpenJDK Runtime Environment (build 11.0.22+7-post-Ubuntu-0ubuntu222.04.1); OpenJDK 64-Bit Server VM (build 11.0.22+7-post-Ubuntu-0ubuntu222.04.1, mixed mode, sharing)\n",
      "  Starting server from /usr/local/lib/python3.10/dist-packages/h2o/backend/bin/h2o.jar\n",
      "  Ice root: /tmp/tmp54agp7h9\n",
      "  JVM stdout: /tmp/tmp54agp7h9/h2o_unknownUser_started_from_python.out\n",
      "  JVM stderr: /tmp/tmp54agp7h9/h2o_unknownUser_started_from_python.err\n",
      "  Server is running at http://127.0.0.1:54321\n",
      "Connecting to H2O server at http://127.0.0.1:54321 ... successful.\n"
     ]
    },
    {
     "data": {
      "text/html": [
       "\n",
       "<style>\n",
       "\n",
       "#h2o-table-1.h2o-container {\n",
       "  overflow-x: auto;\n",
       "}\n",
       "#h2o-table-1 .h2o-table {\n",
       "  /* width: 100%; */\n",
       "  margin-top: 1em;\n",
       "  margin-bottom: 1em;\n",
       "}\n",
       "#h2o-table-1 .h2o-table caption {\n",
       "  white-space: nowrap;\n",
       "  caption-side: top;\n",
       "  text-align: left;\n",
       "  /* margin-left: 1em; */\n",
       "  margin: 0;\n",
       "  font-size: larger;\n",
       "}\n",
       "#h2o-table-1 .h2o-table thead {\n",
       "  white-space: nowrap; \n",
       "  position: sticky;\n",
       "  top: 0;\n",
       "  box-shadow: 0 -1px inset;\n",
       "}\n",
       "#h2o-table-1 .h2o-table tbody {\n",
       "  overflow: auto;\n",
       "}\n",
       "#h2o-table-1 .h2o-table th,\n",
       "#h2o-table-1 .h2o-table td {\n",
       "  text-align: right;\n",
       "  /* border: 1px solid; */\n",
       "}\n",
       "#h2o-table-1 .h2o-table tr:nth-child(even) {\n",
       "  /* background: #F5F5F5 */\n",
       "}\n",
       "\n",
       "</style>      \n",
       "<div id=\"h2o-table-1\" class=\"h2o-container\">\n",
       "  <table class=\"h2o-table\">\n",
       "    <caption></caption>\n",
       "    <thead></thead>\n",
       "    <tbody><tr><td>H2O_cluster_uptime:</td>\n",
       "<td>03 secs</td></tr>\n",
       "<tr><td>H2O_cluster_timezone:</td>\n",
       "<td>Etc/UTC</td></tr>\n",
       "<tr><td>H2O_data_parsing_timezone:</td>\n",
       "<td>UTC</td></tr>\n",
       "<tr><td>H2O_cluster_version:</td>\n",
       "<td>3.44.0.3</td></tr>\n",
       "<tr><td>H2O_cluster_version_age:</td>\n",
       "<td>2 months and 12 days</td></tr>\n",
       "<tr><td>H2O_cluster_name:</td>\n",
       "<td>H2O_from_python_unknownUser_kbyyh3</td></tr>\n",
       "<tr><td>H2O_cluster_total_nodes:</td>\n",
       "<td>1</td></tr>\n",
       "<tr><td>H2O_cluster_free_memory:</td>\n",
       "<td>200 Gb</td></tr>\n",
       "<tr><td>H2O_cluster_total_cores:</td>\n",
       "<td>2</td></tr>\n",
       "<tr><td>H2O_cluster_allowed_cores:</td>\n",
       "<td>2</td></tr>\n",
       "<tr><td>H2O_cluster_status:</td>\n",
       "<td>locked, healthy</td></tr>\n",
       "<tr><td>H2O_connection_url:</td>\n",
       "<td>http://127.0.0.1:54321</td></tr>\n",
       "<tr><td>H2O_connection_proxy:</td>\n",
       "<td>{\"http\": null, \"https\": null, \"colab_language_server\": \"/usr/colab/bin/language_service\"}</td></tr>\n",
       "<tr><td>H2O_internal_security:</td>\n",
       "<td>False</td></tr>\n",
       "<tr><td>Python_version:</td>\n",
       "<td>3.10.12 final</td></tr></tbody>\n",
       "  </table>\n",
       "</div>\n"
      ],
      "text/plain": [
       "--------------------------  -----------------------------------------------------------------------------------------\n",
       "H2O_cluster_uptime:         03 secs\n",
       "H2O_cluster_timezone:       Etc/UTC\n",
       "H2O_data_parsing_timezone:  UTC\n",
       "H2O_cluster_version:        3.44.0.3\n",
       "H2O_cluster_version_age:    2 months and 12 days\n",
       "H2O_cluster_name:           H2O_from_python_unknownUser_kbyyh3\n",
       "H2O_cluster_total_nodes:    1\n",
       "H2O_cluster_free_memory:    200 Gb\n",
       "H2O_cluster_total_cores:    2\n",
       "H2O_cluster_allowed_cores:  2\n",
       "H2O_cluster_status:         locked, healthy\n",
       "H2O_connection_url:         http://127.0.0.1:54321\n",
       "H2O_connection_proxy:       {\"http\": null, \"https\": null, \"colab_language_server\": \"/usr/colab/bin/language_service\"}\n",
       "H2O_internal_security:      False\n",
       "Python_version:             3.10.12 final\n",
       "--------------------------  -----------------------------------------------------------------------------------------"
      ]
     },
     "metadata": {},
     "output_type": "display_data"
    }
   ],
   "source": [
    "#IMPORT LIBRARY H2O\n",
    "import h2o\n",
    "from h2o.automl import H2OAutoML\n",
    "from h2o.frame import H2OFrame\n",
    "\n",
    "#h2o.init() IN A DISTRIBUTED SERVER\n",
    "h2o.init(ip=\"127.0.0.1\", max_mem_size_GB = 200, nthreads = 10)"
   ]
  },
  {
   "cell_type": "code",
   "execution_count": 11,
   "metadata": {
    "colab": {
     "base_uri": "https://localhost:8080/"
    },
    "executionInfo": {
     "elapsed": 2034,
     "status": "ok",
     "timestamp": 1709498120315,
     "user": {
      "displayName": "Unai Martínez",
      "userId": "07627802615691193729"
     },
     "user_tz": -60
    },
    "id": "vARIzBza_wKc",
    "outputId": "55b27b78-b74a-4414-eb4a-5ad9fd88d1c5"
   },
   "outputs": [
    {
     "name": "stdout",
     "output_type": "stream",
     "text": [
      "Parse progress: |████████████████████████████████████████████████████████████████| (done) 100%\n",
      "  original_shape_Elongation_LV_ED    original_shape_MajorAxisLength_LV_ED    original_shape_Maximum2DDiameterRow_LV_ED    original_shape_Maximum2DDiameterSlice_LV_ED    original_shape_Maximum3DDiameter_LV_ED    original_shape_MinorAxisLength_LV_ED    original_shape_SurfaceVolumeRatio_LV_ED    original_firstorder_Minimum_LV_ED    original_glcm_Correlation_LV_ED    original_glcm_Imc2_LV_ED    original_gldm_DependenceVariance_LV_ED    original_gldm_LargeDependenceHighGrayLevelEmphasis_LV_ED    original_glrlm_LowGrayLevelRunEmphasis_LV_ED    original_glrlm_RunLengthNonUniformity_LV_ED    original_glrlm_ShortRunLowGrayLevelEmphasis_LV_ED    original_glszm_SizeZoneNonUniformityNormalized_LV_ED    original_glszm_SmallAreaEmphasis_LV_ED    original_shape_MajorAxisLength_RV_ED    original_shape_Maximum2DDiameterSlice_RV_ED    original_shape_MinorAxisLength_RV_ED    original_glcm_MCC_RV_ED    original_shape_MajorAxisLength_MYO_ED    original_shape_Maximum2DDiameterSlice_MYO_ED    original_shape_MinorAxisLength_MYO_ED    original_shape_Sphericity_MYO_ED    original_shape_SurfaceVolumeRatio_MYO_ED    original_glcm_Correlation_MYO_ED    original_gldm_DependenceEntropy_MYO_ED    original_gldm_DependenceVariance_MYO_ED    original_glrlm_RunEntropy_MYO_ED    original_glszm_GrayLevelNonUniformityNormalized_MYO_ED    original_glszm_SizeZoneNonUniformityNormalized_MYO_ED    original_glszm_SmallAreaEmphasis_MYO_ED    original_glszm_ZoneEntropy_MYO_ED    original_shape_Elongation_LV_ES    original_shape_SurfaceVolumeRatio_LV_ES    original_firstorder_Minimum_LV_ES    original_glcm_Correlation_LV_ES    original_glcm_Idn_LV_ES    original_glcm_InverseVariance_LV_ES    original_glcm_MaximumProbability_LV_ES    original_gldm_DependenceEntropy_LV_ES    original_gldm_LargeDependenceHighGrayLevelEmphasis_LV_ES    original_glrlm_RunEntropy_LV_ES    original_glszm_GrayLevelNonUniformity_LV_ES    original_glszm_GrayLevelNonUniformityNormalized_LV_ES    original_glszm_SizeZoneNonUniformityNormalized_LV_ES    original_glszm_SmallAreaEmphasis_LV_ES    original_glszm_ZoneEntropy_LV_ES    original_shape_SurfaceArea_RV_ES    original_firstorder_Kurtosis_RV_ES    original_glcm_Idn_RV_ES    original_glcm_Imc2_RV_ES    original_glcm_MaximumProbability_RV_ES    original_gldm_DependenceVariance_RV_ES    original_glrlm_RunLengthNonUniformityNormalized_RV_ES    original_glrlm_RunPercentage_RV_ES    original_glrlm_ShortRunEmphasis_RV_ES    original_shape_MajorAxisLength_MYO_ES    original_shape_Maximum2DDiameterSlice_MYO_ES    original_shape_MinorAxisLength_MYO_ES    original_shape_SurfaceVolumeRatio_MYO_ES    original_firstorder_Minimum_MYO_ES    original_firstorder_Skewness_MYO_ES    original_firstorder_Uniformity_MYO_ES    original_glcm_Correlation_MYO_ES    original_glcm_Idn_MYO_ES    original_glcm_Imc2_MYO_ES    original_glcm_MaximumProbability_MYO_ES    original_gldm_DependenceEntropy_MYO_ES    original_gldm_DependenceVariance_MYO_ES    original_glrlm_GrayLevelNonUniformityNormalized_MYO_ES    original_glrlm_RunEntropy_MYO_ES    original_glrlm_RunPercentage_MYO_ES    original_glrlm_ShortRunEmphasis_MYO_ES    original_glszm_GrayLevelNonUniformityNormalized_MYO_ES    original_glszm_ZoneEntropy_MYO_ES    height    weight  class\n",
      "                         0.560917                                 59.6306                                      64.7765                                        64.0078                                   65.1997                                 33.4478                                   0.773296                                   37                           0.519015                    0.676305                                  20.7698                                                      6114.45                                      0.0231091                                         3087.23                                           0.0205827                                                 0.331407                                  0.596459                                 44.2037                                        49.0102                                 42.9218                   0.611125                                  69.3589                                         60.0083                                  68.1112                            0.240878                                    1.06954                             0.344094                                   5.86332                                    28.0852                             3.33373                                                 0.194426                                                  0.367701                                   0.6272                                4.64476                           0.402744                                   0.977583                                   57                           0.484103                   0.896509                               0.41073                                  0.0794488                                  6.58925                                                     3612.09                            4.01503                                        40.911                                                 0.121398                                                 0.331596                                  0.596895                             5.31457                             3714.71                               2.34756                   0.919585                    0.772992                                 0.0722539                                  22.8817                                                  0.632052                              0.749719                                 0.819103                                  63.3964                                         57                                       62.163                                     0.926045                                    33                               1.28048                                  0.30749                             0.338395                    0.944759                     0.473215                                  0.26786                                     5.98753                                    27.0156                                                  0.269791                             3.44765                               0.666824                                  0.755792                                                 0.166172                               4.84235       184        95  DCM\n",
      "                         0.45496                                  64.8779                                      64.1405                                        61                                        67.4463                                 29.5169                                   0.850855                                   42                           0.477224                    0.613228                                  20.5158                                                      4140.8                                       0.0330097                                         2381.76                                           0.0278934                                                 0.280644                                  0.542442                                 48.9985                                        54.0833                                 44.5539                   0.61135                                   75.6367                                         69.0072                                  71.054                             0.213342                                    1.11086                             0.469226                                   5.96595                                    24.1389                             3.36371                                                 0.181955                                                  0.368225                                   0.630096                              4.72197                           0.428377                                   1.52989                                    45                           0.423281                   0.911876                               0.432337                                 0.225289                                   5.78864                                                     2654.01                            3.36129                                        25.4965                                                0.180826                                                 0.168352                                  0.386775                             5.36817                             4396.36                               2.06405                   0.913791                    0.748074                                 0.119979                                   29.0778                                                  0.599088                              0.712161                                 0.797564                                  67.0384                                         61.0082                                  65.8624                                    0.900552                                    20                               0.753653                                 0.383818                            0.399906                    0.958853                     0.493576                                  0.291322                                    5.91677                                    34.104                                                   0.343506                             3.41712                               0.581933                                  0.678476                                                 0.237498                               4.63841       160        70  DCM\n",
      "                         0.541682                                 63.666                                       66.8431                                        59.1354                                   68.0808                                 34.4868                                   0.638721                                   17                           0.554098                    0.679973                                  24.8963                                                      5467.04                                      0.039319                                          3723.96                                           0.0342368                                                 0.297759                                  0.564299                                 44.0101                                        50.01                                   38.6531                   0.6058                                    67.4218                                         60.0333                                  63.4573                            0.232648                                    1.04914                             0.24093                                    5.42096                                    48.1919                             3.20991                                                 0.266453                                                  0.371315                                   0.632972                              4.23789                           0.502543                                   0.683638                                   28                           0.552059                   0.910794                               0.394192                                 0.216471                                   6.56189                                                     5074.76                            3.96586                                        64.8465                                                0.150806                                                 0.268761                                  0.53379                              5.40909                             3826.99                               2.55201                   0.909181                    0.700617                                 0.151323                                   36.8991                                                  0.565558                              0.674532                                 0.776687                                  65.3183                                         59.0085                                  59.7631                                    0.975307                                    22                               2.17821                                  0.51333                             0.330617                    0.963837                     0.433818                                  0.571196                                    5.58869                                    44.9697                                                  0.379236                             3.38197                               0.53764                                   0.66164                                                  0.243952                               4.39095       165        77  DCM\n",
      "                         0.487949                                 63.5105                                      66.3702                                        66.0076                                   66.4756                                 30.9899                                   0.792551                                    0                           0.544737                    0.709343                                   9.99433                                                     7212.62                                      0.00999829                                        3669.73                                           0.00930173                                                0.384213                                  0.64413                                  46.645                                         51.0882                                 44.8173                   0.600353                                  73.1697                                         64.0078                                  72.8238                            0.248099                                    0.94022                             0.475017                                   6.57014                                    12.7536                             4.04171                                                 0.0745533                                                 0.428143                                   0.68049                               5.76042                           0.428271                                   0.933375                                   15                           0.537956                   0.940278                               0.351249                                 0.0387479                                  6.95669                                                     5006.28                            4.4764                                         53.6895                                                0.0633878                                                0.355213                                  0.618224                             6.29966                             4601.74                               2.34484                   0.92619                     0.78191                                  0.0163441                                   8.17553                                                 0.782335                              0.867429                                 0.90289                                   69.9344                                         62.0322                                  68.4698                                    0.959855                                     4                              -0.121819                                 0.153695                            0.406719                    0.947725                     0.552704                                  0.0895739                                   6.45042                                    11.6224                                                  0.142902                             3.91438                               0.824458                                  0.871053                                                 0.0821078                              5.63273       159        46  DCM\n",
      "                         0.44215                                  75.4712                                      77.4726                                        50.4876                                   77.4726                                 33.3696                                   0.682415                                   28                           0.432405                    0.65282                                   23.3305                                                      6410.65                                      0.0314969                                         4652.55                                           0.028762                                                  0.323186                                  0.588389                                 49.9176                                        53.0848                                 45.1088                   0.684701                                  77.3586                                         66.0076                                  73.4666                            0.23955                                     0.93413                             0.572882                                   6.37941                                    27.471                              3.68861                                                 0.141072                                                  0.409928                                   0.66565                               4.82492                           0.376924                                   0.989566                                   42                           0.484927                   0.895833                               0.394895                                 0.126507                                   6.59277                                                     4446.18                            3.99835                                        60.2849                                                0.118438                                                 0.273208                                  0.53344                              5.63692                             4183.09                               2.1504                    0.914051                    0.742542                                 0.0932801                                  22.5071                                                  0.646558                              0.757352                                 0.827887                                  70.9279                                         62.0322                                  68.7683                                    0.750761                                    22                               1.95858                                  0.345238                            0.456217                    0.964438                     0.610071                                  0.335177                                    6.16023                                    42.9315                                                  0.288529                             3.69088                               0.567135                                  0.691483                                                 0.147256                               4.94289       165        77  DCM\n",
      "                         0.506483                                 68.6452                                      75.6637                                        66.0076                                   75.6637                                 34.7676                                   0.658675                                   50                           0.807156                    0.912237                                   9.65594                                                     4557.99                                      0.0212039                                         5067.15                                           0.0181193                                                 0.317659                                  0.582954                                 43.3563                                        48.0416                                 38.2134                   0.799458                                  65.1307                                         58.0345                                  61.5951                            0.223658                                    1.18184                             0.604064                                   6.61388                                    17.5129                             3.97357                                                 0.099466                                                  0.331571                                   0.595069                              5.68985                           0.531433                                   0.772885                                   64                           0.754558                   0.929048                               0.373144                                 0.0247355                                  7.46651                                                     4719.92                            4.8118                                         48.4336                                                0.0612309                                                0.310706                                  0.575711                             6.38938                             3758.69                               3.27946                   0.937441                    0.885065                                 0.0544204                                  18.7356                                                  0.647343                              0.765308                                 0.827458                                  59.8821                                         54.0093                                  57.1484                                    1.15505                                      0                               0.798284                                 0.153393                            0.626696                    0.941231                     0.751327                                  0.106246                                    6.59686                                    14.9137                                                  0.142459                             3.98607                               0.793581                                  0.847144                                                 0.0963082                              5.74401       180        70  DCM\n",
      "                         0.654636                                 53.3349                                      60                                             54.231                                    60.1498                                 34.9149                                   0.539259                                   22                           0.58332                     0.704216                                  30.9671                                                      8335.97                                      0.0244762                                         3423.29                                           0.0204643                                                 0.300936                                  0.568201                                 36.0771                                        41                                      34.6145                   0.63263                                   56.5783                                         50.01                                    55.1295                            0.278305                                    1.00414                             0.273795                                   5.71196                                    31.9077                             3.2251                                                  0.209022                                                  0.382182                                   0.64209                               4.51089                           0.673047                                   0.614942                                   24                           0.646812                   0.931159                               0.417802                                 0.106263                                   7.01375                                                     8884.78                            4.28864                                        46.6                                                   0.137059                                                 0.281298                                  0.547248                             5.44119                             3026.6                                2.80983                   0.921325                    0.743809                                 0.123266                                   33.9139                                                  0.567589                              0.683969                                 0.779304                                  55.4404                                         51.0098                                  51.3902                                    1.01253                                     19                               2.42591                                  0.407457                            0.255664                    0.953452                     0.329572                                  0.351525                                    5.60315                                    28.9374                                                  0.353214                             3.18719                               0.64474                                   0.731507                                                 0.216637                               4.31755       173       107  DCM\n",
      "                         0.555929                                 59.8284                                      64.846                                         64.1249                                   66.1967                                 33.2603                                   0.673681                                   32                           0.477999                    0.701353                                   7.49558                                                     3997.62                                      0.0110572                                         4511.33                                           0.00994745                                                0.362951                                  0.624527                                 42.8378                                        49.0102                                 41.4736                   0.620411                                  65.5493                                         60.0083                                  64.68                              0.242088                                    1.07616                             0.403476                                   6.14212                                    12.7871                             3.69061                                                 0.0972883                                                 0.389253                                   0.648464                              5.54062                           0.506669                                   0.805493                                   69                           0.502456                   0.898861                               0.307232                                 0.025841                                   6.7961                                                      2717.55                            4.35709                                        45.8903                                                0.0729576                                                0.35856                                   0.62253                              5.99446                             3903.59                               2.9403                    0.92625                     0.807777                                 0.0259863                                  10.034                                                   0.752049                              0.847228                                 0.88761                                   61.9718                                         58                                       61.5035                                    0.963559                                     2                               0.47574                                  0.179519                            0.423768                    0.928591                     0.534961                                  0.12211                                     6.26857                                    13.5455                                                  0.164504                             3.76948                               0.799267                                  0.8496                                                   0.0953487                              5.60261       180       100  DCM\n",
      "                         0.375753                                 62.4894                                      62.8172                                        61.0082                                   62.8172                                 23.4806                                   0.759106                                   13                           0.518683                    0.626897                                  34.4151                                                      3084.9                                       0.0750783                                         1156.69                                           0.0517267                                                 0.309747                                  0.573002                                 47.0807                                        53.0848                                 42.9778                   0.694875                                  74.7219                                         67.0298                                  70.0095                            0.254701                                    0.881286                            0.394468                                   5.71388                                    39.0077                             3.24339                                                 0.298963                                                  0.342048                                   0.606744                              4.11017                           0.314323                                   0.919426                                   16                           0.619516                   0.943051                               0.41579                                  0.240808                                   6.43019                                                     2073.5                             3.90756                                        18.4065                                                0.118751                                                 0.287242                                  0.553698                             5.25829                             4452.9                                2.38692                   0.925539                    0.763713                                 0.131652                                   42.4136                                                  0.520585                              0.627626                                 0.744826                                  69.8649                                         65.0308                                  69.1633                                    0.811858                                     4                               4.28129                                  0.678308                            0.253873                    0.977763                     0.269834                                  0.718989                                    5.09915                                    51.0698                                                  0.466502                             3.36505                               0.443392                                  0.587427                                                 0.356327                               4.12625       153        61  DCM\n",
      "                         0.596253                                 65.4258                                      74.3236                                        67.0075                                   75.2463                                 39.0103                                   0.602629                                    9                           0.698519                    0.818342                                  50.6417                                                      3585.6                                       0.102935                                          2179                                              0.0704355                                                 0.216017                                  0.467372                                 44.205                                         51.1566                                 42.4507                   0.714687                                  68.2876                                         60.1332                                  65.9217                            0.211038                                    1.21987                             0.328629                                   5.67708                                    26.5777                             2.99002                                                 0.263858                                                  0.306581                                   0.570191                              4.34555                           0.546022                                   0.664648                                    9                           0.725156                   0.949361                               0.371677                                 0.264397                                   6.6726                                                      2853.94                            4.18249                                        37.5056                                                0.210706                                                 0.240247                                  0.502539                             5.0909                              4665.95                               3.78967                   0.934282                    0.807025                                 0.18619                                    47.8771                                                  0.483803                              0.586243                                 0.717295                                  63.8954                                         59.0762                                  63.7514                                    1.23291                                      8                               0.286565                                 0.427686                            0.304608                    0.941168                     0.409706                                  0.347238                                    5.55156                                    25.0946                                                  0.399407                             2.9002                                0.657767                                  0.741263                                                 0.269638                               4.22969       170        68  DCM\n",
      "[100 rows x 80 columns]\n",
      "\n"
     ]
    }
   ],
   "source": [
    "#example using iris data\n",
    "import pandas as pd\n",
    "import os\n",
    "os.environ[\"CUDA_VISIBLE_DEVICES\"]=\"1\"\n",
    "\n",
    "\n",
    "#pandas to h2o frame (alternative)\n",
    "df_h2o = h2o.H2OFrame(df_normal2)\n",
    "#iris_df = h2o.import_file(url)\n",
    "\n",
    "#print data\n",
    "print(df_h2o) #see data"
   ]
  },
  {
   "cell_type": "code",
   "execution_count": 12,
   "metadata": {
    "colab": {
     "base_uri": "https://localhost:8080/"
    },
    "executionInfo": {
     "elapsed": 7614,
     "status": "ok",
     "timestamp": 1709498134695,
     "user": {
      "displayName": "Unai Martínez",
      "userId": "07627802615691193729"
     },
     "user_tz": -60
    },
    "id": "8olzQv9xB2hy",
    "outputId": "78dadf3c-d417-4eb0-d2a3-1f6387fbd25b"
   },
   "outputs": [
    {
     "name": "stdout",
     "output_type": "stream",
     "text": [
      "Requirement already satisfied: scikit-learn in /usr/local/lib/python3.10/dist-packages (1.4.1.post1)\n",
      "Requirement already satisfied: numpy<2.0,>=1.19.5 in /usr/local/lib/python3.10/dist-packages (from scikit-learn) (1.25.2)\n",
      "Requirement already satisfied: scipy>=1.6.0 in /usr/local/lib/python3.10/dist-packages (from scikit-learn) (1.11.4)\n",
      "Requirement already satisfied: joblib>=1.2.0 in /usr/local/lib/python3.10/dist-packages (from scikit-learn) (1.3.2)\n",
      "Requirement already satisfied: threadpoolctl>=2.0.0 in /usr/local/lib/python3.10/dist-packages (from scikit-learn) (3.3.0)\n"
     ]
    }
   ],
   "source": [
    "!pip install -U scikit-learn\n",
    "import sklearn\n",
    "from sklearn.model_selection import train_test_split\n",
    "x_train, x_test = train_test_split(df, test_size=0.15, random_state=17) #TRAIN 85%, TEST 15%"
   ]
  },
  {
   "cell_type": "code",
   "execution_count": 13,
   "metadata": {
    "colab": {
     "base_uri": "https://localhost:8080/"
    },
    "executionInfo": {
     "elapsed": 1555,
     "status": "ok",
     "timestamp": 1709498142056,
     "user": {
      "displayName": "Unai Martínez",
      "userId": "07627802615691193729"
     },
     "user_tz": -60
    },
    "id": "DmbC0P7EC-Wp",
    "outputId": "6b7e1fc8-8f2d-4063-881d-3d503b1129e6"
   },
   "outputs": [
    {
     "name": "stdout",
     "output_type": "stream",
     "text": [
      "Parse progress: |████████████████████████████████████████████████████████████████| (done) 100%\n"
     ]
    }
   ],
   "source": [
    "#pandas to h2o frame type\n",
    "hf = h2o.H2OFrame(x_train)"
   ]
  },
  {
   "cell_type": "code",
   "execution_count": null,
   "metadata": {
    "colab": {
     "base_uri": "https://localhost:8080/",
     "height": 409
    },
    "executionInfo": {
     "elapsed": 1365,
     "status": "ok",
     "timestamp": 1709467676990,
     "user": {
      "displayName": "Unai Martínez",
      "userId": "07627802615691193729"
     },
     "user_tz": -60
    },
    "id": "8iG4B2N6DE84",
    "outputId": "1a356f28-9417-4018-ed55-42ae3bc71e31"
   },
   "outputs": [
    {
     "data": {
      "text/html": [
       "<table class='dataframe'>\n",
       "<thead>\n",
       "<tr><th style=\"text-align: right;\">  original_shape_Elongation_LV_ED</th><th style=\"text-align: right;\">  original_shape_Flatness_LV_ED</th><th style=\"text-align: right;\">  original_shape_LeastAxisLength_LV_ED</th><th style=\"text-align: right;\">  original_shape_MajorAxisLength_LV_ED</th><th style=\"text-align: right;\">  original_shape_Maximum2DDiameterColumn_LV_ED</th><th style=\"text-align: right;\">  original_shape_Maximum2DDiameterRow_LV_ED</th><th style=\"text-align: right;\">  original_shape_Maximum2DDiameterSlice_LV_ED</th><th style=\"text-align: right;\">  original_shape_Maximum3DDiameter_LV_ED</th><th style=\"text-align: right;\">  original_shape_MeshVolume_LV_ED</th><th style=\"text-align: right;\">  original_shape_MinorAxisLength_LV_ED</th><th style=\"text-align: right;\">  original_shape_Sphericity_LV_ED</th><th style=\"text-align: right;\">  original_shape_SurfaceArea_LV_ED</th><th style=\"text-align: right;\">  original_shape_SurfaceVolumeRatio_LV_ED</th><th style=\"text-align: right;\">  original_shape_VoxelVolume_LV_ED</th><th style=\"text-align: right;\">  original_firstorder_10Percentile_LV_ED</th><th style=\"text-align: right;\">  original_firstorder_90Percentile_LV_ED</th><th style=\"text-align: right;\">  original_firstorder_Energy_LV_ED</th><th style=\"text-align: right;\">  original_firstorder_Entropy_LV_ED</th><th style=\"text-align: right;\">  original_firstorder_InterquartileRange_LV_ED</th><th style=\"text-align: right;\">  original_firstorder_Kurtosis_LV_ED</th><th style=\"text-align: right;\">  original_firstorder_Maximum_LV_ED</th><th style=\"text-align: right;\">  original_firstorder_MeanAbsoluteDeviation_LV_ED</th><th style=\"text-align: right;\">  original_firstorder_Mean_LV_ED</th><th style=\"text-align: right;\">  original_firstorder_Median_LV_ED</th><th style=\"text-align: right;\">  original_firstorder_Minimum_LV_ED</th><th style=\"text-align: right;\">  original_firstorder_Range_LV_ED</th><th style=\"text-align: right;\">  original_firstorder_RobustMeanAbsoluteDeviation_LV_ED</th><th style=\"text-align: right;\">  original_firstorder_RootMeanSquared_LV_ED</th><th style=\"text-align: right;\">  original_firstorder_Skewness_LV_ED</th><th style=\"text-align: right;\">  original_firstorder_TotalEnergy_LV_ED</th><th style=\"text-align: right;\">  original_firstorder_Uniformity_LV_ED</th><th style=\"text-align: right;\">  original_firstorder_Variance_LV_ED</th><th style=\"text-align: right;\">  original_glcm_Autocorrelation_LV_ED</th><th style=\"text-align: right;\">  original_glcm_ClusterProminence_LV_ED</th><th style=\"text-align: right;\">  original_glcm_ClusterShade_LV_ED</th><th style=\"text-align: right;\">  original_glcm_ClusterTendency_LV_ED</th><th style=\"text-align: right;\">  original_glcm_Contrast_LV_ED</th><th style=\"text-align: right;\">  original_glcm_Correlation_LV_ED</th><th style=\"text-align: right;\">  original_glcm_DifferenceAverage_LV_ED</th><th style=\"text-align: right;\">  original_glcm_DifferenceEntropy_LV_ED</th><th style=\"text-align: right;\">  original_glcm_DifferenceVariance_LV_ED</th><th style=\"text-align: right;\">  original_glcm_Id_LV_ED</th><th style=\"text-align: right;\">  original_glcm_Idm_LV_ED</th><th style=\"text-align: right;\">  original_glcm_Idmn_LV_ED</th><th style=\"text-align: right;\">  original_glcm_Idn_LV_ED</th><th style=\"text-align: right;\">  original_glcm_Imc1_LV_ED</th><th style=\"text-align: right;\">  original_glcm_Imc2_LV_ED</th><th style=\"text-align: right;\">  original_glcm_InverseVariance_LV_ED</th><th style=\"text-align: right;\">  original_glcm_JointAverage_LV_ED</th><th style=\"text-align: right;\">  original_glcm_JointEnergy_LV_ED</th><th style=\"text-align: right;\">  original_glcm_JointEntropy_LV_ED</th><th style=\"text-align: right;\">  original_glcm_MCC_LV_ED</th><th style=\"text-align: right;\">  original_glcm_MaximumProbability_LV_ED</th><th style=\"text-align: right;\">  original_glcm_SumAverage_LV_ED</th><th style=\"text-align: right;\">  original_glcm_SumEntropy_LV_ED</th><th style=\"text-align: right;\">  original_glcm_SumSquares_LV_ED</th><th style=\"text-align: right;\">  original_gldm_DependenceEntropy_LV_ED</th><th style=\"text-align: right;\">  original_gldm_DependenceNonUniformity_LV_ED</th><th style=\"text-align: right;\">  original_gldm_DependenceNonUniformityNormalized_LV_ED</th><th style=\"text-align: right;\">  original_gldm_DependenceVariance_LV_ED</th><th style=\"text-align: right;\">  original_gldm_GrayLevelNonUniformity_LV_ED</th><th style=\"text-align: right;\">  original_gldm_GrayLevelVariance_LV_ED</th><th style=\"text-align: right;\">  original_gldm_HighGrayLevelEmphasis_LV_ED</th><th style=\"text-align: right;\">  original_gldm_LargeDependenceEmphasis_LV_ED</th><th style=\"text-align: right;\">  original_gldm_LargeDependenceHighGrayLevelEmphasis_LV_ED</th><th style=\"text-align: right;\">  original_gldm_LargeDependenceLowGrayLevelEmphasis_LV_ED</th><th style=\"text-align: right;\">  original_gldm_LowGrayLevelEmphasis_LV_ED</th><th style=\"text-align: right;\">  original_gldm_SmallDependenceEmphasis_LV_ED</th><th style=\"text-align: right;\">  original_gldm_SmallDependenceHighGrayLevelEmphasis_LV_ED</th><th style=\"text-align: right;\">  original_gldm_SmallDependenceLowGrayLevelEmphasis_LV_ED</th><th style=\"text-align: right;\">  original_glrlm_GrayLevelNonUniformity_LV_ED</th><th style=\"text-align: right;\">  original_glrlm_GrayLevelNonUniformityNormalized_LV_ED</th><th style=\"text-align: right;\">  original_glrlm_GrayLevelVariance_LV_ED</th><th style=\"text-align: right;\">  original_glrlm_HighGrayLevelRunEmphasis_LV_ED</th><th style=\"text-align: right;\">  original_glrlm_LongRunEmphasis_LV_ED</th><th style=\"text-align: right;\">  original_glrlm_LongRunHighGrayLevelEmphasis_LV_ED</th><th style=\"text-align: right;\">  original_glrlm_LongRunLowGrayLevelEmphasis_LV_ED</th><th style=\"text-align: right;\">  original_glrlm_LowGrayLevelRunEmphasis_LV_ED</th><th style=\"text-align: right;\">  original_glrlm_RunEntropy_LV_ED</th><th style=\"text-align: right;\">  original_glrlm_RunLengthNonUniformity_LV_ED</th><th style=\"text-align: right;\">  original_glrlm_RunLengthNonUniformityNormalized_LV_ED</th><th style=\"text-align: right;\">  original_glrlm_RunPercentage_LV_ED</th><th style=\"text-align: right;\">  original_glrlm_RunVariance_LV_ED</th><th style=\"text-align: right;\">  original_glrlm_ShortRunEmphasis_LV_ED</th><th style=\"text-align: right;\">  original_glrlm_ShortRunHighGrayLevelEmphasis_LV_ED</th><th style=\"text-align: right;\">  original_glrlm_ShortRunLowGrayLevelEmphasis_LV_ED</th><th style=\"text-align: right;\">  original_glszm_GrayLevelNonUniformity_LV_ED</th><th style=\"text-align: right;\">  original_glszm_GrayLevelNonUniformityNormalized_LV_ED</th><th style=\"text-align: right;\">  original_glszm_GrayLevelVariance_LV_ED</th><th style=\"text-align: right;\">  original_glszm_HighGrayLevelZoneEmphasis_LV_ED</th><th style=\"text-align: right;\">  original_glszm_LargeAreaEmphasis_LV_ED</th><th style=\"text-align: right;\">  original_glszm_LargeAreaHighGrayLevelEmphasis_LV_ED</th><th style=\"text-align: right;\">  original_glszm_LargeAreaLowGrayLevelEmphasis_LV_ED</th><th style=\"text-align: right;\">  original_glszm_LowGrayLevelZoneEmphasis_LV_ED</th><th style=\"text-align: right;\">  original_glszm_SizeZoneNonUniformity_LV_ED</th><th style=\"text-align: right;\">  original_glszm_SizeZoneNonUniformityNormalized_LV_ED</th><th style=\"text-align: right;\">  original_glszm_SmallAreaEmphasis_LV_ED</th><th style=\"text-align: right;\">  original_glszm_SmallAreaHighGrayLevelEmphasis_LV_ED</th><th style=\"text-align: right;\">  original_glszm_SmallAreaLowGrayLevelEmphasis_LV_ED</th><th style=\"text-align: right;\">  original_glszm_ZoneEntropy_LV_ED</th><th style=\"text-align: right;\">  original_glszm_ZonePercentage_LV_ED</th><th style=\"text-align: right;\">  original_glszm_ZoneVariance_LV_ED</th><th style=\"text-align: right;\">  original_ngtdm_Busyness_LV_ED</th><th style=\"text-align: right;\">  original_ngtdm_Coarseness_LV_ED</th><th style=\"text-align: right;\">  original_ngtdm_Complexity_LV_ED</th><th style=\"text-align: right;\">  original_ngtdm_Contrast_LV_ED</th><th style=\"text-align: right;\">  original_ngtdm_Strength_LV_ED</th><th style=\"text-align: right;\">  original_shape_Elongation_RV_ED</th><th style=\"text-align: right;\">  original_shape_Flatness_RV_ED</th><th style=\"text-align: right;\">  original_shape_LeastAxisLength_RV_ED</th><th style=\"text-align: right;\">  original_shape_MajorAxisLength_RV_ED</th><th style=\"text-align: right;\">  original_shape_Maximum2DDiameterColumn_RV_ED</th><th style=\"text-align: right;\">  original_shape_Maximum2DDiameterRow_RV_ED</th><th style=\"text-align: right;\">  original_shape_Maximum2DDiameterSlice_RV_ED</th><th style=\"text-align: right;\">  original_shape_Maximum3DDiameter_RV_ED</th><th style=\"text-align: right;\">  original_shape_MeshVolume_RV_ED</th><th style=\"text-align: right;\">  original_shape_MinorAxisLength_RV_ED</th><th style=\"text-align: right;\">  original_shape_Sphericity_RV_ED</th><th style=\"text-align: right;\">  original_shape_SurfaceArea_RV_ED</th><th style=\"text-align: right;\">  original_shape_SurfaceVolumeRatio_RV_ED</th><th style=\"text-align: right;\">  original_shape_VoxelVolume_RV_ED</th><th style=\"text-align: right;\">  original_firstorder_10Percentile_RV_ED</th><th style=\"text-align: right;\">  original_firstorder_90Percentile_RV_ED</th><th style=\"text-align: right;\">  original_firstorder_Energy_RV_ED</th><th style=\"text-align: right;\">  original_firstorder_Entropy_RV_ED</th><th style=\"text-align: right;\">  original_firstorder_InterquartileRange_RV_ED</th><th style=\"text-align: right;\">  original_firstorder_Kurtosis_RV_ED</th><th style=\"text-align: right;\">  original_firstorder_Maximum_RV_ED</th><th style=\"text-align: right;\">  original_firstorder_MeanAbsoluteDeviation_RV_ED</th><th style=\"text-align: right;\">  original_firstorder_Mean_RV_ED</th><th style=\"text-align: right;\">  original_firstorder_Median_RV_ED</th><th style=\"text-align: right;\">  original_firstorder_Minimum_RV_ED</th><th style=\"text-align: right;\">  original_firstorder_Range_RV_ED</th><th style=\"text-align: right;\">  original_firstorder_RobustMeanAbsoluteDeviation_RV_ED</th><th style=\"text-align: right;\">  original_firstorder_RootMeanSquared_RV_ED</th><th style=\"text-align: right;\">  original_firstorder_Skewness_RV_ED</th><th style=\"text-align: right;\">  original_firstorder_TotalEnergy_RV_ED</th><th style=\"text-align: right;\">  original_firstorder_Uniformity_RV_ED</th><th style=\"text-align: right;\">  original_firstorder_Variance_RV_ED</th><th style=\"text-align: right;\">  original_glcm_Autocorrelation_RV_ED</th><th style=\"text-align: right;\">  original_glcm_ClusterProminence_RV_ED</th><th style=\"text-align: right;\">  original_glcm_ClusterShade_RV_ED</th><th style=\"text-align: right;\">  original_glcm_ClusterTendency_RV_ED</th><th style=\"text-align: right;\">  original_glcm_Contrast_RV_ED</th><th style=\"text-align: right;\">  original_glcm_Correlation_RV_ED</th><th style=\"text-align: right;\">  original_glcm_DifferenceAverage_RV_ED</th><th style=\"text-align: right;\">  original_glcm_DifferenceEntropy_RV_ED</th><th style=\"text-align: right;\">  original_glcm_DifferenceVariance_RV_ED</th><th style=\"text-align: right;\">  original_glcm_Id_RV_ED</th><th style=\"text-align: right;\">  original_glcm_Idm_RV_ED</th><th style=\"text-align: right;\">  original_glcm_Idmn_RV_ED</th><th style=\"text-align: right;\">  original_glcm_Idn_RV_ED</th><th style=\"text-align: right;\">  original_glcm_Imc1_RV_ED</th><th style=\"text-align: right;\">  original_glcm_Imc2_RV_ED</th><th style=\"text-align: right;\">  original_glcm_InverseVariance_RV_ED</th><th style=\"text-align: right;\">  original_glcm_JointAverage_RV_ED</th><th style=\"text-align: right;\">  original_glcm_JointEnergy_RV_ED</th><th style=\"text-align: right;\">  original_glcm_JointEntropy_RV_ED</th><th style=\"text-align: right;\">  original_glcm_MCC_RV_ED</th><th style=\"text-align: right;\">  original_glcm_MaximumProbability_RV_ED</th><th style=\"text-align: right;\">  original_glcm_SumAverage_RV_ED</th><th style=\"text-align: right;\">  original_glcm_SumEntropy_RV_ED</th><th style=\"text-align: right;\">  original_glcm_SumSquares_RV_ED</th><th style=\"text-align: right;\">  original_gldm_DependenceEntropy_RV_ED</th><th style=\"text-align: right;\">  original_gldm_DependenceNonUniformity_RV_ED</th><th style=\"text-align: right;\">  original_gldm_DependenceNonUniformityNormalized_RV_ED</th><th style=\"text-align: right;\">  original_gldm_DependenceVariance_RV_ED</th><th style=\"text-align: right;\">  original_gldm_GrayLevelNonUniformity_RV_ED</th><th style=\"text-align: right;\">  original_gldm_GrayLevelVariance_RV_ED</th><th style=\"text-align: right;\">  original_gldm_HighGrayLevelEmphasis_RV_ED</th><th style=\"text-align: right;\">  original_gldm_LargeDependenceEmphasis_RV_ED</th><th style=\"text-align: right;\">  original_gldm_LargeDependenceHighGrayLevelEmphasis_RV_ED</th><th style=\"text-align: right;\">  original_gldm_LargeDependenceLowGrayLevelEmphasis_RV_ED</th><th style=\"text-align: right;\">  original_gldm_LowGrayLevelEmphasis_RV_ED</th><th style=\"text-align: right;\">  original_gldm_SmallDependenceEmphasis_RV_ED</th><th style=\"text-align: right;\">  original_gldm_SmallDependenceHighGrayLevelEmphasis_RV_ED</th><th style=\"text-align: right;\">  original_gldm_SmallDependenceLowGrayLevelEmphasis_RV_ED</th><th style=\"text-align: right;\">  original_glrlm_GrayLevelNonUniformity_RV_ED</th><th style=\"text-align: right;\">  original_glrlm_GrayLevelNonUniformityNormalized_RV_ED</th><th style=\"text-align: right;\">  original_glrlm_GrayLevelVariance_RV_ED</th><th style=\"text-align: right;\">  original_glrlm_HighGrayLevelRunEmphasis_RV_ED</th><th style=\"text-align: right;\">  original_glrlm_LongRunEmphasis_RV_ED</th><th style=\"text-align: right;\">  original_glrlm_LongRunHighGrayLevelEmphasis_RV_ED</th><th style=\"text-align: right;\">  original_glrlm_LongRunLowGrayLevelEmphasis_RV_ED</th><th style=\"text-align: right;\">  original_glrlm_LowGrayLevelRunEmphasis_RV_ED</th><th style=\"text-align: right;\">  original_glrlm_RunEntropy_RV_ED</th><th style=\"text-align: right;\">  original_glrlm_RunLengthNonUniformity_RV_ED</th><th style=\"text-align: right;\">  original_glrlm_RunLengthNonUniformityNormalized_RV_ED</th><th style=\"text-align: right;\">  original_glrlm_RunPercentage_RV_ED</th><th style=\"text-align: right;\">  original_glrlm_RunVariance_RV_ED</th><th style=\"text-align: right;\">  original_glrlm_ShortRunEmphasis_RV_ED</th><th style=\"text-align: right;\">  original_glrlm_ShortRunHighGrayLevelEmphasis_RV_ED</th><th style=\"text-align: right;\">  original_glrlm_ShortRunLowGrayLevelEmphasis_RV_ED</th><th style=\"text-align: right;\">  original_glszm_GrayLevelNonUniformity_RV_ED</th><th style=\"text-align: right;\">  original_glszm_GrayLevelNonUniformityNormalized_RV_ED</th><th style=\"text-align: right;\">  original_glszm_GrayLevelVariance_RV_ED</th><th style=\"text-align: right;\">  original_glszm_HighGrayLevelZoneEmphasis_RV_ED</th><th style=\"text-align: right;\">  original_glszm_LargeAreaEmphasis_RV_ED</th><th style=\"text-align: right;\">  original_glszm_LargeAreaHighGrayLevelEmphasis_RV_ED</th><th style=\"text-align: right;\">  original_glszm_LargeAreaLowGrayLevelEmphasis_RV_ED</th></tr>\n",
       "</thead>\n",
       "<tbody>\n",
       "<tr><td style=\"text-align: right;\">                         0.565513</td><td style=\"text-align: right;\">                      0.114993 </td><td style=\"text-align: right;\">                               8.10554</td><td style=\"text-align: right;\">                               70.4872</td><td style=\"text-align: right;\">                                       53.3385</td><td style=\"text-align: right;\">                                    75.1066</td><td style=\"text-align: right;\">                                      77.026 </td><td style=\"text-align: right;\">                                 77.6724</td><td style=\"text-align: right;\">                         12025   </td><td style=\"text-align: right;\">                               39.8614</td><td style=\"text-align: right;\">                         0.390277</td><td style=\"text-align: right;\">                           6503.79</td><td style=\"text-align: right;\">                                 0.540858</td><td style=\"text-align: right;\">                             12088</td><td style=\"text-align: right;\">                                      61</td><td style=\"text-align: right;\">                                     104</td><td style=\"text-align: right;\">                       9.2996e+07 </td><td style=\"text-align: right;\">                            1.54405</td><td style=\"text-align: right;\">                                            25</td><td style=\"text-align: right;\">                             2.4871 </td><td style=\"text-align: right;\">                                124</td><td style=\"text-align: right;\">                                          13.4673</td><td style=\"text-align: right;\">                         86.1996</td><td style=\"text-align: right;\">                                91</td><td style=\"text-align: right;\">                                 39</td><td style=\"text-align: right;\">                               85</td><td style=\"text-align: right;\">                                                10.1449</td><td style=\"text-align: right;\">                                    87.7112</td><td style=\"text-align: right;\">                          -0.651043 </td><td style=\"text-align: right;\">                            9.2996e+07 </td><td style=\"text-align: right;\">                             0.388573 </td><td style=\"text-align: right;\">                             262.875</td><td style=\"text-align: right;\">                               9.131 </td><td style=\"text-align: right;\">                                5.66223</td><td style=\"text-align: right;\">                        -0.612681 </td><td style=\"text-align: right;\">                              1.39278</td><td style=\"text-align: right;\">                      0.500202</td><td style=\"text-align: right;\">                         0.46664 </td><td style=\"text-align: right;\">                               0.429644</td><td style=\"text-align: right;\">                                1.08508</td><td style=\"text-align: right;\">                                0.295046</td><td style=\"text-align: right;\">                0.796584</td><td style=\"text-align: right;\">                 0.792234</td><td style=\"text-align: right;\">                  0.971911</td><td style=\"text-align: right;\">                 0.916383</td><td style=\"text-align: right;\">                 -0.182035</td><td style=\"text-align: right;\">                  0.570768</td><td style=\"text-align: right;\">                             0.371246</td><td style=\"text-align: right;\">                           2.98458</td><td style=\"text-align: right;\">                        0.217333 </td><td style=\"text-align: right;\">                           2.70882</td><td style=\"text-align: right;\">                 0.531543</td><td style=\"text-align: right;\">                               0.393472 </td><td style=\"text-align: right;\">                         5.96917</td><td style=\"text-align: right;\">                         2.14661</td><td style=\"text-align: right;\">                        0.473245</td><td style=\"text-align: right;\">                                5.8705 </td><td style=\"text-align: right;\">                                      580.225</td><td style=\"text-align: right;\">                                              0.0480001</td><td style=\"text-align: right;\">                                38.4152 </td><td style=\"text-align: right;\">                                    4697.07 </td><td style=\"text-align: right;\">                               0.508963</td><td style=\"text-align: right;\">                                    9.16438</td><td style=\"text-align: right;\">                                     238.846 </td><td style=\"text-align: right;\">                                                   2150.41</td><td style=\"text-align: right;\">                                                31.0874  </td><td style=\"text-align: right;\">                                 0.148205 </td><td style=\"text-align: right;\">                                    0.0168033</td><td style=\"text-align: right;\">                                                  0.128161</td><td style=\"text-align: right;\">                                               0.0049199 </td><td style=\"text-align: right;\">                                     1982.39 </td><td style=\"text-align: right;\">                                              0.331162 </td><td style=\"text-align: right;\">                                0.656433</td><td style=\"text-align: right;\">                                        9.14222</td><td style=\"text-align: right;\">                              16.404  </td><td style=\"text-align: right;\">                                            153.144</td><td style=\"text-align: right;\">                                         2.10292  </td><td style=\"text-align: right;\">                                     0.165731 </td><td style=\"text-align: right;\">                          3.6745 </td><td style=\"text-align: right;\">                                      2381.91</td><td style=\"text-align: right;\">                                               0.359949</td><td style=\"text-align: right;\">                            0.493948</td><td style=\"text-align: right;\">                          9.1525  </td><td style=\"text-align: right;\">                               0.601807</td><td style=\"text-align: right;\">                                             5.5216 </td><td style=\"text-align: right;\">                                          0.108648 </td><td style=\"text-align: right;\">                                      33.3429</td><td style=\"text-align: right;\">                                              0.317551 </td><td style=\"text-align: right;\">                                 1.1142 </td><td style=\"text-align: right;\">                                         5.07619</td><td style=\"text-align: right;\">                              521166    </td><td style=\"text-align: right;\">                                          4.7518e+06 </td><td style=\"text-align: right;\">                                         64924.7    </td><td style=\"text-align: right;\">                                       0.515344</td><td style=\"text-align: right;\">                                     23.019 </td><td style=\"text-align: right;\">                                              0.219229</td><td style=\"text-align: right;\">                                0.472243</td><td style=\"text-align: right;\">                                              2.11013</td><td style=\"text-align: right;\">                                           0.26327  </td><td style=\"text-align: right;\">                           4.37332</td><td style=\"text-align: right;\">                            0.0086863</td><td style=\"text-align: right;\">                         507912    </td><td style=\"text-align: right;\">                      139.401  </td><td style=\"text-align: right;\">                      0.000696014</td><td style=\"text-align: right;\">                          2.32846</td><td style=\"text-align: right;\">                     0.0314228 </td><td style=\"text-align: right;\">                      0.0034916</td><td style=\"text-align: right;\">                         0.938198</td><td style=\"text-align: right;\">                       0.181251</td><td style=\"text-align: right;\">                               9.05138</td><td style=\"text-align: right;\">                               49.9383</td><td style=\"text-align: right;\">                                       56.2228</td><td style=\"text-align: right;\">                                    55.3263</td><td style=\"text-align: right;\">                                      55.2268</td><td style=\"text-align: right;\">                                 58.112 </td><td style=\"text-align: right;\">                         14374.5 </td><td style=\"text-align: right;\">                               46.852 </td><td style=\"text-align: right;\">                         0.519592</td><td style=\"text-align: right;\">                           5502.37</td><td style=\"text-align: right;\">                                 0.382787</td><td style=\"text-align: right;\">                             14417</td><td style=\"text-align: right;\">                                      64</td><td style=\"text-align: right;\">                                     117</td><td style=\"text-align: right;\">                       1.36947e+08</td><td style=\"text-align: right;\">                            1.63435</td><td style=\"text-align: right;\">                                         26   </td><td style=\"text-align: right;\">                             2.61974</td><td style=\"text-align: right;\">                                140</td><td style=\"text-align: right;\">                                          15.9014</td><td style=\"text-align: right;\">                         95.5016</td><td style=\"text-align: right;\">                               101</td><td style=\"text-align: right;\">                                 39</td><td style=\"text-align: right;\">                              101</td><td style=\"text-align: right;\">                                                11.6146</td><td style=\"text-align: right;\">                                    97.4627</td><td style=\"text-align: right;\">                         -0.719415  </td><td style=\"text-align: right;\">                            1.36947e+08</td><td style=\"text-align: right;\">                             0.373483 </td><td style=\"text-align: right;\">                             378.417</td><td style=\"text-align: right;\">                              12.0406</td><td style=\"text-align: right;\">                                11.2635</td><td style=\"text-align: right;\">                         -2.25015 </td><td style=\"text-align: right;\">                              2.01697</td><td style=\"text-align: right;\">                      0.522487</td><td style=\"text-align: right;\">                         0.585016</td><td style=\"text-align: right;\">                               0.411685</td><td style=\"text-align: right;\">                                1.132  </td><td style=\"text-align: right;\">                                0.339134</td><td style=\"text-align: right;\">                0.811542</td><td style=\"text-align: right;\">                 0.805222</td><td style=\"text-align: right;\">                  0.980934</td><td style=\"text-align: right;\">                 0.933946</td><td style=\"text-align: right;\">                 -0.215066</td><td style=\"text-align: right;\">                  0.654697</td><td style=\"text-align: right;\">                             0.324845</td><td style=\"text-align: right;\">                           3.41565</td><td style=\"text-align: right;\">                        0.231017 </td><td style=\"text-align: right;\">                           2.79562</td><td style=\"text-align: right;\">                 0.598927</td><td style=\"text-align: right;\">                               0.425358 </td><td style=\"text-align: right;\">                         6.83129</td><td style=\"text-align: right;\">                         2.24637</td><td style=\"text-align: right;\">                        0.634865</td><td style=\"text-align: right;\">                                5.80418</td><td style=\"text-align: right;\">                                      681.138</td><td style=\"text-align: right;\">                                              0.0472454</td><td style=\"text-align: right;\">                                 49.4755</td><td style=\"text-align: right;\">                                    5384.5  </td><td style=\"text-align: right;\">                               0.68933 </td><td style=\"text-align: right;\">                                   11.9309 </td><td style=\"text-align: right;\">                                     294.096 </td><td style=\"text-align: right;\">                                                   4077.45</td><td style=\"text-align: right;\">                                                 25.619  </td><td style=\"text-align: right;\">                                 0.119861 </td><td style=\"text-align: right;\">                                    0.0158191</td><td style=\"text-align: right;\">                                                  0.15093 </td><td style=\"text-align: right;\">                                               0.00441793</td><td style=\"text-align: right;\">                                     1921.88 </td><td style=\"text-align: right;\">                                              0.303926 </td><td style=\"text-align: right;\">                                0.804567</td><td style=\"text-align: right;\">                                       10.3094 </td><td style=\"text-align: right;\">                              17.6753 </td><td style=\"text-align: right;\">                                           246.087 </td><td style=\"text-align: right;\">                                         1.54358  </td><td style=\"text-align: right;\">                                     0.151342 </td><td style=\"text-align: right;\">                          3.89882</td><td style=\"text-align: right;\">                                      2244.13</td><td style=\"text-align: right;\">                                               0.334271</td><td style=\"text-align: right;\">                            0.436909</td><td style=\"text-align: right;\">                         10.1627  </td><td style=\"text-align: right;\">                               0.586791</td><td style=\"text-align: right;\">                                             5.5476 </td><td style=\"text-align: right;\">                                          0.101559 </td><td style=\"text-align: right;\">                                      32.6529</td><td style=\"text-align: right;\">                                              0.269859 </td><td style=\"text-align: right;\">                                 2.80732</td><td style=\"text-align: right;\">                                         10.0661</td><td style=\"text-align: right;\">                               628774   </td><td style=\"text-align: right;\">                                          8.55049e+06</td><td style=\"text-align: right;\">                                          54858.3   </td></tr>\n",
       "<tr><td style=\"text-align: right;\">                         0.540562</td><td style=\"text-align: right;\">                      0.155764 </td><td style=\"text-align: right;\">                               9.60097</td><td style=\"text-align: right;\">                               61.6379</td><td style=\"text-align: right;\">                                       43.7379</td><td style=\"text-align: right;\">                                    68.469 </td><td style=\"text-align: right;\">                                      68     </td><td style=\"text-align: right;\">                                 68.469 </td><td style=\"text-align: right;\">                          8195.58</td><td style=\"text-align: right;\">                               33.3191</td><td style=\"text-align: right;\">                         0.356759</td><td style=\"text-align: right;\">                           5510.13</td><td style=\"text-align: right;\">                                 0.672329</td><td style=\"text-align: right;\">                              8254</td><td style=\"text-align: right;\">                                      84</td><td style=\"text-align: right;\">                                     137</td><td style=\"text-align: right;\">                       1.08039e+08</td><td style=\"text-align: right;\">                            1.83049</td><td style=\"text-align: right;\">                                            32</td><td style=\"text-align: right;\">                             2.55451</td><td style=\"text-align: right;\">                                180</td><td style=\"text-align: right;\">                                          17.2441</td><td style=\"text-align: right;\">                        112.518 </td><td style=\"text-align: right;\">                               115</td><td style=\"text-align: right;\">                                 38</td><td style=\"text-align: right;\">                              142</td><td style=\"text-align: right;\">                                                12.9724</td><td style=\"text-align: right;\">                                   114.408 </td><td style=\"text-align: right;\">                          -0.352114 </td><td style=\"text-align: right;\">                            1.08039e+08</td><td style=\"text-align: right;\">                             0.310654 </td><td style=\"text-align: right;\">                             428.891</td><td style=\"text-align: right;\">                              17.0436</td><td style=\"text-align: right;\">                               10.7077 </td><td style=\"text-align: right;\">                        -0.848677 </td><td style=\"text-align: right;\">                              1.98939</td><td style=\"text-align: right;\">                      0.902027</td><td style=\"text-align: right;\">                         0.373481</td><td style=\"text-align: right;\">                               0.632801</td><td style=\"text-align: right;\">                                1.35598</td><td style=\"text-align: right;\">                                0.456605</td><td style=\"text-align: right;\">                0.72383 </td><td style=\"text-align: right;\">                 0.710258</td><td style=\"text-align: right;\">                  0.982798</td><td style=\"text-align: right;\">                 0.924478</td><td style=\"text-align: right;\">                 -0.126132</td><td style=\"text-align: right;\">                  0.45476 </td><td style=\"text-align: right;\">                             0.439203</td><td style=\"text-align: right;\">                           4.09532</td><td style=\"text-align: right;\">                        0.134168 </td><td style=\"text-align: right;\">                           3.31814</td><td style=\"text-align: right;\">                 0.390098</td><td style=\"text-align: right;\">                               0.20676  </td><td style=\"text-align: right;\">                         8.19064</td><td style=\"text-align: right;\">                         2.44759</td><td style=\"text-align: right;\">                        0.722855</td><td style=\"text-align: right;\">                                5.89783</td><td style=\"text-align: right;\">                                      450.916</td><td style=\"text-align: right;\">                                              0.05463  </td><td style=\"text-align: right;\">                                28.4902 </td><td style=\"text-align: right;\">                                    2564.14 </td><td style=\"text-align: right;\">                               0.787122</td><td style=\"text-align: right;\">                                   17.0225 </td><td style=\"text-align: right;\">                                     153.126 </td><td style=\"text-align: right;\">                                                   2892   </td><td style=\"text-align: right;\">                                                 9.1989  </td><td style=\"text-align: right;\">                                 0.0751689</td><td style=\"text-align: right;\">                                    0.0297136</td><td style=\"text-align: right;\">                                                  0.380599</td><td style=\"text-align: right;\">                                               0.0042346 </td><td style=\"text-align: right;\">                                     1472.48 </td><td style=\"text-align: right;\">                                              0.292065 </td><td style=\"text-align: right;\">                                0.884982</td><td style=\"text-align: right;\">                                       15.995  </td><td style=\"text-align: right;\">                               7.8959 </td><td style=\"text-align: right;\">                                            150.83 </td><td style=\"text-align: right;\">                                         0.487603 </td><td style=\"text-align: right;\">                                     0.0839996</td><td style=\"text-align: right;\">                          3.43936</td><td style=\"text-align: right;\">                                      2537.73</td><td style=\"text-align: right;\">                                               0.465391</td><td style=\"text-align: right;\">                            0.609075</td><td style=\"text-align: right;\">                          3.90093 </td><td style=\"text-align: right;\">                               0.691019</td><td style=\"text-align: right;\">                                            10.58   </td><td style=\"text-align: right;\">                                          0.0626699</td><td style=\"text-align: right;\">                                      53.4088</td><td style=\"text-align: right;\">                                              0.389845 </td><td style=\"text-align: right;\">                                 2.21429</td><td style=\"text-align: right;\">                                        10.5693 </td><td style=\"text-align: right;\">                              148153    </td><td style=\"text-align: right;\">                                          2.63645e+06</td><td style=\"text-align: right;\">                                          9492.47   </td><td style=\"text-align: right;\">                                       0.214416</td><td style=\"text-align: right;\">                                     40.7226</td><td style=\"text-align: right;\">                                              0.297245</td><td style=\"text-align: right;\">                                0.56249 </td><td style=\"text-align: right;\">                                              5.4579 </td><td style=\"text-align: right;\">                                           0.123509 </td><td style=\"text-align: right;\">                           4.12781</td><td style=\"text-align: right;\">                            0.016598 </td><td style=\"text-align: right;\">                         144523    </td><td style=\"text-align: right;\">                       32.6436 </td><td style=\"text-align: right;\">                      0.000893672</td><td style=\"text-align: right;\">                         10.6398 </td><td style=\"text-align: right;\">                     0.0186458 </td><td style=\"text-align: right;\">                      0.0163252</td><td style=\"text-align: right;\">                         0.973126</td><td style=\"text-align: right;\">                       0.208702</td><td style=\"text-align: right;\">                               9.96108</td><td style=\"text-align: right;\">                               47.7288</td><td style=\"text-align: right;\">                                       54.037 </td><td style=\"text-align: right;\">                                    54.1202</td><td style=\"text-align: right;\">                                      53.2353</td><td style=\"text-align: right;\">                                 54.2679</td><td style=\"text-align: right;\">                         15358.8 </td><td style=\"text-align: right;\">                               46.4461</td><td style=\"text-align: right;\">                         0.52144 </td><td style=\"text-align: right;\">                           5730.4 </td><td style=\"text-align: right;\">                                 0.373102</td><td style=\"text-align: right;\">                             15402</td><td style=\"text-align: right;\">                                      98</td><td style=\"text-align: right;\">                                     162</td><td style=\"text-align: right;\">                       2.91353e+08</td><td style=\"text-align: right;\">                            1.95588</td><td style=\"text-align: right;\">                                         29   </td><td style=\"text-align: right;\">                             3.22215</td><td style=\"text-align: right;\">                                192</td><td style=\"text-align: right;\">                                          18.9943</td><td style=\"text-align: right;\">                        135.414 </td><td style=\"text-align: right;\">                               141</td><td style=\"text-align: right;\">                                 42</td><td style=\"text-align: right;\">                              150</td><td style=\"text-align: right;\">                                                13.0924</td><td style=\"text-align: right;\">                                   137.538 </td><td style=\"text-align: right;\">                         -0.818556  </td><td style=\"text-align: right;\">                            2.91353e+08</td><td style=\"text-align: right;\">                             0.304207 </td><td style=\"text-align: right;\">                             579.648</td><td style=\"text-align: right;\">                              25.3334</td><td style=\"text-align: right;\">                                26.4695</td><td style=\"text-align: right;\">                         -3.61301 </td><td style=\"text-align: right;\">                              2.66803</td><td style=\"text-align: right;\">                      1.02056 </td><td style=\"text-align: right;\">                         0.443684</td><td style=\"text-align: right;\">                               0.654319</td><td style=\"text-align: right;\">                                1.44325</td><td style=\"text-align: right;\">                                0.553664</td><td style=\"text-align: right;\">                0.724797</td><td style=\"text-align: right;\">                 0.708919</td><td style=\"text-align: right;\">                  0.980869</td><td style=\"text-align: right;\">                 0.92298 </td><td style=\"text-align: right;\">                 -0.135916</td><td style=\"text-align: right;\">                  0.528762</td><td style=\"text-align: right;\">                             0.415809</td><td style=\"text-align: right;\">                           4.99214</td><td style=\"text-align: right;\">                        0.138488 </td><td style=\"text-align: right;\">                           3.50706</td><td style=\"text-align: right;\">                 0.46901 </td><td style=\"text-align: right;\">                               0.275304 </td><td style=\"text-align: right;\">                         9.98429</td><td style=\"text-align: right;\">                         2.60196</td><td style=\"text-align: right;\">                        0.922147</td><td style=\"text-align: right;\">                                6.22099</td><td style=\"text-align: right;\">                                      685.659</td><td style=\"text-align: right;\">                                              0.0445175</td><td style=\"text-align: right;\">                                 41.6134</td><td style=\"text-align: right;\">                                    4685.39 </td><td style=\"text-align: right;\">                               1.0039  </td><td style=\"text-align: right;\">                                   25.2974 </td><td style=\"text-align: right;\">                                     195.369 </td><td style=\"text-align: right;\">                                                   5320   </td><td style=\"text-align: right;\">                                                  7.8503 </td><td style=\"text-align: right;\">                                 0.0498402</td><td style=\"text-align: right;\">                                    0.0268308</td><td style=\"text-align: right;\">                                                  0.581095</td><td style=\"text-align: right;\">                                               0.00223946</td><td style=\"text-align: right;\">                                     2203.57 </td><td style=\"text-align: right;\">                                              0.253416 </td><td style=\"text-align: right;\">                                1.25074 </td><td style=\"text-align: right;\">                                       23.998  </td><td style=\"text-align: right;\">                               7.79698</td><td style=\"text-align: right;\">                                           208.834 </td><td style=\"text-align: right;\">                                         0.332589 </td><td style=\"text-align: right;\">                                     0.0559371</td><td style=\"text-align: right;\">                          3.79084</td><td style=\"text-align: right;\">                                      4091.49</td><td style=\"text-align: right;\">                                               0.446198</td><td style=\"text-align: right;\">                            0.561545</td><td style=\"text-align: right;\">                          3.75523 </td><td style=\"text-align: right;\">                               0.682626</td><td style=\"text-align: right;\">                                            15.7186 </td><td style=\"text-align: right;\">                                          0.0412407</td><td style=\"text-align: right;\">                                      42.2877</td><td style=\"text-align: right;\">                                              0.193094 </td><td style=\"text-align: right;\">                                 3.66815</td><td style=\"text-align: right;\">                                         21.2009</td><td style=\"text-align: right;\">                               318080   </td><td style=\"text-align: right;\">                                          8.62383e+06</td><td style=\"text-align: right;\">                                          12606.1   </td></tr>\n",
       "<tr><td style=\"text-align: right;\">                         0.652601</td><td style=\"text-align: right;\">                      0.26004  </td><td style=\"text-align: right;\">                              14.8606 </td><td style=\"text-align: right;\">                               57.1475</td><td style=\"text-align: right;\">                                       46.5296</td><td style=\"text-align: right;\">                                    65.8635</td><td style=\"text-align: right;\">                                      62.0725</td><td style=\"text-align: right;\">                                 70.1142</td><td style=\"text-align: right;\">                         13300.2 </td><td style=\"text-align: right;\">                               37.2945</td><td style=\"text-align: right;\">                         0.447019</td><td style=\"text-align: right;\">                           6072.9 </td><td style=\"text-align: right;\">                                 0.456604</td><td style=\"text-align: right;\">                             13383</td><td style=\"text-align: right;\">                                      69</td><td style=\"text-align: right;\">                                     127</td><td style=\"text-align: right;\">                       1.29922e+08</td><td style=\"text-align: right;\">                            2.04802</td><td style=\"text-align: right;\">                                            28</td><td style=\"text-align: right;\">                             7.25326</td><td style=\"text-align: right;\">                                255</td><td style=\"text-align: right;\">                                          19.3396</td><td style=\"text-align: right;\">                         94.7828</td><td style=\"text-align: right;\">                                90</td><td style=\"text-align: right;\">                                  8</td><td style=\"text-align: right;\">                              247</td><td style=\"text-align: right;\">                                                11.9251</td><td style=\"text-align: right;\">                                    98.529 </td><td style=\"text-align: right;\">                           1.44243  </td><td style=\"text-align: right;\">                            1.29922e+08</td><td style=\"text-align: right;\">                             0.319302 </td><td style=\"text-align: right;\">                             724.181</td><td style=\"text-align: right;\">                              19.8625</td><td style=\"text-align: right;\">                              118.242  </td><td style=\"text-align: right;\">                        12.3531   </td><td style=\"text-align: right;\">                              4.12864</td><td style=\"text-align: right;\">                      0.697151</td><td style=\"text-align: right;\">                         0.710002</td><td style=\"text-align: right;\">                               0.447129</td><td style=\"text-align: right;\">                                1.24347</td><td style=\"text-align: right;\">                                0.492043</td><td style=\"text-align: right;\">                0.807422</td><td style=\"text-align: right;\">                 0.79932 </td><td style=\"text-align: right;\">                  0.994535</td><td style=\"text-align: right;\">                 0.964196</td><td style=\"text-align: right;\">                 -0.290198</td><td style=\"text-align: right;\">                  0.82134 </td><td style=\"text-align: right;\">                             0.314581</td><td style=\"text-align: right;\">                           4.35941</td><td style=\"text-align: right;\">                        0.186479 </td><td style=\"text-align: right;\">                           3.42126</td><td style=\"text-align: right;\">                 0.753842</td><td style=\"text-align: right;\">                               0.38228  </td><td style=\"text-align: right;\">                         8.71882</td><td style=\"text-align: right;\">                         2.75117</td><td style=\"text-align: right;\">                        1.20645 </td><td style=\"text-align: right;\">                                6.4424 </td><td style=\"text-align: right;\">                                      553.966</td><td style=\"text-align: right;\">                                              0.0413933</td><td style=\"text-align: right;\">                                58.101  </td><td style=\"text-align: right;\">                                    4273.22 </td><td style=\"text-align: right;\">                               1.2456  </td><td style=\"text-align: right;\">                                   19.8547 </td><td style=\"text-align: right;\">                                     288.01  </td><td style=\"text-align: right;\">                                                   5185.63</td><td style=\"text-align: right;\">                                                17.8298  </td><td style=\"text-align: right;\">                                 0.065514 </td><td style=\"text-align: right;\">                                    0.0295838</td><td style=\"text-align: right;\">                                                  0.585094</td><td style=\"text-align: right;\">                                               0.00376803</td><td style=\"text-align: right;\">                                     1447.07 </td><td style=\"text-align: right;\">                                              0.236515 </td><td style=\"text-align: right;\">                                1.88059 </td><td style=\"text-align: right;\">                                       21.1982 </td><td style=\"text-align: right;\">                              11.442  </td><td style=\"text-align: right;\">                                            206.419</td><td style=\"text-align: right;\">                                         0.718291 </td><td style=\"text-align: right;\">                                     0.0703116</td><td style=\"text-align: right;\">                          4.37224</td><td style=\"text-align: right;\">                                      2289.75</td><td style=\"text-align: right;\">                                               0.368499</td><td style=\"text-align: right;\">                            0.455279</td><td style=\"text-align: right;\">                          6.02794 </td><td style=\"text-align: right;\">                               0.627784</td><td style=\"text-align: right;\">                                            13.6504 </td><td style=\"text-align: right;\">                                          0.0474514</td><td style=\"text-align: right;\">                                      51.1722</td><td style=\"text-align: right;\">                                              0.169444 </td><td style=\"text-align: right;\">                                 4.21096</td><td style=\"text-align: right;\">                                        19.2715 </td><td style=\"text-align: right;\">                              164767    </td><td style=\"text-align: right;\">                                          2.74961e+06</td><td style=\"text-align: right;\">                                         10361.3    </td><td style=\"text-align: right;\">                                       0.156011</td><td style=\"text-align: right;\">                                     94.7947</td><td style=\"text-align: right;\">                                              0.31389 </td><td style=\"text-align: right;\">                                0.579267</td><td style=\"text-align: right;\">                                             10.4957 </td><td style=\"text-align: right;\">                                           0.108509 </td><td style=\"text-align: right;\">                           5.0291 </td><td style=\"text-align: right;\">                            0.0225659</td><td style=\"text-align: right;\">                         162804    </td><td style=\"text-align: right;\">                       18.6717 </td><td style=\"text-align: right;\">                      0.000814261</td><td style=\"text-align: right;\">                         22.4373 </td><td style=\"text-align: right;\">                     0.00867521</td><td style=\"text-align: right;\">                      0.0604615</td><td style=\"text-align: right;\">                         0.68675 </td><td style=\"text-align: right;\">                       0.274884</td><td style=\"text-align: right;\">                              12.935  </td><td style=\"text-align: right;\">                               47.0562</td><td style=\"text-align: right;\">                                       50.2494</td><td style=\"text-align: right;\">                                    48.7647</td><td style=\"text-align: right;\">                                      38.1182</td><td style=\"text-align: right;\">                                 50.8527</td><td style=\"text-align: right;\">                         11457   </td><td style=\"text-align: right;\">                               32.3159</td><td style=\"text-align: right;\">                         0.589602</td><td style=\"text-align: right;\">                           4168.44</td><td style=\"text-align: right;\">                                 0.363832</td><td style=\"text-align: right;\">                             11494</td><td style=\"text-align: right;\">                                      99</td><td style=\"text-align: right;\">                                     160</td><td style=\"text-align: right;\">                       2.07182e+08</td><td style=\"text-align: right;\">                            2.03778</td><td style=\"text-align: right;\">                                         30   </td><td style=\"text-align: right;\">                             3.81094</td><td style=\"text-align: right;\">                                211</td><td style=\"text-align: right;\">                                          19.0952</td><td style=\"text-align: right;\">                        132.007 </td><td style=\"text-align: right;\">                               135</td><td style=\"text-align: right;\">                                 14</td><td style=\"text-align: right;\">                              197</td><td style=\"text-align: right;\">                                                13.1399</td><td style=\"text-align: right;\">                                   134.258 </td><td style=\"text-align: right;\">                         -0.714315  </td><td style=\"text-align: right;\">                            2.07182e+08</td><td style=\"text-align: right;\">                             0.290065 </td><td style=\"text-align: right;\">                             599.328</td><td style=\"text-align: right;\">                              35.0875</td><td style=\"text-align: right;\">                                35.9677</td><td style=\"text-align: right;\">                         -3.46295 </td><td style=\"text-align: right;\">                              3.05802</td><td style=\"text-align: right;\">                      0.8035  </td><td style=\"text-align: right;\">                         0.583241</td><td style=\"text-align: right;\">                               0.53816 </td><td style=\"text-align: right;\">                                1.35134</td><td style=\"text-align: right;\">                                0.507344</td><td style=\"text-align: right;\">                0.767027</td><td style=\"text-align: right;\">                 0.756518</td><td style=\"text-align: right;\">                  0.990617</td><td style=\"text-align: right;\">                 0.948432</td><td style=\"text-align: right;\">                 -0.193796</td><td style=\"text-align: right;\">                  0.716444</td><td style=\"text-align: right;\">                             0.376097</td><td style=\"text-align: right;\">                           5.8757 </td><td style=\"text-align: right;\">                        0.136804 </td><td style=\"text-align: right;\">                           3.55277</td><td style=\"text-align: right;\">                 0.609849</td><td style=\"text-align: right;\">                               0.281294 </td><td style=\"text-align: right;\">                        11.7514 </td><td style=\"text-align: right;\">                         2.74865</td><td style=\"text-align: right;\">                        0.965379</td><td style=\"text-align: right;\">                                6.50189</td><td style=\"text-align: right;\">                                      454.745</td><td style=\"text-align: right;\">                                              0.0395637</td><td style=\"text-align: right;\">                                 48.3338</td><td style=\"text-align: right;\">                                    3334.01 </td><td style=\"text-align: right;\">                               1.05727 </td><td style=\"text-align: right;\">                                   34.7354 </td><td style=\"text-align: right;\">                                     242.661 </td><td style=\"text-align: right;\">                                                   8854.96</td><td style=\"text-align: right;\">                                                  7.14273</td><td style=\"text-align: right;\">                                 0.0342609</td><td style=\"text-align: right;\">                                    0.028465 </td><td style=\"text-align: right;\">                                                  0.773315</td><td style=\"text-align: right;\">                                               0.00167832</td><td style=\"text-align: right;\">                                     1411.08 </td><td style=\"text-align: right;\">                                              0.243489 </td><td style=\"text-align: right;\">                                1.38775 </td><td style=\"text-align: right;\">                                       33.1618 </td><td style=\"text-align: right;\">                               7.77291</td><td style=\"text-align: right;\">                                           280.064 </td><td style=\"text-align: right;\">                                         0.238197 </td><td style=\"text-align: right;\">                                     0.0383402</td><td style=\"text-align: right;\">                          4.11318</td><td style=\"text-align: right;\">                                      2281.63</td><td style=\"text-align: right;\">                                               0.388715</td><td style=\"text-align: right;\">                            0.502302</td><td style=\"text-align: right;\">                          3.4935  </td><td style=\"text-align: right;\">                               0.644676</td><td style=\"text-align: right;\">                                            20.4159 </td><td style=\"text-align: right;\">                                          0.027097 </td><td style=\"text-align: right;\">                                      43.5581</td><td style=\"text-align: right;\">                                              0.202596 </td><td style=\"text-align: right;\">                                 3.25343</td><td style=\"text-align: right;\">                                         23.8186</td><td style=\"text-align: right;\">                               171101   </td><td style=\"text-align: right;\">                                          6.2553e+06 </td><td style=\"text-align: right;\">                                           4902.14  </td></tr>\n",
       "<tr><td style=\"text-align: right;\">                         0.436777</td><td style=\"text-align: right;\">                      0.092262 </td><td style=\"text-align: right;\">                               5.71188</td><td style=\"text-align: right;\">                               61.9093</td><td style=\"text-align: right;\">                                       35.3553</td><td style=\"text-align: right;\">                                    64.3817</td><td style=\"text-align: right;\">                                      66.0303</td><td style=\"text-align: right;\">                                 66.3023</td><td style=\"text-align: right;\">                          4523.58</td><td style=\"text-align: right;\">                               27.0405</td><td style=\"text-align: right;\">                         0.371221</td><td style=\"text-align: right;\">                           3563.2 </td><td style=\"text-align: right;\">                                 0.787694</td><td style=\"text-align: right;\">                              4582</td><td style=\"text-align: right;\">                                      77</td><td style=\"text-align: right;\">                                     125</td><td style=\"text-align: right;\">                       5.15189e+07</td><td style=\"text-align: right;\">                            1.61984</td><td style=\"text-align: right;\">                                            28</td><td style=\"text-align: right;\">                             2.61531</td><td style=\"text-align: right;\">                                145</td><td style=\"text-align: right;\">                                          15.4976</td><td style=\"text-align: right;\">                        104.419 </td><td style=\"text-align: right;\">                               109</td><td style=\"text-align: right;\">                                 39</td><td style=\"text-align: right;\">                              106</td><td style=\"text-align: right;\">                                                11.9808</td><td style=\"text-align: right;\">                                   106.037 </td><td style=\"text-align: right;\">                          -0.582609 </td><td style=\"text-align: right;\">                            5.15189e+07</td><td style=\"text-align: right;\">                             0.386581 </td><td style=\"text-align: right;\">                             340.335</td><td style=\"text-align: right;\">                              14.3641</td><td style=\"text-align: right;\">                                6.82732</td><td style=\"text-align: right;\">                        -0.728879 </td><td style=\"text-align: right;\">                              1.46588</td><td style=\"text-align: right;\">                      0.636296</td><td style=\"text-align: right;\">                         0.392886</td><td style=\"text-align: right;\">                               0.515196</td><td style=\"text-align: right;\">                                1.19842</td><td style=\"text-align: right;\">                                0.3474  </td><td style=\"text-align: right;\">                0.7616  </td><td style=\"text-align: right;\">                 0.7545  </td><td style=\"text-align: right;\">                  0.976625</td><td style=\"text-align: right;\">                 0.916946</td><td style=\"text-align: right;\">                 -0.125792</td><td style=\"text-align: right;\">                  0.465305</td><td style=\"text-align: right;\">                             0.41846 </td><td style=\"text-align: right;\">                           3.76244</td><td style=\"text-align: right;\">                        0.201494 </td><td style=\"text-align: right;\">                           2.91111</td><td style=\"text-align: right;\">                 0.409033</td><td style=\"text-align: right;\">                               0.378998 </td><td style=\"text-align: right;\">                         7.52488</td><td style=\"text-align: right;\">                         2.23551</td><td style=\"text-align: right;\">                        0.525545</td><td style=\"text-align: right;\">                                5.72988</td><td style=\"text-align: right;\">                                      225.992</td><td style=\"text-align: right;\">                                              0.0493216</td><td style=\"text-align: right;\">                                34.6974 </td><td style=\"text-align: right;\">                                    1771.31 </td><td style=\"text-align: right;\">                               0.573937</td><td style=\"text-align: right;\">                                   14.0205 </td><td style=\"text-align: right;\">                                     174.001 </td><td style=\"text-align: right;\">                                                   2658.29</td><td style=\"text-align: right;\">                                                12.3416  </td><td style=\"text-align: right;\">                                 0.089025 </td><td style=\"text-align: right;\">                                    0.028238 </td><td style=\"text-align: right;\">                                                  0.314908</td><td style=\"text-align: right;\">                                               0.00456054</td><td style=\"text-align: right;\">                                      880.741</td><td style=\"text-align: right;\">                                              0.323584 </td><td style=\"text-align: right;\">                                0.730461</td><td style=\"text-align: right;\">                                       13.3954 </td><td style=\"text-align: right;\">                               8.3688 </td><td style=\"text-align: right;\">                                            124.065</td><td style=\"text-align: right;\">                                         0.639254 </td><td style=\"text-align: right;\">                                     0.0994615</td><td style=\"text-align: right;\">                          3.37659</td><td style=\"text-align: right;\">                                      1315.28</td><td style=\"text-align: right;\">                                               0.451061</td><td style=\"text-align: right;\">                            0.584511</td><td style=\"text-align: right;\">                          3.95851 </td><td style=\"text-align: right;\">                               0.679573</td><td style=\"text-align: right;\">                                             8.76855</td><td style=\"text-align: right;\">                                          0.0731525</td><td style=\"text-align: right;\">                                      31.0941</td><td style=\"text-align: right;\">                                              0.365813 </td><td style=\"text-align: right;\">                                 1.61882</td><td style=\"text-align: right;\">                                         9.45882</td><td style=\"text-align: right;\">                               92479.6  </td><td style=\"text-align: right;\">                                          1.3515e+06 </td><td style=\"text-align: right;\">                                          6753.49   </td><td style=\"text-align: right;\">                                       0.221788</td><td style=\"text-align: right;\">                                     21.0235</td><td style=\"text-align: right;\">                                              0.247336</td><td style=\"text-align: right;\">                                0.506954</td><td style=\"text-align: right;\">                                              4.69521</td><td style=\"text-align: right;\">                                           0.113455 </td><td style=\"text-align: right;\">                           4.25273</td><td style=\"text-align: right;\">                            0.0185509</td><td style=\"text-align: right;\">                          89573.8  </td><td style=\"text-align: right;\">                       27.2388 </td><td style=\"text-align: right;\">                      0.0018305  </td><td style=\"text-align: right;\">                          4.12973</td><td style=\"text-align: right;\">                     0.0230892 </td><td style=\"text-align: right;\">                      0.0163768</td><td style=\"text-align: right;\">                         0.925094</td><td style=\"text-align: right;\">                       0.25308 </td><td style=\"text-align: right;\">                               8.64384</td><td style=\"text-align: right;\">                               34.1546</td><td style=\"text-align: right;\">                                       40.4475</td><td style=\"text-align: right;\">                                    38.4708</td><td style=\"text-align: right;\">                                      39.0512</td><td style=\"text-align: right;\">                                 41.6293</td><td style=\"text-align: right;\">                          5930.17</td><td style=\"text-align: right;\">                               31.5962</td><td style=\"text-align: right;\">                         0.483003</td><td style=\"text-align: right;\">                           3280.29</td><td style=\"text-align: right;\">                                 0.553153</td><td style=\"text-align: right;\">                              5965</td><td style=\"text-align: right;\">                                      80</td><td style=\"text-align: right;\">                                     143</td><td style=\"text-align: right;\">                       7.78684e+07</td><td style=\"text-align: right;\">                            1.91546</td><td style=\"text-align: right;\">                                         43   </td><td style=\"text-align: right;\">                             1.79509</td><td style=\"text-align: right;\">                                171</td><td style=\"text-align: right;\">                                          21.2759</td><td style=\"text-align: right;\">                        111.687 </td><td style=\"text-align: right;\">                               112</td><td style=\"text-align: right;\">                                 55</td><td style=\"text-align: right;\">                              116</td><td style=\"text-align: right;\">                                                17.6227</td><td style=\"text-align: right;\">                                   114.255 </td><td style=\"text-align: right;\">                          0.00721013</td><td style=\"text-align: right;\">                            7.78684e+07</td><td style=\"text-align: right;\">                             0.292998 </td><td style=\"text-align: right;\">                             580.308</td><td style=\"text-align: right;\">                              10.1061</td><td style=\"text-align: right;\">                                16.5451</td><td style=\"text-align: right;\">                         -0.422957</td><td style=\"text-align: right;\">                              2.89631</td><td style=\"text-align: right;\">                      0.877585</td><td style=\"text-align: right;\">                         0.533254</td><td style=\"text-align: right;\">                               0.607216</td><td style=\"text-align: right;\">                                1.38328</td><td style=\"text-align: right;\">                                0.483904</td><td style=\"text-align: right;\">                0.738064</td><td style=\"text-align: right;\">                 0.72341 </td><td style=\"text-align: right;\">                  0.968858</td><td style=\"text-align: right;\">                 0.904992</td><td style=\"text-align: right;\">                 -0.162748</td><td style=\"text-align: right;\">                  0.617964</td><td style=\"text-align: right;\">                             0.402524</td><td style=\"text-align: right;\">                           3.09849</td><td style=\"text-align: right;\">                        0.124748 </td><td style=\"text-align: right;\">                           3.45977</td><td style=\"text-align: right;\">                 0.551102</td><td style=\"text-align: right;\">                               0.234683 </td><td style=\"text-align: right;\">                         6.19698</td><td style=\"text-align: right;\">                         2.65371</td><td style=\"text-align: right;\">                        0.943475</td><td style=\"text-align: right;\">                                6.14052</td><td style=\"text-align: right;\">                                      281.348</td><td style=\"text-align: right;\">                                              0.0471665</td><td style=\"text-align: right;\">                                 36.3089</td><td style=\"text-align: right;\">                                    1747.73 </td><td style=\"text-align: right;\">                               0.982392</td><td style=\"text-align: right;\">                                    9.96832</td><td style=\"text-align: right;\">                                     183.038 </td><td style=\"text-align: right;\">                                                   2052.04</td><td style=\"text-align: right;\">                                                 24.5006 </td><td style=\"text-align: right;\">                                 0.173436 </td><td style=\"text-align: right;\">                                    0.0230567</td><td style=\"text-align: right;\">                                                  0.192826</td><td style=\"text-align: right;\">                                               0.0081622 </td><td style=\"text-align: right;\">                                      933.327</td><td style=\"text-align: right;\">                                              0.272968 </td><td style=\"text-align: right;\">                                1.02853 </td><td style=\"text-align: right;\">                                        9.43581</td><td style=\"text-align: right;\">                               6.17971</td><td style=\"text-align: right;\">                                            67.7465</td><td style=\"text-align: right;\">                                         0.898508 </td><td style=\"text-align: right;\">                                     0.195643 </td><td style=\"text-align: right;\">                          3.64907</td><td style=\"text-align: right;\">                                      1578.86</td><td style=\"text-align: right;\">                                               0.437366</td><td style=\"text-align: right;\">                            0.572571</td><td style=\"text-align: right;\">                          2.4556  </td><td style=\"text-align: right;\">                               0.67262 </td><td style=\"text-align: right;\">                                             6.19489</td><td style=\"text-align: right;\">                                          0.14294  </td><td style=\"text-align: right;\">                                      32.775 </td><td style=\"text-align: right;\">                                              0.409687 </td><td style=\"text-align: right;\">                                 2.2725 </td><td style=\"text-align: right;\">                                          6.475 </td><td style=\"text-align: right;\">                               127329   </td><td style=\"text-align: right;\">                                          1.25518e+06</td><td style=\"text-align: right;\">                                          18636.5   </td></tr>\n",
       "<tr><td style=\"text-align: right;\">                         0.491799</td><td style=\"text-align: right;\">                      0.0812707</td><td style=\"text-align: right;\">                               5.52773</td><td style=\"text-align: right;\">                               68.0162</td><td style=\"text-align: right;\">                                       43.1045</td><td style=\"text-align: right;\">                                    73.2462</td><td style=\"text-align: right;\">                                      76.0263</td><td style=\"text-align: right;\">                                 77.4403</td><td style=\"text-align: right;\">                          6537.5 </td><td style=\"text-align: right;\">                               33.4503</td><td style=\"text-align: right;\">                         0.367487</td><td style=\"text-align: right;\">                           4600.98</td><td style=\"text-align: right;\">                                 0.703783</td><td style=\"text-align: right;\">                              6586</td><td style=\"text-align: right;\">                                     102</td><td style=\"text-align: right;\">                                     166</td><td style=\"text-align: right;\">                       1.23228e+08</td><td style=\"text-align: right;\">                            2.06809</td><td style=\"text-align: right;\">                                            37</td><td style=\"text-align: right;\">                             2.44313</td><td style=\"text-align: right;\">                                204</td><td style=\"text-align: right;\">                                          20.5678</td><td style=\"text-align: right;\">                        134.553 </td><td style=\"text-align: right;\">                               135</td><td style=\"text-align: right;\">                                 49</td><td style=\"text-align: right;\">                              155</td><td style=\"text-align: right;\">                                                15.6157</td><td style=\"text-align: right;\">                                   136.787 </td><td style=\"text-align: right;\">                          -0.0948896</td><td style=\"text-align: right;\">                            1.23228e+08</td><td style=\"text-align: right;\">                             0.266021 </td><td style=\"text-align: right;\">                             606.167</td><td style=\"text-align: right;\">                              25.0229</td><td style=\"text-align: right;\">                               19.8182 </td><td style=\"text-align: right;\">                         0.2127   </td><td style=\"text-align: right;\">                              2.82496</td><td style=\"text-align: right;\">                      0.874602</td><td style=\"text-align: right;\">                         0.51791 </td><td style=\"text-align: right;\">                               0.61009 </td><td style=\"text-align: right;\">                                1.34423</td><td style=\"text-align: right;\">                                0.465484</td><td style=\"text-align: right;\">                0.732615</td><td style=\"text-align: right;\">                 0.720828</td><td style=\"text-align: right;\">                  0.987115</td><td style=\"text-align: right;\">                 0.934984</td><td style=\"text-align: right;\">                 -0.182364</td><td style=\"text-align: right;\">                  0.636171</td><td style=\"text-align: right;\">                             0.435263</td><td style=\"text-align: right;\">                           4.95327</td><td style=\"text-align: right;\">                        0.112747 </td><td style=\"text-align: right;\">                           3.58347</td><td style=\"text-align: right;\">                 0.55769 </td><td style=\"text-align: right;\">                               0.179254 </td><td style=\"text-align: right;\">                         9.90654</td><td style=\"text-align: right;\">                         2.71757</td><td style=\"text-align: right;\">                        0.924891</td><td style=\"text-align: right;\">                                6.20834</td><td style=\"text-align: right;\">                                      347.619</td><td style=\"text-align: right;\">                                              0.0527816</td><td style=\"text-align: right;\">                                27.7109 </td><td style=\"text-align: right;\">                                    1752.02 </td><td style=\"text-align: right;\">                               1.05475 </td><td style=\"text-align: right;\">                                   25.1461 </td><td style=\"text-align: right;\">                                     155.271 </td><td style=\"text-align: right;\">                                                   4058.27</td><td style=\"text-align: right;\">                                                 6.70232 </td><td style=\"text-align: right;\">                                 0.0485368</td><td style=\"text-align: right;\">                                    0.0286268</td><td style=\"text-align: right;\">                                                  0.553131</td><td style=\"text-align: right;\">                                               0.00247799</td><td style=\"text-align: right;\">                                      990.698</td><td style=\"text-align: right;\">                                              0.247971 </td><td style=\"text-align: right;\">                                1.2042  </td><td style=\"text-align: right;\">                                       24.287  </td><td style=\"text-align: right;\">                               7.4674 </td><td style=\"text-align: right;\">                                            199.923</td><td style=\"text-align: right;\">                                         0.323132 </td><td style=\"text-align: right;\">                                     0.0523934</td><td style=\"text-align: right;\">                          3.69887</td><td style=\"text-align: right;\">                                      1954.89</td><td style=\"text-align: right;\">                                               0.454603</td><td style=\"text-align: right;\">                            0.604067</td><td style=\"text-align: right;\">                          3.44225 </td><td style=\"text-align: right;\">                               0.685215</td><td style=\"text-align: right;\">                                            16.2038 </td><td style=\"text-align: right;\">                                          0.0380998</td><td style=\"text-align: right;\">                                      30.8772</td><td style=\"text-align: right;\">                                              0.270853 </td><td style=\"text-align: right;\">                                 2.41982</td><td style=\"text-align: right;\">                                        16.1228 </td><td style=\"text-align: right;\">                               95798.6  </td><td style=\"text-align: right;\">                                          2.41062e+06</td><td style=\"text-align: right;\">                                          4198.96   </td><td style=\"text-align: right;\">                                       0.115873</td><td style=\"text-align: right;\">                                     22.9298</td><td style=\"text-align: right;\">                                              0.201139</td><td style=\"text-align: right;\">                                0.45134 </td><td style=\"text-align: right;\">                                              6.42901</td><td style=\"text-align: right;\">                                           0.0643079</td><td style=\"text-align: right;\">                           4.90791</td><td style=\"text-align: right;\">                            0.0173094</td><td style=\"text-align: right;\">                          92461    </td><td style=\"text-align: right;\">                       15.3827 </td><td style=\"text-align: right;\">                      0.00141991 </td><td style=\"text-align: right;\">                         12.9675 </td><td style=\"text-align: right;\">                     0.0176063 </td><td style=\"text-align: right;\">                      0.0336376</td><td style=\"text-align: right;\">                         0.884342</td><td style=\"text-align: right;\">                       0.210688</td><td style=\"text-align: right;\">                               7.91539</td><td style=\"text-align: right;\">                               37.5692</td><td style=\"text-align: right;\">                                       41.1096</td><td style=\"text-align: right;\">                                    39.4588</td><td style=\"text-align: right;\">                                      44.5533</td><td style=\"text-align: right;\">                                 44.833 </td><td style=\"text-align: right;\">                          6356.38</td><td style=\"text-align: right;\">                               33.224 </td><td style=\"text-align: right;\">                         0.50318 </td><td style=\"text-align: right;\">                           3297.87</td><td style=\"text-align: right;\">                                 0.518829</td><td style=\"text-align: right;\">                              6391</td><td style=\"text-align: right;\">                                     102</td><td style=\"text-align: right;\">                                     178</td><td style=\"text-align: right;\">                       1.34827e+08</td><td style=\"text-align: right;\">                            2.20754</td><td style=\"text-align: right;\">                                         41   </td><td style=\"text-align: right;\">                             2.28778</td><td style=\"text-align: right;\">                                211</td><td style=\"text-align: right;\">                                          22.8618</td><td style=\"text-align: right;\">                        142.587 </td><td style=\"text-align: right;\">                               145</td><td style=\"text-align: right;\">                                 73</td><td style=\"text-align: right;\">                              138</td><td style=\"text-align: right;\">                                                17.0941</td><td style=\"text-align: right;\">                                   145.246 </td><td style=\"text-align: right;\">                         -0.255343  </td><td style=\"text-align: right;\">                            1.34827e+08</td><td style=\"text-align: right;\">                             0.236833 </td><td style=\"text-align: right;\">                             765.353</td><td style=\"text-align: right;\">                              19.1913</td><td style=\"text-align: right;\">                                35.2892</td><td style=\"text-align: right;\">                         -1.5841  </td><td style=\"text-align: right;\">                              3.73172</td><td style=\"text-align: right;\">                      1.21802 </td><td style=\"text-align: right;\">                         0.504755</td><td style=\"text-align: right;\">                               0.75116 </td><td style=\"text-align: right;\">                                1.54009</td><td style=\"text-align: right;\">                                0.615314</td><td style=\"text-align: right;\">                0.689912</td><td style=\"text-align: right;\">                 0.670209</td><td style=\"text-align: right;\">                  0.977319</td><td style=\"text-align: right;\">                 0.912155</td><td style=\"text-align: right;\">                 -0.14434 </td><td style=\"text-align: right;\">                  0.609755</td><td style=\"text-align: right;\">                             0.452694</td><td style=\"text-align: right;\">                           4.30844</td><td style=\"text-align: right;\">                        0.0846274</td><td style=\"text-align: right;\">                           3.99754</td><td style=\"text-align: right;\">                 0.527356</td><td style=\"text-align: right;\">                               0.164602 </td><td style=\"text-align: right;\">                         8.61688</td><td style=\"text-align: right;\">                         2.93791</td><td style=\"text-align: right;\">                        1.23743 </td><td style=\"text-align: right;\">                                6.3472 </td><td style=\"text-align: right;\">                                      351.613</td><td style=\"text-align: right;\">                                              0.055017 </td><td style=\"text-align: right;\">                                 28.3103</td><td style=\"text-align: right;\">                                    1513.6  </td><td style=\"text-align: right;\">                               1.33284 </td><td style=\"text-align: right;\">                                   19.1637 </td><td style=\"text-align: right;\">                                     139.923 </td><td style=\"text-align: right;\">                                                   2997.7 </td><td style=\"text-align: right;\">                                                  8.3372 </td><td style=\"text-align: right;\">                                 0.0761411</td><td style=\"text-align: right;\">                                    0.0318783</td><td style=\"text-align: right;\">                                                  0.508028</td><td style=\"text-align: right;\">                                               0.00416331</td><td style=\"text-align: right;\">                                      904.003</td><td style=\"text-align: right;\">                                              0.223537 </td><td style=\"text-align: right;\">                                1.45053 </td><td style=\"text-align: right;\">                                       18.1521 </td><td style=\"text-align: right;\">                               4.82205</td><td style=\"text-align: right;\">                                            99.5657</td><td style=\"text-align: right;\">                                         0.31331  </td><td style=\"text-align: right;\">                                     0.0836417</td><td style=\"text-align: right;\">                          3.71394</td><td style=\"text-align: right;\">                                      2066.91</td><td style=\"text-align: right;\">                                               0.489188</td><td style=\"text-align: right;\">                            0.632127</td><td style=\"text-align: right;\">                          1.84807 </td><td style=\"text-align: right;\">                               0.717671</td><td style=\"text-align: right;\">                                            12.5107 </td><td style=\"text-align: right;\">                                          0.0639775</td><td style=\"text-align: right;\">                                      40.3333</td><td style=\"text-align: right;\">                                              0.336111 </td><td style=\"text-align: right;\">                                 3.58222</td><td style=\"text-align: right;\">                                         14.9167</td><td style=\"text-align: right;\">                                76419   </td><td style=\"text-align: right;\">                                          1.52606e+06</td><td style=\"text-align: right;\">                                           4509.48  </td></tr>\n",
       "<tr><td style=\"text-align: right;\">                         0.477166</td><td style=\"text-align: right;\">                      0.206101 </td><td style=\"text-align: right;\">                              12.8892 </td><td style=\"text-align: right;\">                               62.5381</td><td style=\"text-align: right;\">                                       65.6201</td><td style=\"text-align: right;\">                                    63.561 </td><td style=\"text-align: right;\">                                      46.3897</td><td style=\"text-align: right;\">                                 67.6831</td><td style=\"text-align: right;\">                         12280.3 </td><td style=\"text-align: right;\">                               29.8411</td><td style=\"text-align: right;\">                         0.397999</td><td style=\"text-align: right;\">                           6467.59</td><td style=\"text-align: right;\">                                 0.526662</td><td style=\"text-align: right;\">                             12343</td><td style=\"text-align: right;\">                                      47</td><td style=\"text-align: right;\">                                      96</td><td style=\"text-align: right;\">                       7.09534e+07</td><td style=\"text-align: right;\">                            1.75405</td><td style=\"text-align: right;\">                                            23</td><td style=\"text-align: right;\">                             3.43426</td><td style=\"text-align: right;\">                                159</td><td style=\"text-align: right;\">                                          14.8456</td><td style=\"text-align: right;\">                         73.3784</td><td style=\"text-align: right;\">                                75</td><td style=\"text-align: right;\">                                  9</td><td style=\"text-align: right;\">                              150</td><td style=\"text-align: right;\">                                                10.316 </td><td style=\"text-align: right;\">                                    75.8187</td><td style=\"text-align: right;\">                          -0.0322231</td><td style=\"text-align: right;\">                            7.09534e+07</td><td style=\"text-align: right;\">                             0.347615 </td><td style=\"text-align: right;\">                             364.091</td><td style=\"text-align: right;\">                              12.8043</td><td style=\"text-align: right;\">                               12.045  </td><td style=\"text-align: right;\">                         0.0438122</td><td style=\"text-align: right;\">                              1.9109 </td><td style=\"text-align: right;\">                      0.552286</td><td style=\"text-align: right;\">                         0.548356</td><td style=\"text-align: right;\">                               0.4506  </td><td style=\"text-align: right;\">                                1.16114</td><td style=\"text-align: right;\">                                0.337875</td><td style=\"text-align: right;\">                0.790404</td><td style=\"text-align: right;\">                 0.784818</td><td style=\"text-align: right;\">                  0.989244</td><td style=\"text-align: right;\">                 0.945045</td><td style=\"text-align: right;\">                 -0.189939</td><td style=\"text-align: right;\">                  0.64799 </td><td style=\"text-align: right;\">                             0.373019</td><td style=\"text-align: right;\">                           3.5305 </td><td style=\"text-align: right;\">                        0.182171 </td><td style=\"text-align: right;\">                           3.04446</td><td style=\"text-align: right;\">                 0.566654</td><td style=\"text-align: right;\">                               0.319209 </td><td style=\"text-align: right;\">                         7.06101</td><td style=\"text-align: right;\">                         2.42473</td><td style=\"text-align: right;\">                        0.615796</td><td style=\"text-align: right;\">                                6.16966</td><td style=\"text-align: right;\">                                      506.118</td><td style=\"text-align: right;\">                                              0.0410045</td><td style=\"text-align: right;\">                                45.9494 </td><td style=\"text-align: right;\">                                    4290.62 </td><td style=\"text-align: right;\">                               0.678142</td><td style=\"text-align: right;\">                                   12.6381 </td><td style=\"text-align: right;\">                                     240.403 </td><td style=\"text-align: right;\">                                                   3294.47</td><td style=\"text-align: right;\">                                                20.0026  </td><td style=\"text-align: right;\">                                 0.105496 </td><td style=\"text-align: right;\">                                    0.0219432</td><td style=\"text-align: right;\">                                                  0.217486</td><td style=\"text-align: right;\">                                               0.00512604</td><td style=\"text-align: right;\">                                     1879.67 </td><td style=\"text-align: right;\">                                              0.302492 </td><td style=\"text-align: right;\">                                0.857105</td><td style=\"text-align: right;\">                                       11.8589 </td><td style=\"text-align: right;\">                               9.89246</td><td style=\"text-align: right;\">                                            134.729</td><td style=\"text-align: right;\">                                         0.861593 </td><td style=\"text-align: right;\">                                     0.123208 </td><td style=\"text-align: right;\">                          3.81131</td><td style=\"text-align: right;\">                                      2561.42</td><td style=\"text-align: right;\">                                               0.389647</td><td style=\"text-align: right;\">                            0.502128</td><td style=\"text-align: right;\">                          4.79975 </td><td style=\"text-align: right;\">                               0.636885</td><td style=\"text-align: right;\">                                             7.24187</td><td style=\"text-align: right;\">                                          0.087132 </td><td style=\"text-align: right;\">                                      39.2384</td><td style=\"text-align: right;\">                                              0.259857 </td><td style=\"text-align: right;\">                                 2.17578</td><td style=\"text-align: right;\">                                         8.88079</td><td style=\"text-align: right;\">                              338633    </td><td style=\"text-align: right;\">                                          4.3671e+06 </td><td style=\"text-align: right;\">                                         29347      </td><td style=\"text-align: right;\">                                       0.352883</td><td style=\"text-align: right;\">                                     41     </td><td style=\"text-align: right;\">                                              0.271523</td><td style=\"text-align: right;\">                                0.52746 </td><td style=\"text-align: right;\">                                              4.07093</td><td style=\"text-align: right;\">                                           0.220128 </td><td style=\"text-align: right;\">                           4.47318</td><td style=\"text-align: right;\">                            0.0122337</td><td style=\"text-align: right;\">                         331951    </td><td style=\"text-align: right;\">                       46.3021 </td><td style=\"text-align: right;\">                      0.00069842 </td><td style=\"text-align: right;\">                          8.58777</td><td style=\"text-align: right;\">                     0.0125574 </td><td style=\"text-align: right;\">                      0.0145011</td><td style=\"text-align: right;\">                         0.893926</td><td style=\"text-align: right;\">                       0.369382</td><td style=\"text-align: right;\">                              13.842  </td><td style=\"text-align: right;\">                               37.4735</td><td style=\"text-align: right;\">                                       41.0488</td><td style=\"text-align: right;\">                                    41.6173</td><td style=\"text-align: right;\">                                      45.1221</td><td style=\"text-align: right;\">                                 45.8258</td><td style=\"text-align: right;\">                         10739.9 </td><td style=\"text-align: right;\">                               33.4985</td><td style=\"text-align: right;\">                         0.486132</td><td style=\"text-align: right;\">                           4842.44</td><td style=\"text-align: right;\">                                 0.450882</td><td style=\"text-align: right;\">                             10787</td><td style=\"text-align: right;\">                                      50</td><td style=\"text-align: right;\">                                     138</td><td style=\"text-align: right;\">                       1.18494e+08</td><td style=\"text-align: right;\">                            2.41249</td><td style=\"text-align: right;\">                                         46   </td><td style=\"text-align: right;\">                             2.64197</td><td style=\"text-align: right;\">                                225</td><td style=\"text-align: right;\">                                          26.487 </td><td style=\"text-align: right;\">                         99.5216</td><td style=\"text-align: right;\">                               104</td><td style=\"text-align: right;\">                                 11</td><td style=\"text-align: right;\">                              214</td><td style=\"text-align: right;\">                                                19.2126</td><td style=\"text-align: right;\">                                   104.809 </td><td style=\"text-align: right;\">                         -0.256618  </td><td style=\"text-align: right;\">                            1.18494e+08</td><td style=\"text-align: right;\">                             0.219601 </td><td style=\"text-align: right;\">                            1080.33 </td><td style=\"text-align: right;\">                              22.3551</td><td style=\"text-align: right;\">                                84.6983</td><td style=\"text-align: right;\">                         -3.95249 </td><td style=\"text-align: right;\">                              5.44017</td><td style=\"text-align: right;\">                      1.12998 </td><td style=\"text-align: right;\">                         0.652747</td><td style=\"text-align: right;\">                               0.659573</td><td style=\"text-align: right;\">                                1.51792</td><td style=\"text-align: right;\">                                0.673352</td><td style=\"text-align: right;\">                0.73209 </td><td style=\"text-align: right;\">                 0.715198</td><td style=\"text-align: right;\">                  0.989348</td><td style=\"text-align: right;\">                 0.943343</td><td style=\"text-align: right;\">                 -0.229585</td><td style=\"text-align: right;\">                  0.786125</td><td style=\"text-align: right;\">                             0.389665</td><td style=\"text-align: right;\">                           4.6127 </td><td style=\"text-align: right;\">                        0.0982161</td><td style=\"text-align: right;\">                           4.13733</td><td style=\"text-align: right;\">                 0.672474</td><td style=\"text-align: right;\">                               0.246443 </td><td style=\"text-align: right;\">                         9.22541</td><td style=\"text-align: right;\">                         3.16926</td><td style=\"text-align: right;\">                        1.64254 </td><td style=\"text-align: right;\">                                6.78056</td><td style=\"text-align: right;\">                                      448.713</td><td style=\"text-align: right;\">                                              0.0415975</td><td style=\"text-align: right;\">                                 48.0879</td><td style=\"text-align: right;\">                                    2368.84 </td><td style=\"text-align: right;\">                               1.80465 </td><td style=\"text-align: right;\">                                   22.0517 </td><td style=\"text-align: right;\">                                     203.3   </td><td style=\"text-align: right;\">                                                   5099.35</td><td style=\"text-align: right;\">                                                 10.3727 </td><td style=\"text-align: right;\">                                 0.0753738</td><td style=\"text-align: right;\">                                    0.0349357</td><td style=\"text-align: right;\">                                                  0.625437</td><td style=\"text-align: right;\">                                               0.00437093</td><td style=\"text-align: right;\">                                     1134.91 </td><td style=\"text-align: right;\">                                              0.188048 </td><td style=\"text-align: right;\">                                2.11978 </td><td style=\"text-align: right;\">                                       20.313  </td><td style=\"text-align: right;\">                               6.64126</td><td style=\"text-align: right;\">                                           160.47  </td><td style=\"text-align: right;\">                                         0.384384 </td><td style=\"text-align: right;\">                                     0.0893694</td><td style=\"text-align: right;\">                          4.18768</td><td style=\"text-align: right;\">                                      2839.7 </td><td style=\"text-align: right;\">                                               0.455108</td><td style=\"text-align: right;\">                            0.559291</td><td style=\"text-align: right;\">                          2.99746 </td><td style=\"text-align: right;\">                               0.696362</td><td style=\"text-align: right;\">                                            13.3695 </td><td style=\"text-align: right;\">                                          0.0684565</td><td style=\"text-align: right;\">                                      46.7375</td><td style=\"text-align: right;\">                                              0.180453 </td><td style=\"text-align: right;\">                                 3.22837</td><td style=\"text-align: right;\">                                         17.1969</td><td style=\"text-align: right;\">                                87355   </td><td style=\"text-align: right;\">                                          2.0683e+06 </td><td style=\"text-align: right;\">                                           4495.09  </td></tr>\n",
       "<tr><td style=\"text-align: right;\">                         0.566024</td><td style=\"text-align: right;\">                      0.0909492</td><td style=\"text-align: right;\">                               6.22025</td><td style=\"text-align: right;\">                               68.3926</td><td style=\"text-align: right;\">                                       50.4876</td><td style=\"text-align: right;\">                                    75.8024</td><td style=\"text-align: right;\">                                      76.0592</td><td style=\"text-align: right;\">                                 78.2879</td><td style=\"text-align: right;\">                          9264.08</td><td style=\"text-align: right;\">                               38.7118</td><td style=\"text-align: right;\">                         0.378865</td><td style=\"text-align: right;\">                           5630.33</td><td style=\"text-align: right;\">                                 0.60776 </td><td style=\"text-align: right;\">                              9324</td><td style=\"text-align: right;\">                                     118</td><td style=\"text-align: right;\">                                     227</td><td style=\"text-align: right;\">                       3.0682e+08 </td><td style=\"text-align: right;\">                            2.73665</td><td style=\"text-align: right;\">                                            52</td><td style=\"text-align: right;\">                             3.19671</td><td style=\"text-align: right;\">                                296</td><td style=\"text-align: right;\">                                          32.1888</td><td style=\"text-align: right;\">                        176.635 </td><td style=\"text-align: right;\">                               181</td><td style=\"text-align: right;\">                                 29</td><td style=\"text-align: right;\">                              267</td><td style=\"text-align: right;\">                                                22.0206</td><td style=\"text-align: right;\">                                   181.402 </td><td style=\"text-align: right;\">                          -0.580084 </td><td style=\"text-align: right;\">                            3.0682e+08 </td><td style=\"text-align: right;\">                             0.178245 </td><td style=\"text-align: right;\">                            1706.69 </td><td style=\"text-align: right;\">                              47.7745</td><td style=\"text-align: right;\">                              192.855  </td><td style=\"text-align: right;\">                        -9.97388  </td><td style=\"text-align: right;\">                              7.84555</td><td style=\"text-align: right;\">                      2.30596 </td><td style=\"text-align: right;\">                         0.544479</td><td style=\"text-align: right;\">                               1.01608 </td><td style=\"text-align: right;\">                                1.86935</td><td style=\"text-align: right;\">                                1.18092 </td><td style=\"text-align: right;\">                0.639445</td><td style=\"text-align: right;\">                 0.606824</td><td style=\"text-align: right;\">                  0.982569</td><td style=\"text-align: right;\">                 0.922669</td><td style=\"text-align: right;\">                 -0.169373</td><td style=\"text-align: right;\">                  0.703473</td><td style=\"text-align: right;\">                             0.426891</td><td style=\"text-align: right;\">                           6.81049</td><td style=\"text-align: right;\">                        0.0570134</td><td style=\"text-align: right;\">                           4.86148</td><td style=\"text-align: right;\">                 0.621767</td><td style=\"text-align: right;\">                               0.149105 </td><td style=\"text-align: right;\">                        13.621  </td><td style=\"text-align: right;\">                         3.4543 </td><td style=\"text-align: right;\">                        2.53788 </td><td style=\"text-align: right;\">                                6.70939</td><td style=\"text-align: right;\">                                      521.684</td><td style=\"text-align: right;\">                                              0.0559507</td><td style=\"text-align: right;\">                                30.014  </td><td style=\"text-align: right;\">                                    1661.95 </td><td style=\"text-align: right;\">                               2.81768 </td><td style=\"text-align: right;\">                                   46.1424 </td><td style=\"text-align: right;\">                                     114.046 </td><td style=\"text-align: right;\">                                                   6083.21</td><td style=\"text-align: right;\">                                                 2.43981 </td><td style=\"text-align: right;\">                                 0.0344713</td><td style=\"text-align: right;\">                                    0.061922 </td><td style=\"text-align: right;\">                                                  1.974   </td><td style=\"text-align: right;\">                                               0.00527926</td><td style=\"text-align: right;\">                                     1028.34 </td><td style=\"text-align: right;\">                                              0.159614 </td><td style=\"text-align: right;\">                                3.2058  </td><td style=\"text-align: right;\">                                       43.428  </td><td style=\"text-align: right;\">                               4.28594</td><td style=\"text-align: right;\">                                            215.554</td><td style=\"text-align: right;\">                                         0.114452 </td><td style=\"text-align: right;\">                                     0.0398742</td><td style=\"text-align: right;\">                          4.05839</td><td style=\"text-align: right;\">                                      3782.75</td><td style=\"text-align: right;\">                                               0.567614</td><td style=\"text-align: right;\">                            0.685889</td><td style=\"text-align: right;\">                          1.75216 </td><td style=\"text-align: right;\">                               0.775733</td><td style=\"text-align: right;\">                                            32.2352 </td><td style=\"text-align: right;\">                                          0.0339674</td><td style=\"text-align: right;\">                                      64.6864</td><td style=\"text-align: right;\">                                              0.137048 </td><td style=\"text-align: right;\">                                 4.77319</td><td style=\"text-align: right;\">                                        27.2352 </td><td style=\"text-align: right;\">                               25720.1  </td><td style=\"text-align: right;\">                                          1.30654e+06</td><td style=\"text-align: right;\">                                           543.667  </td><td style=\"text-align: right;\">                                       0.108871</td><td style=\"text-align: right;\">                                    135.788 </td><td style=\"text-align: right;\">                                              0.287687</td><td style=\"text-align: right;\">                                0.551999</td><td style=\"text-align: right;\">                                             14.3184 </td><td style=\"text-align: right;\">                                           0.069207 </td><td style=\"text-align: right;\">                           5.4347 </td><td style=\"text-align: right;\">                            0.0506221</td><td style=\"text-align: right;\">                          25329.8  </td><td style=\"text-align: right;\">                       12.2232 </td><td style=\"text-align: right;\">                      0.000971114</td><td style=\"text-align: right;\">                         37.5818 </td><td style=\"text-align: right;\">                     0.0392868 </td><td style=\"text-align: right;\">                      0.0404805</td><td style=\"text-align: right;\">                         0.940185</td><td style=\"text-align: right;\">                       0.21829 </td><td style=\"text-align: right;\">                               8.10359</td><td style=\"text-align: right;\">                               37.123 </td><td style=\"text-align: right;\">                                       41.1096</td><td style=\"text-align: right;\">                                    41.6773</td><td style=\"text-align: right;\">                                      40.05  </td><td style=\"text-align: right;\">                                 41.8808</td><td style=\"text-align: right;\">                          7320   </td><td style=\"text-align: right;\">                               34.9025</td><td style=\"text-align: right;\">                         0.595999</td><td style=\"text-align: right;\">                           3059   </td><td style=\"text-align: right;\">                                 0.417896</td><td style=\"text-align: right;\">                              7351</td><td style=\"text-align: right;\">                                     116</td><td style=\"text-align: right;\">                                     268</td><td style=\"text-align: right;\">                       3.2955e+08 </td><td style=\"text-align: right;\">                            3.08902</td><td style=\"text-align: right;\">                                         95   </td><td style=\"text-align: right;\">                             2.23887</td><td style=\"text-align: right;\">                                355</td><td style=\"text-align: right;\">                                          49.5364</td><td style=\"text-align: right;\">                        203.598 </td><td style=\"text-align: right;\">                               220</td><td style=\"text-align: right;\">                                 39</td><td style=\"text-align: right;\">                              316</td><td style=\"text-align: right;\">                                                38.0102</td><td style=\"text-align: right;\">                                   211.732 </td><td style=\"text-align: right;\">                         -0.543871  </td><td style=\"text-align: right;\">                            3.2955e+08 </td><td style=\"text-align: right;\">                             0.135452 </td><td style=\"text-align: right;\">                            3378.36 </td><td style=\"text-align: right;\">                              64.9164</td><td style=\"text-align: right;\">                               707.473 </td><td style=\"text-align: right;\">                        -43.8361  </td><td style=\"text-align: right;\">                             16.8055 </td><td style=\"text-align: right;\">                      3.97778 </td><td style=\"text-align: right;\">                         0.616945</td><td style=\"text-align: right;\">                               1.34475 </td><td style=\"text-align: right;\">                                2.18517</td><td style=\"text-align: right;\">                                2.05468 </td><td style=\"text-align: right;\">                0.583629</td><td style=\"text-align: right;\">                 0.540607</td><td style=\"text-align: right;\">                  0.98153 </td><td style=\"text-align: right;\">                 0.919822</td><td style=\"text-align: right;\">                 -0.155316</td><td style=\"text-align: right;\">                  0.732595</td><td style=\"text-align: right;\">                             0.419815</td><td style=\"text-align: right;\">                           7.85543</td><td style=\"text-align: right;\">                        0.0356789</td><td style=\"text-align: right;\">                           5.59628</td><td style=\"text-align: right;\">                 0.639847</td><td style=\"text-align: right;\">                               0.100746 </td><td style=\"text-align: right;\">                        15.7109 </td><td style=\"text-align: right;\">                         3.88738</td><td style=\"text-align: right;\">                        5.19583 </td><td style=\"text-align: right;\">                                6.93531</td><td style=\"text-align: right;\">                                      478.449</td><td style=\"text-align: right;\">                                              0.0650862</td><td style=\"text-align: right;\">                                 27.3389</td><td style=\"text-align: right;\">                                     995.704</td><td style=\"text-align: right;\">                               5.48734 </td><td style=\"text-align: right;\">                                   64.2283 </td><td style=\"text-align: right;\">                                      93.8021</td><td style=\"text-align: right;\">                                                   7461.81</td><td style=\"text-align: right;\">                                                  1.62533</td><td style=\"text-align: right;\">                                 0.0278836</td><td style=\"text-align: right;\">                                    0.0717246</td><td style=\"text-align: right;\">                                                  3.70788 </td><td style=\"text-align: right;\">                                               0.00320303</td><td style=\"text-align: right;\">                                      647.648</td><td style=\"text-align: right;\">                                              0.121259 </td><td style=\"text-align: right;\">                                5.75912 </td><td style=\"text-align: right;\">                                       60.2897 </td><td style=\"text-align: right;\">                               2.90431</td><td style=\"text-align: right;\">                                           207.258 </td><td style=\"text-align: right;\">                                         0.0665189</td><td style=\"text-align: right;\">                                     0.0306923</td><td style=\"text-align: right;\">                          4.26864</td><td style=\"text-align: right;\">                                      3283.65</td><td style=\"text-align: right;\">                                               0.606177</td><td style=\"text-align: right;\">                            0.724904</td><td style=\"text-align: right;\">                          0.90048 </td><td style=\"text-align: right;\">                               0.803884</td><td style=\"text-align: right;\">                                            46.4397 </td><td style=\"text-align: right;\">                                          0.0261503</td><td style=\"text-align: right;\">                                      45.709 </td><td style=\"text-align: right;\">                                              0.111758 </td><td style=\"text-align: right;\">                                 7.72674</td><td style=\"text-align: right;\">                                         49.8973</td><td style=\"text-align: right;\">                                13640.6 </td><td style=\"text-align: right;\">                                          1.10833e+06</td><td style=\"text-align: right;\">                                            202.556 </td></tr>\n",
       "<tr><td style=\"text-align: right;\">                         0.527299</td><td style=\"text-align: right;\">                      0.0696751</td><td style=\"text-align: right;\">                               3.74887</td><td style=\"text-align: right;\">                               53.805 </td><td style=\"text-align: right;\">                                       47.0106</td><td style=\"text-align: right;\">                                    60.1664</td><td style=\"text-align: right;\">                                      45.0999</td><td style=\"text-align: right;\">                                 60.1664</td><td style=\"text-align: right;\">                          2474.62</td><td style=\"text-align: right;\">                               28.3713</td><td style=\"text-align: right;\">                         0.287512</td><td style=\"text-align: right;\">                           3077.29</td><td style=\"text-align: right;\">                                 1.24354 </td><td style=\"text-align: right;\">                              2534</td><td style=\"text-align: right;\">                                     100</td><td style=\"text-align: right;\">                                     323</td><td style=\"text-align: right;\">                       1.35958e+08</td><td style=\"text-align: right;\">                            3.6666 </td><td style=\"text-align: right;\">                                           130</td><td style=\"text-align: right;\">                             2.09423</td><td style=\"text-align: right;\">                                409</td><td style=\"text-align: right;\">                                          70.1779</td><td style=\"text-align: right;\">                        216.448 </td><td style=\"text-align: right;\">                               225</td><td style=\"text-align: right;\">                                 42</td><td style=\"text-align: right;\">                              367</td><td style=\"text-align: right;\">                                                53.7259</td><td style=\"text-align: right;\">                                   231.633 </td><td style=\"text-align: right;\">                          -0.070388 </td><td style=\"text-align: right;\">                            1.35958e+08</td><td style=\"text-align: right;\">                             0.0856413</td><td style=\"text-align: right;\">                            6804    </td><td style=\"text-align: right;\">                              79.0559</td><td style=\"text-align: right;\">                             1818.46   </td><td style=\"text-align: right;\">                       -27.831    </td><td style=\"text-align: right;\">                             27.3435 </td><td style=\"text-align: right;\">                      9.89468 </td><td style=\"text-align: right;\">                         0.440119</td><td style=\"text-align: right;\">                               2.41225 </td><td style=\"text-align: right;\">                                2.58352</td><td style=\"text-align: right;\">                                3.12573 </td><td style=\"text-align: right;\">                0.423953</td><td style=\"text-align: right;\">                 0.342339</td><td style=\"text-align: right;\">                  0.965571</td><td style=\"text-align: right;\">                 0.878593</td><td style=\"text-align: right;\">                 -0.171225</td><td style=\"text-align: right;\">                  0.758563</td><td style=\"text-align: right;\">                             0.314839</td><td style=\"text-align: right;\">                           8.64018</td><td style=\"text-align: right;\">                        0.0162574</td><td style=\"text-align: right;\">                           6.46475</td><td style=\"text-align: right;\">                 0.616457</td><td style=\"text-align: right;\">                               0.0466738</td><td style=\"text-align: right;\">                        17.2804 </td><td style=\"text-align: right;\">                         4.29058</td><td style=\"text-align: right;\">                        9.30953 </td><td style=\"text-align: right;\">                                6.50058</td><td style=\"text-align: right;\">                                      337.003</td><td style=\"text-align: right;\">                                              0.132993 </td><td style=\"text-align: right;\">                                 4.58323</td><td style=\"text-align: right;\">                                     217.015</td><td style=\"text-align: right;\">                              10.898   </td><td style=\"text-align: right;\">                                   77.7451 </td><td style=\"text-align: right;\">                                      22.7616</td><td style=\"text-align: right;\">                                                   2022.96</td><td style=\"text-align: right;\">                                                 0.583225</td><td style=\"text-align: right;\">                                 0.0347998</td><td style=\"text-align: right;\">                                    0.15977  </td><td style=\"text-align: right;\">                                                 10.3398  </td><td style=\"text-align: right;\">                                               0.0068839 </td><td style=\"text-align: right;\">                                      187.599</td><td style=\"text-align: right;\">                                              0.0845148</td><td style=\"text-align: right;\">                               10.9867  </td><td style=\"text-align: right;\">                                       76.0065 </td><td style=\"text-align: right;\">                               1.893  </td><td style=\"text-align: right;\">                                            157.553</td><td style=\"text-align: right;\">                                         0.0586882</td><td style=\"text-align: right;\">                                     0.0359872</td><td style=\"text-align: right;\">                          4.19173</td><td style=\"text-align: right;\">                                      1892.27</td><td style=\"text-align: right;\">                                               0.821479</td><td style=\"text-align: right;\">                            0.874476</td><td style=\"text-align: right;\">                          0.431367</td><td style=\"text-align: right;\">                               0.912537</td><td style=\"text-align: right;\">                                            68.779  </td><td style=\"text-align: right;\">                                          0.0332583</td><td style=\"text-align: right;\">                                      37.8357</td><td style=\"text-align: right;\">                                              0.0888162</td><td style=\"text-align: right;\">                                10.5913 </td><td style=\"text-align: right;\">                                        60.5822 </td><td style=\"text-align: right;\">                                 461.587</td><td style=\"text-align: right;\">                                      45261.8        </td><td style=\"text-align: right;\">                                             6.41314</td><td style=\"text-align: right;\">                                       0.048642</td><td style=\"text-align: right;\">                                    109.46  </td><td style=\"text-align: right;\">                                              0.256949</td><td style=\"text-align: right;\">                                0.520829</td><td style=\"text-align: right;\">                                             30.9637 </td><td style=\"text-align: right;\">                                           0.0235263</td><td style=\"text-align: right;\">                           6.06682</td><td style=\"text-align: right;\">                            0.168114 </td><td style=\"text-align: right;\">                            426.204</td><td style=\"text-align: right;\">                        2.2163 </td><td style=\"text-align: right;\">                      0.00407269 </td><td style=\"text-align: right;\">                        123.629  </td><td style=\"text-align: right;\">                     0.116181  </td><td style=\"text-align: right;\">                      0.318377 </td><td style=\"text-align: right;\">                         0.922404</td><td style=\"text-align: right;\">                       0.122229</td><td style=\"text-align: right;\">                               5.36147</td><td style=\"text-align: right;\">                               43.8643</td><td style=\"text-align: right;\">                                       47.0106</td><td style=\"text-align: right;\">                                    51.9711</td><td style=\"text-align: right;\">                                      49.0102</td><td style=\"text-align: right;\">                                 51.9808</td><td style=\"text-align: right;\">                          6463.5 </td><td style=\"text-align: right;\">                               40.4606</td><td style=\"text-align: right;\">                         0.428811</td><td style=\"text-align: right;\">                           3913.19</td><td style=\"text-align: right;\">                                 0.605428</td><td style=\"text-align: right;\">                              6500</td><td style=\"text-align: right;\">                                     134</td><td style=\"text-align: right;\">                                     372</td><td style=\"text-align: right;\">                       4.49409e+08</td><td style=\"text-align: right;\">                            3.71544</td><td style=\"text-align: right;\">                                        118   </td><td style=\"text-align: right;\">                             2.25206</td><td style=\"text-align: right;\">                                438</td><td style=\"text-align: right;\">                                          69.7162</td><td style=\"text-align: right;\">                        248.798 </td><td style=\"text-align: right;\">                               250</td><td style=\"text-align: right;\">                                 65</td><td style=\"text-align: right;\">                              373</td><td style=\"text-align: right;\">                                                51.4435</td><td style=\"text-align: right;\">                                   262.944 </td><td style=\"text-align: right;\">                          0.152213  </td><td style=\"text-align: right;\">                            4.49409e+08</td><td style=\"text-align: right;\">                             0.0838182</td><td style=\"text-align: right;\">                            7239.19 </td><td style=\"text-align: right;\">                              77.3662</td><td style=\"text-align: right;\">                              2218.76  </td><td style=\"text-align: right;\">                          9.34095 </td><td style=\"text-align: right;\">                             29.6514 </td><td style=\"text-align: right;\">                      9.38954 </td><td style=\"text-align: right;\">                         0.486393</td><td style=\"text-align: right;\">                               2.16344 </td><td style=\"text-align: right;\">                                2.52704</td><td style=\"text-align: right;\">                                3.70649 </td><td style=\"text-align: right;\">                0.479635</td><td style=\"text-align: right;\">                 0.412261</td><td style=\"text-align: right;\">                  0.968219</td><td style=\"text-align: right;\">                 0.891941</td><td style=\"text-align: right;\">                 -0.206416</td><td style=\"text-align: right;\">                  0.769556</td><td style=\"text-align: right;\">                             0.338523</td><td style=\"text-align: right;\">                           8.50272</td><td style=\"text-align: right;\">                        0.0182015</td><td style=\"text-align: right;\">                           6.44668</td><td style=\"text-align: right;\">                 0.576874</td><td style=\"text-align: right;\">                               0.0520137</td><td style=\"text-align: right;\">                        17.0054 </td><td style=\"text-align: right;\">                         4.33343</td><td style=\"text-align: right;\">                        9.76025 </td><td style=\"text-align: right;\">                                7.10221</td><td style=\"text-align: right;\">                                      593.973</td><td style=\"text-align: right;\">                                              0.0913804</td><td style=\"text-align: right;\">                                 11.106 </td><td style=\"text-align: right;\">                                     544.818</td><td style=\"text-align: right;\">                              11.669   </td><td style=\"text-align: right;\">                                   83.4594 </td><td style=\"text-align: right;\">                                      48.3911</td><td style=\"text-align: right;\">                                                   3854.63</td><td style=\"text-align: right;\">                                                  1.0791 </td><td style=\"text-align: right;\">                                 0.0300499</td><td style=\"text-align: right;\">                                    0.0972978</td><td style=\"text-align: right;\">                                                  7.13103 </td><td style=\"text-align: right;\">                                               0.00425596</td><td style=\"text-align: right;\">                                      420.112</td><td style=\"text-align: right;\">                                              0.0801143</td><td style=\"text-align: right;\">                               12.357   </td><td style=\"text-align: right;\">                                       82.8974 </td><td style=\"text-align: right;\">                               3.08691</td><td style=\"text-align: right;\">                                           259.103 </td><td style=\"text-align: right;\">                                         0.076322 </td><td style=\"text-align: right;\">                                     0.0321805</td><td style=\"text-align: right;\">                          4.53002</td><td style=\"text-align: right;\">                                      4073.57</td><td style=\"text-align: right;\">                                               0.729339</td><td style=\"text-align: right;\">                            0.803609</td><td style=\"text-align: right;\">                          1.10025 </td><td style=\"text-align: right;\">                               0.861631</td><td style=\"text-align: right;\">                                            71.4332 </td><td style=\"text-align: right;\">                                          0.0283832</td><td style=\"text-align: right;\">                                      46.9337</td><td style=\"text-align: right;\">                                              0.0819087</td><td style=\"text-align: right;\">                                13.6555 </td><td style=\"text-align: right;\">                                         66.4904</td><td style=\"text-align: right;\">                                 3138.24</td><td style=\"text-align: right;\">                                     262931          </td><td style=\"text-align: right;\">                                             55.0869</td></tr>\n",
       "<tr><td style=\"text-align: right;\">                         0.70876 </td><td style=\"text-align: right;\">                      0.10045  </td><td style=\"text-align: right;\">                               5.54695</td><td style=\"text-align: right;\">                               55.2209</td><td style=\"text-align: right;\">                                       46.2709</td><td style=\"text-align: right;\">                                    61.8466</td><td style=\"text-align: right;\">                                      60.0083</td><td style=\"text-align: right;\">                                 61.8466</td><td style=\"text-align: right;\">                          7239.75</td><td style=\"text-align: right;\">                               39.1384</td><td style=\"text-align: right;\">                         0.391086</td><td style=\"text-align: right;\">                           4627.65</td><td style=\"text-align: right;\">                                 0.639201</td><td style=\"text-align: right;\">                              7283</td><td style=\"text-align: right;\">                                      52</td><td style=\"text-align: right;\">                                     121</td><td style=\"text-align: right;\">                       5.50301e+07</td><td style=\"text-align: right;\">                            2.16694</td><td style=\"text-align: right;\">                                            32</td><td style=\"text-align: right;\">                             4.30439</td><td style=\"text-align: right;\">                                215</td><td style=\"text-align: right;\">                                          21.2204</td><td style=\"text-align: right;\">                         82.2134</td><td style=\"text-align: right;\">                                79</td><td style=\"text-align: right;\">                                 11</td><td style=\"text-align: right;\">                              204</td><td style=\"text-align: right;\">                                                13.715 </td><td style=\"text-align: right;\">                                    86.9251</td><td style=\"text-align: right;\">                           0.936897 </td><td style=\"text-align: right;\">                            5.50301e+07</td><td style=\"text-align: right;\">                             0.277361 </td><td style=\"text-align: right;\">                             796.93 </td><td style=\"text-align: right;\">                              15.9787</td><td style=\"text-align: right;\">                               66.3161 </td><td style=\"text-align: right;\">                         6.81693  </td><td style=\"text-align: right;\">                              4.0219 </td><td style=\"text-align: right;\">                      1.19994 </td><td style=\"text-align: right;\">                         0.537705</td><td style=\"text-align: right;\">                               0.667361</td><td style=\"text-align: right;\">                                1.51976</td><td style=\"text-align: right;\">                                0.714191</td><td style=\"text-align: right;\">                0.734588</td><td style=\"text-align: right;\">                 0.716844</td><td style=\"text-align: right;\">                  0.986315</td><td style=\"text-align: right;\">                 0.937685</td><td style=\"text-align: right;\">                 -0.185801</td><td style=\"text-align: right;\">                  0.675977</td><td style=\"text-align: right;\">                             0.375821</td><td style=\"text-align: right;\">                           3.90798</td><td style=\"text-align: right;\">                        0.120838 </td><td style=\"text-align: right;\">                           3.88498</td><td style=\"text-align: right;\">                 0.573076</td><td style=\"text-align: right;\">                               0.237164 </td><td style=\"text-align: right;\">                         7.81596</td><td style=\"text-align: right;\">                         2.89969</td><td style=\"text-align: right;\">                        1.30546 </td><td style=\"text-align: right;\">                                6.50902</td><td style=\"text-align: right;\">                                      332.342</td><td style=\"text-align: right;\">                                              0.0456325</td><td style=\"text-align: right;\">                                43.1885 </td><td style=\"text-align: right;\">                                    2020.02 </td><td style=\"text-align: right;\">                               1.34551 </td><td style=\"text-align: right;\">                                   15.9893 </td><td style=\"text-align: right;\">                                     185.437 </td><td style=\"text-align: right;\">                                                   2653.34</td><td style=\"text-align: right;\">                                                15.3063  </td><td style=\"text-align: right;\">                                 0.0922318</td><td style=\"text-align: right;\">                                    0.0335844</td><td style=\"text-align: right;\">                                                  0.568969</td><td style=\"text-align: right;\">                                               0.00575482</td><td style=\"text-align: right;\">                                      992.451</td><td style=\"text-align: right;\">                                              0.232462 </td><td style=\"text-align: right;\">                                1.75125 </td><td style=\"text-align: right;\">                                       16.7882 </td><td style=\"text-align: right;\">                               7.42347</td><td style=\"text-align: right;\">                                            110.084</td><td style=\"text-align: right;\">                                         0.630025 </td><td style=\"text-align: right;\">                                     0.0991912</td><td style=\"text-align: right;\">                          3.98742</td><td style=\"text-align: right;\">                                      2043.53</td><td style=\"text-align: right;\">                                               0.453772</td><td style=\"text-align: right;\">                            0.579738</td><td style=\"text-align: right;\">                          3.47536 </td><td style=\"text-align: right;\">                               0.688601</td><td style=\"text-align: right;\">                                            11.9056 </td><td style=\"text-align: right;\">                                          0.072176 </td><td style=\"text-align: right;\">                                      28.9641</td><td style=\"text-align: right;\">                                              0.173438 </td><td style=\"text-align: right;\">                                 4.57557</td><td style=\"text-align: right;\">                                        17.5269 </td><td style=\"text-align: right;\">                               81203.1  </td><td style=\"text-align: right;\">                                          1.10932e+06</td><td style=\"text-align: right;\">                                          6697.31   </td><td style=\"text-align: right;\">                                       0.235142</td><td style=\"text-align: right;\">                                     42.6527</td><td style=\"text-align: right;\">                                              0.255405</td><td style=\"text-align: right;\">                                0.520482</td><td style=\"text-align: right;\">                                              8.23961</td><td style=\"text-align: right;\">                                           0.14384  </td><td style=\"text-align: right;\">                           5.1839 </td><td style=\"text-align: right;\">                            0.0229301</td><td style=\"text-align: right;\">                          79301.2  </td><td style=\"text-align: right;\">                       20.4063 </td><td style=\"text-align: right;\">                      0.00119804 </td><td style=\"text-align: right;\">                         18.8536 </td><td style=\"text-align: right;\">                     0.0195409 </td><td style=\"text-align: right;\">                      0.0443821</td><td style=\"text-align: right;\">                         0.949772</td><td style=\"text-align: right;\">                       0.264631</td><td style=\"text-align: right;\">                               6.13511</td><td style=\"text-align: right;\">                               23.1837</td><td style=\"text-align: right;\">                                       27.1662</td><td style=\"text-align: right;\">                                    26.8328</td><td style=\"text-align: right;\">                                      28.0713</td><td style=\"text-align: right;\">                                 28.5307</td><td style=\"text-align: right;\">                          1996   </td><td style=\"text-align: right;\">                               22.0192</td><td style=\"text-align: right;\">                         0.566911</td><td style=\"text-align: right;\">                           1352.31</td><td style=\"text-align: right;\">                                 0.67751 </td><td style=\"text-align: right;\">                              2018</td><td style=\"text-align: right;\">                                      54</td><td style=\"text-align: right;\">                                     184</td><td style=\"text-align: right;\">                       3.10401e+07</td><td style=\"text-align: right;\">                            3.01864</td><td style=\"text-align: right;\">                                         74.75</td><td style=\"text-align: right;\">                             2.68421</td><td style=\"text-align: right;\">                                255</td><td style=\"text-align: right;\">                                          41.93  </td><td style=\"text-align: right;\">                        113.086 </td><td style=\"text-align: right;\">                               106</td><td style=\"text-align: right;\">                                 11</td><td style=\"text-align: right;\">                              244</td><td style=\"text-align: right;\">                                                30.5954</td><td style=\"text-align: right;\">                                   124.023 </td><td style=\"text-align: right;\">                          0.508121  </td><td style=\"text-align: right;\">                            3.10401e+07</td><td style=\"text-align: right;\">                             0.140266 </td><td style=\"text-align: right;\">                            2593.11 </td><td style=\"text-align: right;\">                              31.6093</td><td style=\"text-align: right;\">                               543.913 </td><td style=\"text-align: right;\">                         25.3399  </td><td style=\"text-align: right;\">                             14.5904 </td><td style=\"text-align: right;\">                      2.87813 </td><td style=\"text-align: right;\">                         0.674465</td><td style=\"text-align: right;\">                               1.21441 </td><td style=\"text-align: right;\">                                1.9986 </td><td style=\"text-align: right;\">                                1.31309 </td><td style=\"text-align: right;\">                0.582263</td><td style=\"text-align: right;\">                 0.539823</td><td style=\"text-align: right;\">                  0.978379</td><td style=\"text-align: right;\">                 0.908235</td><td style=\"text-align: right;\">                 -0.180357</td><td style=\"text-align: right;\">                  0.784753</td><td style=\"text-align: right;\">                             0.454086</td><td style=\"text-align: right;\">                           5.35461</td><td style=\"text-align: right;\">                        0.0303644</td><td style=\"text-align: right;\">                           5.54484</td><td style=\"text-align: right;\">                 0.697586</td><td style=\"text-align: right;\">                               0.0641276</td><td style=\"text-align: right;\">                        10.7092 </td><td style=\"text-align: right;\">                         3.88987</td><td style=\"text-align: right;\">                        4.36712 </td><td style=\"text-align: right;\">                                6.64106</td><td style=\"text-align: right;\">                                      165.69 </td><td style=\"text-align: right;\">                                              0.0821059</td><td style=\"text-align: right;\">                                 13.0766</td><td style=\"text-align: right;\">                                     283.057</td><td style=\"text-align: right;\">                               4.24173 </td><td style=\"text-align: right;\">                                   29.6997 </td><td style=\"text-align: right;\">                                      64.5064</td><td style=\"text-align: right;\">                                                   2015.13</td><td style=\"text-align: right;\">                                                  3.74899</td><td style=\"text-align: right;\">                                 0.075574 </td><td style=\"text-align: right;\">                                    0.0581217</td><td style=\"text-align: right;\">                                                  1.43813 </td><td style=\"text-align: right;\">                                               0.00813155</td><td style=\"text-align: right;\">                                      213.301</td><td style=\"text-align: right;\">                                              0.138369 </td><td style=\"text-align: right;\">                                4.33364 </td><td style=\"text-align: right;\">                                       29.284  </td><td style=\"text-align: right;\">                               2.44321</td><td style=\"text-align: right;\">                                            73.2957</td><td style=\"text-align: right;\">                                         0.166599 </td><td style=\"text-align: right;\">                                     0.0804536</td><td style=\"text-align: right;\">                          4.02614</td><td style=\"text-align: right;\">                                      1005.5 </td><td style=\"text-align: right;\">                                               0.636462</td><td style=\"text-align: right;\">                            0.762636</td><td style=\"text-align: right;\">                          0.589748</td><td style=\"text-align: right;\">                               0.819181</td><td style=\"text-align: right;\">                                            23.6441 </td><td style=\"text-align: right;\">                                          0.069032 </td><td style=\"text-align: right;\">                                      13.6506</td><td style=\"text-align: right;\">                                              0.164465 </td><td style=\"text-align: right;\">                                 5.58456</td><td style=\"text-align: right;\">                                         19.988 </td><td style=\"text-align: right;\">                                 5327.11</td><td style=\"text-align: right;\">                                     138195          </td><td style=\"text-align: right;\">                                            303.735 </td></tr>\n",
       "<tr><td style=\"text-align: right;\">                         0.518064</td><td style=\"text-align: right;\">                      0.0939692</td><td style=\"text-align: right;\">                               5.88477</td><td style=\"text-align: right;\">                               62.6244</td><td style=\"text-align: right;\">                                       64     </td><td style=\"text-align: right;\">                                    69.857 </td><td style=\"text-align: right;\">                                      45.1774</td><td style=\"text-align: right;\">                                 69.857 </td><td style=\"text-align: right;\">                          5059.79</td><td style=\"text-align: right;\">                               32.4435</td><td style=\"text-align: right;\">                         0.34026 </td><td style=\"text-align: right;\">                           4188.86</td><td style=\"text-align: right;\">                                 0.827871</td><td style=\"text-align: right;\">                              5117</td><td style=\"text-align: right;\">                                      75</td><td style=\"text-align: right;\">                                     136</td><td style=\"text-align: right;\">                       5.78649e+07</td><td style=\"text-align: right;\">                            2.0916 </td><td style=\"text-align: right;\">                                            30</td><td style=\"text-align: right;\">                             5.66883</td><td style=\"text-align: right;\">                                255</td><td style=\"text-align: right;\">                                          19.5526</td><td style=\"text-align: right;\">                        103.052 </td><td style=\"text-align: right;\">                               100</td><td style=\"text-align: right;\">                                 22</td><td style=\"text-align: right;\">                              233</td><td style=\"text-align: right;\">                                                12.8585</td><td style=\"text-align: right;\">                                   106.341 </td><td style=\"text-align: right;\">                           0.947279 </td><td style=\"text-align: right;\">                            5.78649e+07</td><td style=\"text-align: right;\">                             0.289246 </td><td style=\"text-align: right;\">                             688.615</td><td style=\"text-align: right;\">                              22.7491</td><td style=\"text-align: right;\">                               64.4858 </td><td style=\"text-align: right;\">                         7.22175  </td><td style=\"text-align: right;\">                              3.48927</td><td style=\"text-align: right;\">                      0.872336</td><td style=\"text-align: right;\">                         0.595502</td><td style=\"text-align: right;\">                               0.541426</td><td style=\"text-align: right;\">                                1.35466</td><td style=\"text-align: right;\">                                0.558398</td><td style=\"text-align: right;\">                0.771543</td><td style=\"text-align: right;\">                 0.76017 </td><td style=\"text-align: right;\">                  0.99315 </td><td style=\"text-align: right;\">                 0.956832</td><td style=\"text-align: right;\">                 -0.237962</td><td style=\"text-align: right;\">                  0.754945</td><td style=\"text-align: right;\">                             0.358346</td><td style=\"text-align: right;\">                           4.70043</td><td style=\"text-align: right;\">                        0.148144 </td><td style=\"text-align: right;\">                           3.54369</td><td style=\"text-align: right;\">                 0.680017</td><td style=\"text-align: right;\">                               0.283586 </td><td style=\"text-align: right;\">                         9.40087</td><td style=\"text-align: right;\">                         2.73248</td><td style=\"text-align: right;\">                        1.0904  </td><td style=\"text-align: right;\">                                6.31453</td><td style=\"text-align: right;\">                                      239.791</td><td style=\"text-align: right;\">                                              0.0468617</td><td style=\"text-align: right;\">                                44.617  </td><td style=\"text-align: right;\">                                    1480.07 </td><td style=\"text-align: right;\">                               1.18248 </td><td style=\"text-align: right;\">                                   22.8013 </td><td style=\"text-align: right;\">                                     193.303 </td><td style=\"text-align: right;\">                                                   4132.08</td><td style=\"text-align: right;\">                                                 9.94173 </td><td style=\"text-align: right;\">                                 0.0548781</td><td style=\"text-align: right;\">                                    0.0436841</td><td style=\"text-align: right;\">                                                  0.884017</td><td style=\"text-align: right;\">                                               0.00412484</td><td style=\"text-align: right;\">                                      715.938</td><td style=\"text-align: right;\">                                              0.243228 </td><td style=\"text-align: right;\">                                1.59095 </td><td style=\"text-align: right;\">                                       23.1953 </td><td style=\"text-align: right;\">                               9.16512</td><td style=\"text-align: right;\">                                            200.151</td><td style=\"text-align: right;\">                                         0.47859  </td><td style=\"text-align: right;\">                                     0.0587024</td><td style=\"text-align: right;\">                          3.87718</td><td style=\"text-align: right;\">                                      1379.74</td><td style=\"text-align: right;\">                                               0.447368</td><td style=\"text-align: right;\">                            0.569474</td><td style=\"text-align: right;\">                          4.79793 </td><td style=\"text-align: right;\">                               0.688592</td><td style=\"text-align: right;\">                                            16.0265 </td><td style=\"text-align: right;\">                                          0.0428609</td><td style=\"text-align: right;\">                                      39.9149</td><td style=\"text-align: right;\">                                              0.212313 </td><td style=\"text-align: right;\">                                 3.56912</td><td style=\"text-align: right;\">                                        19.5266 </td><td style=\"text-align: right;\">                               33415.8  </td><td style=\"text-align: right;\">                                     685300          </td><td style=\"text-align: right;\">                                          1750.21   </td><td style=\"text-align: right;\">                                       0.108185</td><td style=\"text-align: right;\">                                     52.9681</td><td style=\"text-align: right;\">                                              0.281745</td><td style=\"text-align: right;\">                                0.541616</td><td style=\"text-align: right;\">                                              9.87426</td><td style=\"text-align: right;\">                                           0.0672249</td><td style=\"text-align: right;\">                           4.84676</td><td style=\"text-align: right;\">                            0.0367403</td><td style=\"text-align: right;\">                          32675    </td><td style=\"text-align: right;\">                        7.29204</td><td style=\"text-align: right;\">                      0.00196045 </td><td style=\"text-align: right;\">                         25.9973 </td><td style=\"text-align: right;\">                     0.00970404</td><td style=\"text-align: right;\">                      0.123888 </td><td style=\"text-align: right;\">                         0.882798</td><td style=\"text-align: right;\">                       0.203914</td><td style=\"text-align: right;\">                               7.04919</td><td style=\"text-align: right;\">                               34.5694</td><td style=\"text-align: right;\">                                       37.0135</td><td style=\"text-align: right;\">                                    38.6394</td><td style=\"text-align: right;\">                                      35.1283</td><td style=\"text-align: right;\">                                 38.6523</td><td style=\"text-align: right;\">                          5030.21</td><td style=\"text-align: right;\">                               30.5178</td><td style=\"text-align: right;\">                         0.580514</td><td style=\"text-align: right;\">                           2445.66</td><td style=\"text-align: right;\">                                 0.486194</td><td style=\"text-align: right;\">                              5058</td><td style=\"text-align: right;\">                                      91</td><td style=\"text-align: right;\">                                     185</td><td style=\"text-align: right;\">                       1.04722e+08</td><td style=\"text-align: right;\">                            2.61243</td><td style=\"text-align: right;\">                                         45   </td><td style=\"text-align: right;\">                             3.43991</td><td style=\"text-align: right;\">                                255</td><td style=\"text-align: right;\">                                          28.6293</td><td style=\"text-align: right;\">                        139.054 </td><td style=\"text-align: right;\">                               138</td><td style=\"text-align: right;\">                                 37</td><td style=\"text-align: right;\">                              218</td><td style=\"text-align: right;\">                                                19.3349</td><td style=\"text-align: right;\">                                   143.889 </td><td style=\"text-align: right;\">                          0.35277   </td><td style=\"text-align: right;\">                            1.04722e+08</td><td style=\"text-align: right;\">                             0.19572  </td><td style=\"text-align: right;\">                            1368.12 </td><td style=\"text-align: right;\">                              28.0459</td><td style=\"text-align: right;\">                               182.629 </td><td style=\"text-align: right;\">                          9.5049  </td><td style=\"text-align: right;\">                              6.97657</td><td style=\"text-align: right;\">                      1.53005 </td><td style=\"text-align: right;\">                         0.637572</td><td style=\"text-align: right;\">                               0.779307</td><td style=\"text-align: right;\">                                1.64106</td><td style=\"text-align: right;\">                                0.880333</td><td style=\"text-align: right;\">                0.698982</td><td style=\"text-align: right;\">                 0.678217</td><td style=\"text-align: right;\">                  0.985991</td><td style=\"text-align: right;\">                 0.934217</td><td style=\"text-align: right;\">                 -0.225774</td><td style=\"text-align: right;\">                  0.794373</td><td style=\"text-align: right;\">                             0.417025</td><td style=\"text-align: right;\">                           5.16566</td><td style=\"text-align: right;\">                        0.0744333</td><td style=\"text-align: right;\">                           4.53227</td><td style=\"text-align: right;\">                 0.704342</td><td style=\"text-align: right;\">                               0.179615 </td><td style=\"text-align: right;\">                        10.3313 </td><td style=\"text-align: right;\">                         3.36491</td><td style=\"text-align: right;\">                        2.12666 </td><td style=\"text-align: right;\">                                6.8488 </td><td style=\"text-align: right;\">                                      241.967</td><td style=\"text-align: right;\">                                              0.0478384</td><td style=\"text-align: right;\">                                 35.4027</td><td style=\"text-align: right;\">                                     989.951</td><td style=\"text-align: right;\">                               2.29121 </td><td style=\"text-align: right;\">                                   28.2754 </td><td style=\"text-align: right;\">                                     161.883 </td><td style=\"text-align: right;\">                                                   4715.21</td><td style=\"text-align: right;\">                                                  6.7299 </td><td style=\"text-align: right;\">                                 0.0541884</td><td style=\"text-align: right;\">                                    0.0404487</td><td style=\"text-align: right;\">                                                  0.977993</td><td style=\"text-align: right;\">                                               0.0040319 </td><td style=\"text-align: right;\">                                      533.039</td><td style=\"text-align: right;\">                                              0.173083 </td><td style=\"text-align: right;\">                                2.75148 </td><td style=\"text-align: right;\">                                       27.5197 </td><td style=\"text-align: right;\">                               5.91249</td><td style=\"text-align: right;\">                                           170.592 </td><td style=\"text-align: right;\">                                         0.270243 </td><td style=\"text-align: right;\">                                     0.0612926</td><td style=\"text-align: right;\">                          4.21908</td><td style=\"text-align: right;\">                                      1495.5 </td><td style=\"text-align: right;\">                                               0.469961</td><td style=\"text-align: right;\">                            0.60591 </td><td style=\"text-align: right;\">                          2.57586 </td><td style=\"text-align: right;\">                               0.707285</td><td style=\"text-align: right;\">                                            18.9121 </td><td style=\"text-align: right;\">                                          0.047466 </td><td style=\"text-align: right;\">                                      22.7007</td><td style=\"text-align: right;\">                                              0.154426 </td><td style=\"text-align: right;\">                                 4.54153</td><td style=\"text-align: right;\">                                         23.1429</td><td style=\"text-align: right;\">                                30638.8 </td><td style=\"text-align: right;\">                                     832866          </td><td style=\"text-align: right;\">                                           1291.24  </td></tr>\n",
       "</tbody>\n",
       "</table><pre style='font-size: smaller; margin-bottom: 1em;'>[10 rows x 200 columns]</pre>"
      ],
      "text/plain": [
       "  original_shape_Elongation_LV_ED    original_shape_Flatness_LV_ED    original_shape_LeastAxisLength_LV_ED    original_shape_MajorAxisLength_LV_ED    original_shape_Maximum2DDiameterColumn_LV_ED    original_shape_Maximum2DDiameterRow_LV_ED    original_shape_Maximum2DDiameterSlice_LV_ED    original_shape_Maximum3DDiameter_LV_ED    original_shape_MeshVolume_LV_ED    original_shape_MinorAxisLength_LV_ED    original_shape_Sphericity_LV_ED    original_shape_SurfaceArea_LV_ED    original_shape_SurfaceVolumeRatio_LV_ED    original_shape_VoxelVolume_LV_ED    original_firstorder_10Percentile_LV_ED    original_firstorder_90Percentile_LV_ED    original_firstorder_Energy_LV_ED    original_firstorder_Entropy_LV_ED    original_firstorder_InterquartileRange_LV_ED    original_firstorder_Kurtosis_LV_ED    original_firstorder_Maximum_LV_ED    original_firstorder_MeanAbsoluteDeviation_LV_ED    original_firstorder_Mean_LV_ED    original_firstorder_Median_LV_ED    original_firstorder_Minimum_LV_ED    original_firstorder_Range_LV_ED    original_firstorder_RobustMeanAbsoluteDeviation_LV_ED    original_firstorder_RootMeanSquared_LV_ED    original_firstorder_Skewness_LV_ED    original_firstorder_TotalEnergy_LV_ED    original_firstorder_Uniformity_LV_ED    original_firstorder_Variance_LV_ED    original_glcm_Autocorrelation_LV_ED    original_glcm_ClusterProminence_LV_ED    original_glcm_ClusterShade_LV_ED    original_glcm_ClusterTendency_LV_ED    original_glcm_Contrast_LV_ED    original_glcm_Correlation_LV_ED    original_glcm_DifferenceAverage_LV_ED    original_glcm_DifferenceEntropy_LV_ED    original_glcm_DifferenceVariance_LV_ED    original_glcm_Id_LV_ED    original_glcm_Idm_LV_ED    original_glcm_Idmn_LV_ED    original_glcm_Idn_LV_ED    original_glcm_Imc1_LV_ED    original_glcm_Imc2_LV_ED    original_glcm_InverseVariance_LV_ED    original_glcm_JointAverage_LV_ED    original_glcm_JointEnergy_LV_ED    original_glcm_JointEntropy_LV_ED    original_glcm_MCC_LV_ED    original_glcm_MaximumProbability_LV_ED    original_glcm_SumAverage_LV_ED    original_glcm_SumEntropy_LV_ED    original_glcm_SumSquares_LV_ED    original_gldm_DependenceEntropy_LV_ED    original_gldm_DependenceNonUniformity_LV_ED    original_gldm_DependenceNonUniformityNormalized_LV_ED    original_gldm_DependenceVariance_LV_ED    original_gldm_GrayLevelNonUniformity_LV_ED    original_gldm_GrayLevelVariance_LV_ED    original_gldm_HighGrayLevelEmphasis_LV_ED    original_gldm_LargeDependenceEmphasis_LV_ED    original_gldm_LargeDependenceHighGrayLevelEmphasis_LV_ED    original_gldm_LargeDependenceLowGrayLevelEmphasis_LV_ED    original_gldm_LowGrayLevelEmphasis_LV_ED    original_gldm_SmallDependenceEmphasis_LV_ED    original_gldm_SmallDependenceHighGrayLevelEmphasis_LV_ED    original_gldm_SmallDependenceLowGrayLevelEmphasis_LV_ED    original_glrlm_GrayLevelNonUniformity_LV_ED    original_glrlm_GrayLevelNonUniformityNormalized_LV_ED    original_glrlm_GrayLevelVariance_LV_ED    original_glrlm_HighGrayLevelRunEmphasis_LV_ED    original_glrlm_LongRunEmphasis_LV_ED    original_glrlm_LongRunHighGrayLevelEmphasis_LV_ED    original_glrlm_LongRunLowGrayLevelEmphasis_LV_ED    original_glrlm_LowGrayLevelRunEmphasis_LV_ED    original_glrlm_RunEntropy_LV_ED    original_glrlm_RunLengthNonUniformity_LV_ED    original_glrlm_RunLengthNonUniformityNormalized_LV_ED    original_glrlm_RunPercentage_LV_ED    original_glrlm_RunVariance_LV_ED    original_glrlm_ShortRunEmphasis_LV_ED    original_glrlm_ShortRunHighGrayLevelEmphasis_LV_ED    original_glrlm_ShortRunLowGrayLevelEmphasis_LV_ED    original_glszm_GrayLevelNonUniformity_LV_ED    original_glszm_GrayLevelNonUniformityNormalized_LV_ED    original_glszm_GrayLevelVariance_LV_ED    original_glszm_HighGrayLevelZoneEmphasis_LV_ED    original_glszm_LargeAreaEmphasis_LV_ED    original_glszm_LargeAreaHighGrayLevelEmphasis_LV_ED    original_glszm_LargeAreaLowGrayLevelEmphasis_LV_ED    original_glszm_LowGrayLevelZoneEmphasis_LV_ED    original_glszm_SizeZoneNonUniformity_LV_ED    original_glszm_SizeZoneNonUniformityNormalized_LV_ED    original_glszm_SmallAreaEmphasis_LV_ED    original_glszm_SmallAreaHighGrayLevelEmphasis_LV_ED    original_glszm_SmallAreaLowGrayLevelEmphasis_LV_ED    original_glszm_ZoneEntropy_LV_ED    original_glszm_ZonePercentage_LV_ED    original_glszm_ZoneVariance_LV_ED    original_ngtdm_Busyness_LV_ED    original_ngtdm_Coarseness_LV_ED    original_ngtdm_Complexity_LV_ED    original_ngtdm_Contrast_LV_ED    original_ngtdm_Strength_LV_ED    original_shape_Elongation_RV_ED    original_shape_Flatness_RV_ED    original_shape_LeastAxisLength_RV_ED    original_shape_MajorAxisLength_RV_ED    original_shape_Maximum2DDiameterColumn_RV_ED    original_shape_Maximum2DDiameterRow_RV_ED    original_shape_Maximum2DDiameterSlice_RV_ED    original_shape_Maximum3DDiameter_RV_ED    original_shape_MeshVolume_RV_ED    original_shape_MinorAxisLength_RV_ED    original_shape_Sphericity_RV_ED    original_shape_SurfaceArea_RV_ED    original_shape_SurfaceVolumeRatio_RV_ED    original_shape_VoxelVolume_RV_ED    original_firstorder_10Percentile_RV_ED    original_firstorder_90Percentile_RV_ED    original_firstorder_Energy_RV_ED    original_firstorder_Entropy_RV_ED    original_firstorder_InterquartileRange_RV_ED    original_firstorder_Kurtosis_RV_ED    original_firstorder_Maximum_RV_ED    original_firstorder_MeanAbsoluteDeviation_RV_ED    original_firstorder_Mean_RV_ED    original_firstorder_Median_RV_ED    original_firstorder_Minimum_RV_ED    original_firstorder_Range_RV_ED    original_firstorder_RobustMeanAbsoluteDeviation_RV_ED    original_firstorder_RootMeanSquared_RV_ED    original_firstorder_Skewness_RV_ED    original_firstorder_TotalEnergy_RV_ED    original_firstorder_Uniformity_RV_ED    original_firstorder_Variance_RV_ED    original_glcm_Autocorrelation_RV_ED    original_glcm_ClusterProminence_RV_ED    original_glcm_ClusterShade_RV_ED    original_glcm_ClusterTendency_RV_ED    original_glcm_Contrast_RV_ED    original_glcm_Correlation_RV_ED    original_glcm_DifferenceAverage_RV_ED    original_glcm_DifferenceEntropy_RV_ED    original_glcm_DifferenceVariance_RV_ED    original_glcm_Id_RV_ED    original_glcm_Idm_RV_ED    original_glcm_Idmn_RV_ED    original_glcm_Idn_RV_ED    original_glcm_Imc1_RV_ED    original_glcm_Imc2_RV_ED    original_glcm_InverseVariance_RV_ED    original_glcm_JointAverage_RV_ED    original_glcm_JointEnergy_RV_ED    original_glcm_JointEntropy_RV_ED    original_glcm_MCC_RV_ED    original_glcm_MaximumProbability_RV_ED    original_glcm_SumAverage_RV_ED    original_glcm_SumEntropy_RV_ED    original_glcm_SumSquares_RV_ED    original_gldm_DependenceEntropy_RV_ED    original_gldm_DependenceNonUniformity_RV_ED    original_gldm_DependenceNonUniformityNormalized_RV_ED    original_gldm_DependenceVariance_RV_ED    original_gldm_GrayLevelNonUniformity_RV_ED    original_gldm_GrayLevelVariance_RV_ED    original_gldm_HighGrayLevelEmphasis_RV_ED    original_gldm_LargeDependenceEmphasis_RV_ED    original_gldm_LargeDependenceHighGrayLevelEmphasis_RV_ED    original_gldm_LargeDependenceLowGrayLevelEmphasis_RV_ED    original_gldm_LowGrayLevelEmphasis_RV_ED    original_gldm_SmallDependenceEmphasis_RV_ED    original_gldm_SmallDependenceHighGrayLevelEmphasis_RV_ED    original_gldm_SmallDependenceLowGrayLevelEmphasis_RV_ED    original_glrlm_GrayLevelNonUniformity_RV_ED    original_glrlm_GrayLevelNonUniformityNormalized_RV_ED    original_glrlm_GrayLevelVariance_RV_ED    original_glrlm_HighGrayLevelRunEmphasis_RV_ED    original_glrlm_LongRunEmphasis_RV_ED    original_glrlm_LongRunHighGrayLevelEmphasis_RV_ED    original_glrlm_LongRunLowGrayLevelEmphasis_RV_ED    original_glrlm_LowGrayLevelRunEmphasis_RV_ED    original_glrlm_RunEntropy_RV_ED    original_glrlm_RunLengthNonUniformity_RV_ED    original_glrlm_RunLengthNonUniformityNormalized_RV_ED    original_glrlm_RunPercentage_RV_ED    original_glrlm_RunVariance_RV_ED    original_glrlm_ShortRunEmphasis_RV_ED    original_glrlm_ShortRunHighGrayLevelEmphasis_RV_ED    original_glrlm_ShortRunLowGrayLevelEmphasis_RV_ED    original_glszm_GrayLevelNonUniformity_RV_ED    original_glszm_GrayLevelNonUniformityNormalized_RV_ED    original_glszm_GrayLevelVariance_RV_ED    original_glszm_HighGrayLevelZoneEmphasis_RV_ED    original_glszm_LargeAreaEmphasis_RV_ED    original_glszm_LargeAreaHighGrayLevelEmphasis_RV_ED    original_glszm_LargeAreaLowGrayLevelEmphasis_RV_ED\n",
       "---------------------------------  -------------------------------  --------------------------------------  --------------------------------------  ----------------------------------------------  -------------------------------------------  ---------------------------------------------  ----------------------------------------  ---------------------------------  --------------------------------------  ---------------------------------  ----------------------------------  -----------------------------------------  ----------------------------------  ----------------------------------------  ----------------------------------------  ----------------------------------  -----------------------------------  ----------------------------------------------  ------------------------------------  -----------------------------------  -------------------------------------------------  --------------------------------  ----------------------------------  -----------------------------------  ---------------------------------  -------------------------------------------------------  -------------------------------------------  ------------------------------------  ---------------------------------------  --------------------------------------  ------------------------------------  -------------------------------------  ---------------------------------------  ----------------------------------  -------------------------------------  ------------------------------  ---------------------------------  ---------------------------------------  ---------------------------------------  ----------------------------------------  ------------------------  -------------------------  --------------------------  -------------------------  --------------------------  --------------------------  -------------------------------------  ----------------------------------  ---------------------------------  ----------------------------------  -------------------------  ----------------------------------------  --------------------------------  --------------------------------  --------------------------------  ---------------------------------------  ---------------------------------------------  -------------------------------------------------------  ----------------------------------------  --------------------------------------------  ---------------------------------------  -------------------------------------------  ---------------------------------------------  ----------------------------------------------------------  ---------------------------------------------------------  ------------------------------------------  ---------------------------------------------  ----------------------------------------------------------  ---------------------------------------------------------  ---------------------------------------------  -------------------------------------------------------  ----------------------------------------  -----------------------------------------------  --------------------------------------  ---------------------------------------------------  --------------------------------------------------  ----------------------------------------------  ---------------------------------  ---------------------------------------------  -------------------------------------------------------  ------------------------------------  ----------------------------------  ---------------------------------------  ----------------------------------------------------  ---------------------------------------------------  ---------------------------------------------  -------------------------------------------------------  ----------------------------------------  ------------------------------------------------  ----------------------------------------  -----------------------------------------------------  ----------------------------------------------------  -----------------------------------------------  --------------------------------------------  ------------------------------------------------------  ----------------------------------------  -----------------------------------------------------  ----------------------------------------------------  ----------------------------------  -------------------------------------  -----------------------------------  -------------------------------  ---------------------------------  ---------------------------------  -------------------------------  -------------------------------  ---------------------------------  -------------------------------  --------------------------------------  --------------------------------------  ----------------------------------------------  -------------------------------------------  ---------------------------------------------  ----------------------------------------  ---------------------------------  --------------------------------------  ---------------------------------  ----------------------------------  -----------------------------------------  ----------------------------------  ----------------------------------------  ----------------------------------------  ----------------------------------  -----------------------------------  ----------------------------------------------  ------------------------------------  -----------------------------------  -------------------------------------------------  --------------------------------  ----------------------------------  -----------------------------------  ---------------------------------  -------------------------------------------------------  -------------------------------------------  ------------------------------------  ---------------------------------------  --------------------------------------  ------------------------------------  -------------------------------------  ---------------------------------------  ----------------------------------  -------------------------------------  ------------------------------  ---------------------------------  ---------------------------------------  ---------------------------------------  ----------------------------------------  ------------------------  -------------------------  --------------------------  -------------------------  --------------------------  --------------------------  -------------------------------------  ----------------------------------  ---------------------------------  ----------------------------------  -------------------------  ----------------------------------------  --------------------------------  --------------------------------  --------------------------------  ---------------------------------------  ---------------------------------------------  -------------------------------------------------------  ----------------------------------------  --------------------------------------------  ---------------------------------------  -------------------------------------------  ---------------------------------------------  ----------------------------------------------------------  ---------------------------------------------------------  ------------------------------------------  ---------------------------------------------  ----------------------------------------------------------  ---------------------------------------------------------  ---------------------------------------------  -------------------------------------------------------  ----------------------------------------  -----------------------------------------------  --------------------------------------  ---------------------------------------------------  --------------------------------------------------  ----------------------------------------------  ---------------------------------  ---------------------------------------------  -------------------------------------------------------  ------------------------------------  ----------------------------------  ---------------------------------------  ----------------------------------------------------  ---------------------------------------------------  ---------------------------------------------  -------------------------------------------------------  ----------------------------------------  ------------------------------------------------  ----------------------------------------  -----------------------------------------------------  ----------------------------------------------------\n",
       "                         0.565513                        0.114993                                  8.10554                                 70.4872                                         53.3385                                      75.1066                                        77.026                                    77.6724                           12025                                    39.8614                           0.390277                             6503.79                                   0.540858                               12088                                        61                                       104                         9.2996e+07                               1.54405                                              25                               2.4871                                   124                                            13.4673                           86.1996                                  91                                   39                                 85                                                  10.1449                                      87.7112                            -0.651043                               9.2996e+07                                0.388573                                262.875                                 9.131                                   5.66223                          -0.612681                                 1.39278                        0.500202                           0.46664                                  0.429644                                  1.08508                                  0.295046                  0.796584                   0.792234                    0.971911                   0.916383                   -0.182035                    0.570768                               0.371246                             2.98458                          0.217333                              2.70882                   0.531543                                 0.393472                            5.96917                           2.14661                          0.473245                                  5.8705                                         580.225                                                0.0480001                                  38.4152                                       4697.07                                  0.508963                                      9.16438                                       238.846                                                      2150.41                                                  31.0874                                     0.148205                                       0.0168033                                                    0.128161                                                 0.0049199                                        1982.39                                                 0.331162                                   0.656433                                          9.14222                                16.404                                                153.144                                           2.10292                                         0.165731                             3.6745                                         2381.91                                                 0.359949                              0.493948                            9.1525                                   0.601807                                               5.5216                                             0.108648                                         33.3429                                                0.317551                                    1.1142                                            5.07619                                521166                                                4.7518e+06                                            64924.7                                             0.515344                                       23.019                                                 0.219229                                  0.472243                                                2.11013                                             0.26327                               4.37332                              0.0086863                           507912                            139.401                          0.000696014                            2.32846                       0.0314228                         0.0034916                           0.938198                         0.181251                                 9.05138                                 49.9383                                         56.2228                                      55.3263                                        55.2268                                   58.112                            14374.5                                  46.852                            0.519592                             5502.37                                   0.382787                               14417                                        64                                       117                         1.36947e+08                              1.63435                                           26                                  2.61974                                  140                                            15.9014                           95.5016                                 101                                   39                                101                                                  11.6146                                      97.4627                           -0.719415                                1.36947e+08                               0.373483                                378.417                                12.0406                                  11.2635                           -2.25015                                 2.01697                        0.522487                           0.585016                                 0.411685                                  1.132                                    0.339134                  0.811542                   0.805222                    0.980934                   0.933946                   -0.215066                    0.654697                               0.324845                             3.41565                          0.231017                              2.79562                   0.598927                                 0.425358                            6.83129                           2.24637                          0.634865                                  5.80418                                        681.138                                                0.0472454                                   49.4755                                      5384.5                                   0.68933                                      11.9309                                        294.096                                                      4077.45                                                   25.619                                     0.119861                                       0.0158191                                                    0.15093                                                  0.00441793                                       1921.88                                                 0.303926                                   0.804567                                         10.3094                                 17.6753                                              246.087                                            1.54358                                         0.151342                             3.89882                                        2244.13                                                 0.334271                              0.436909                           10.1627                                   0.586791                                               5.5476                                             0.101559                                         32.6529                                                0.269859                                    2.80732                                           10.0661                                 628774                                               8.55049e+06                                            54858.3\n",
       "                         0.540562                        0.155764                                  9.60097                                 61.6379                                         43.7379                                      68.469                                         68                                        68.469                             8195.58                                 33.3191                           0.356759                             5510.13                                   0.672329                                8254                                        84                                       137                         1.08039e+08                              1.83049                                              32                               2.55451                                  180                                            17.2441                          112.518                                  115                                   38                                142                                                  12.9724                                     114.408                             -0.352114                               1.08039e+08                               0.310654                                428.891                                17.0436                                 10.7077                           -0.848677                                 1.98939                        0.902027                           0.373481                                 0.632801                                  1.35598                                  0.456605                  0.72383                    0.710258                    0.982798                   0.924478                   -0.126132                    0.45476                                0.439203                             4.09532                          0.134168                              3.31814                   0.390098                                 0.20676                             8.19064                           2.44759                          0.722855                                  5.89783                                        450.916                                                0.05463                                    28.4902                                       2564.14                                  0.787122                                     17.0225                                        153.126                                                      2892                                                      9.1989                                     0.0751689                                      0.0297136                                                    0.380599                                                 0.0042346                                        1472.48                                                 0.292065                                   0.884982                                         15.995                                   7.8959                                               150.83                                            0.487603                                        0.0839996                            3.43936                                        2537.73                                                 0.465391                              0.609075                            3.90093                                  0.691019                                              10.58                                               0.0626699                                        53.4088                                                0.389845                                    2.21429                                          10.5693                                 148153                                                2.63645e+06                                            9492.47                                            0.214416                                       40.7226                                                0.297245                                  0.56249                                                 5.4579                                              0.123509                              4.12781                              0.016598                            144523                             32.6436                         0.000893672                           10.6398                        0.0186458                         0.0163252                           0.973126                         0.208702                                 9.96108                                 47.7288                                         54.037                                       54.1202                                        53.2353                                   54.2679                           15358.8                                  46.4461                           0.52144                              5730.4                                    0.373102                               15402                                        98                                       162                         2.91353e+08                              1.95588                                           29                                  3.22215                                  192                                            18.9943                          135.414                                  141                                   42                                150                                                  13.0924                                     137.538                            -0.818556                                2.91353e+08                               0.304207                                579.648                                25.3334                                  26.4695                           -3.61301                                 2.66803                        1.02056                            0.443684                                 0.654319                                  1.44325                                  0.553664                  0.724797                   0.708919                    0.980869                   0.92298                    -0.135916                    0.528762                               0.415809                             4.99214                          0.138488                              3.50706                   0.46901                                  0.275304                            9.98429                           2.60196                          0.922147                                  6.22099                                        685.659                                                0.0445175                                   41.6134                                      4685.39                                  1.0039                                       25.2974                                        195.369                                                      5320                                                       7.8503                                    0.0498402                                      0.0268308                                                    0.581095                                                 0.00223946                                       2203.57                                                 0.253416                                   1.25074                                          23.998                                   7.79698                                             208.834                                            0.332589                                        0.0559371                            3.79084                                        4091.49                                                 0.446198                              0.561545                            3.75523                                  0.682626                                              15.7186                                             0.0412407                                        42.2877                                                0.193094                                    3.66815                                           21.2009                                 318080                                               8.62383e+06                                            12606.1\n",
       "                         0.652601                        0.26004                                  14.8606                                  57.1475                                         46.5296                                      65.8635                                        62.0725                                   70.1142                           13300.2                                  37.2945                           0.447019                             6072.9                                    0.456604                               13383                                        69                                       127                         1.29922e+08                              2.04802                                              28                               7.25326                                  255                                            19.3396                           94.7828                                  90                                    8                                247                                                  11.9251                                      98.529                              1.44243                                1.29922e+08                               0.319302                                724.181                                19.8625                                118.242                            12.3531                                   4.12864                        0.697151                           0.710002                                 0.447129                                  1.24347                                  0.492043                  0.807422                   0.79932                     0.994535                   0.964196                   -0.290198                    0.82134                                0.314581                             4.35941                          0.186479                              3.42126                   0.753842                                 0.38228                             8.71882                           2.75117                          1.20645                                   6.4424                                         553.966                                                0.0413933                                  58.101                                        4273.22                                  1.2456                                       19.8547                                        288.01                                                       5185.63                                                  17.8298                                     0.065514                                       0.0295838                                                    0.585094                                                 0.00376803                                       1447.07                                                 0.236515                                   1.88059                                          21.1982                                 11.442                                                206.419                                           0.718291                                        0.0703116                            4.37224                                        2289.75                                                 0.368499                              0.455279                            6.02794                                  0.627784                                              13.6504                                             0.0474514                                        51.1722                                                0.169444                                    4.21096                                          19.2715                                 164767                                                2.74961e+06                                           10361.3                                             0.156011                                       94.7947                                                0.31389                                   0.579267                                               10.4957                                              0.108509                              5.0291                               0.0225659                           162804                             18.6717                         0.000814261                           22.4373                        0.00867521                        0.0604615                           0.68675                          0.274884                                12.935                                   47.0562                                         50.2494                                      48.7647                                        38.1182                                   50.8527                           11457                                    32.3159                           0.589602                             4168.44                                   0.363832                               11494                                        99                                       160                         2.07182e+08                              2.03778                                           30                                  3.81094                                  211                                            19.0952                          132.007                                  135                                   14                                197                                                  13.1399                                     134.258                            -0.714315                                2.07182e+08                               0.290065                                599.328                                35.0875                                  35.9677                           -3.46295                                 3.05802                        0.8035                             0.583241                                 0.53816                                   1.35134                                  0.507344                  0.767027                   0.756518                    0.990617                   0.948432                   -0.193796                    0.716444                               0.376097                             5.8757                           0.136804                              3.55277                   0.609849                                 0.281294                           11.7514                            2.74865                          0.965379                                  6.50189                                        454.745                                                0.0395637                                   48.3338                                      3334.01                                  1.05727                                      34.7354                                        242.661                                                      8854.96                                                    7.14273                                   0.0342609                                      0.028465                                                     0.773315                                                 0.00167832                                       1411.08                                                 0.243489                                   1.38775                                          33.1618                                  7.77291                                             280.064                                            0.238197                                        0.0383402                            4.11318                                        2281.63                                                 0.388715                              0.502302                            3.4935                                   0.644676                                              20.4159                                             0.027097                                         43.5581                                                0.202596                                    3.25343                                           23.8186                                 171101                                               6.2553e+06                                              4902.14\n",
       "                         0.436777                        0.092262                                  5.71188                                 61.9093                                         35.3553                                      64.3817                                        66.0303                                   66.3023                            4523.58                                 27.0405                           0.371221                             3563.2                                    0.787694                                4582                                        77                                       125                         5.15189e+07                              1.61984                                              28                               2.61531                                  145                                            15.4976                          104.419                                  109                                   39                                106                                                  11.9808                                     106.037                             -0.582609                               5.15189e+07                               0.386581                                340.335                                14.3641                                  6.82732                          -0.728879                                 1.46588                        0.636296                           0.392886                                 0.515196                                  1.19842                                  0.3474                    0.7616                     0.7545                      0.976625                   0.916946                   -0.125792                    0.465305                               0.41846                              3.76244                          0.201494                              2.91111                   0.409033                                 0.378998                            7.52488                           2.23551                          0.525545                                  5.72988                                        225.992                                                0.0493216                                  34.6974                                       1771.31                                  0.573937                                     14.0205                                        174.001                                                      2658.29                                                  12.3416                                     0.089025                                       0.028238                                                     0.314908                                                 0.00456054                                        880.741                                                0.323584                                   0.730461                                         13.3954                                  8.3688                                               124.065                                           0.639254                                        0.0994615                            3.37659                                        1315.28                                                 0.451061                              0.584511                            3.95851                                  0.679573                                               8.76855                                            0.0731525                                        31.0941                                                0.365813                                    1.61882                                           9.45882                                 92479.6                                              1.3515e+06                                             6753.49                                            0.221788                                       21.0235                                                0.247336                                  0.506954                                                4.69521                                             0.113455                              4.25273                              0.0185509                            89573.8                           27.2388                         0.0018305                              4.12973                       0.0230892                         0.0163768                           0.925094                         0.25308                                  8.64384                                 34.1546                                         40.4475                                      38.4708                                        39.0512                                   41.6293                            5930.17                                 31.5962                           0.483003                             3280.29                                   0.553153                                5965                                        80                                       143                         7.78684e+07                              1.91546                                           43                                  1.79509                                  171                                            21.2759                          111.687                                  112                                   55                                116                                                  17.6227                                     114.255                             0.00721013                              7.78684e+07                               0.292998                                580.308                                10.1061                                  16.5451                           -0.422957                                2.89631                        0.877585                           0.533254                                 0.607216                                  1.38328                                  0.483904                  0.738064                   0.72341                     0.968858                   0.904992                   -0.162748                    0.617964                               0.402524                             3.09849                          0.124748                              3.45977                   0.551102                                 0.234683                            6.19698                           2.65371                          0.943475                                  6.14052                                        281.348                                                0.0471665                                   36.3089                                      1747.73                                  0.982392                                      9.96832                                       183.038                                                      2052.04                                                   24.5006                                    0.173436                                       0.0230567                                                    0.192826                                                 0.0081622                                         933.327                                                0.272968                                   1.02853                                           9.43581                                 6.17971                                              67.7465                                           0.898508                                        0.195643                             3.64907                                        1578.86                                                 0.437366                              0.572571                            2.4556                                   0.67262                                                6.19489                                            0.14294                                          32.775                                                 0.409687                                    2.2725                                             6.475                                  127329                                               1.25518e+06                                            18636.5\n",
       "                         0.491799                        0.0812707                                 5.52773                                 68.0162                                         43.1045                                      73.2462                                        76.0263                                   77.4403                            6537.5                                  33.4503                           0.367487                             4600.98                                   0.703783                                6586                                       102                                       166                         1.23228e+08                              2.06809                                              37                               2.44313                                  204                                            20.5678                          134.553                                  135                                   49                                155                                                  15.6157                                     136.787                             -0.0948896                              1.23228e+08                               0.266021                                606.167                                25.0229                                 19.8182                            0.2127                                   2.82496                        0.874602                           0.51791                                  0.61009                                   1.34423                                  0.465484                  0.732615                   0.720828                    0.987115                   0.934984                   -0.182364                    0.636171                               0.435263                             4.95327                          0.112747                              3.58347                   0.55769                                  0.179254                            9.90654                           2.71757                          0.924891                                  6.20834                                        347.619                                                0.0527816                                  27.7109                                       1752.02                                  1.05475                                      25.1461                                        155.271                                                      4058.27                                                   6.70232                                    0.0485368                                      0.0286268                                                    0.553131                                                 0.00247799                                        990.698                                                0.247971                                   1.2042                                           24.287                                   7.4674                                               199.923                                           0.323132                                        0.0523934                            3.69887                                        1954.89                                                 0.454603                              0.604067                            3.44225                                  0.685215                                              16.2038                                             0.0380998                                        30.8772                                                0.270853                                    2.41982                                          16.1228                                  95798.6                                              2.41062e+06                                            4198.96                                            0.115873                                       22.9298                                                0.201139                                  0.45134                                                 6.42901                                             0.0643079                             4.90791                              0.0173094                            92461                             15.3827                         0.00141991                            12.9675                        0.0176063                         0.0336376                           0.884342                         0.210688                                 7.91539                                 37.5692                                         41.1096                                      39.4588                                        44.5533                                   44.833                             6356.38                                 33.224                            0.50318                              3297.87                                   0.518829                                6391                                       102                                       178                         1.34827e+08                              2.20754                                           41                                  2.28778                                  211                                            22.8618                          142.587                                  145                                   73                                138                                                  17.0941                                     145.246                            -0.255343                                1.34827e+08                               0.236833                                765.353                                19.1913                                  35.2892                           -1.5841                                  3.73172                        1.21802                            0.504755                                 0.75116                                   1.54009                                  0.615314                  0.689912                   0.670209                    0.977319                   0.912155                   -0.14434                     0.609755                               0.452694                             4.30844                          0.0846274                             3.99754                   0.527356                                 0.164602                            8.61688                           2.93791                          1.23743                                   6.3472                                         351.613                                                0.055017                                    28.3103                                      1513.6                                   1.33284                                      19.1637                                        139.923                                                      2997.7                                                     8.3372                                    0.0761411                                      0.0318783                                                    0.508028                                                 0.00416331                                        904.003                                                0.223537                                   1.45053                                          18.1521                                  4.82205                                              99.5657                                           0.31331                                         0.0836417                            3.71394                                        2066.91                                                 0.489188                              0.632127                            1.84807                                  0.717671                                              12.5107                                             0.0639775                                        40.3333                                                0.336111                                    3.58222                                           14.9167                                  76419                                               1.52606e+06                                             4509.48\n",
       "                         0.477166                        0.206101                                 12.8892                                  62.5381                                         65.6201                                      63.561                                         46.3897                                   67.6831                           12280.3                                  29.8411                           0.397999                             6467.59                                   0.526662                               12343                                        47                                        96                         7.09534e+07                              1.75405                                              23                               3.43426                                  159                                            14.8456                           73.3784                                  75                                    9                                150                                                  10.316                                       75.8187                            -0.0322231                              7.09534e+07                               0.347615                                364.091                                12.8043                                 12.045                             0.0438122                                1.9109                         0.552286                           0.548356                                 0.4506                                    1.16114                                  0.337875                  0.790404                   0.784818                    0.989244                   0.945045                   -0.189939                    0.64799                                0.373019                             3.5305                           0.182171                              3.04446                   0.566654                                 0.319209                            7.06101                           2.42473                          0.615796                                  6.16966                                        506.118                                                0.0410045                                  45.9494                                       4290.62                                  0.678142                                     12.6381                                        240.403                                                      3294.47                                                  20.0026                                     0.105496                                       0.0219432                                                    0.217486                                                 0.00512604                                       1879.67                                                 0.302492                                   0.857105                                         11.8589                                  9.89246                                              134.729                                           0.861593                                        0.123208                             3.81131                                        2561.42                                                 0.389647                              0.502128                            4.79975                                  0.636885                                               7.24187                                            0.087132                                         39.2384                                                0.259857                                    2.17578                                           8.88079                                338633                                                4.3671e+06                                            29347                                               0.352883                                       41                                                     0.271523                                  0.52746                                                 4.07093                                             0.220128                              4.47318                              0.0122337                           331951                             46.3021                         0.00069842                             8.58777                       0.0125574                         0.0145011                           0.893926                         0.369382                                13.842                                   37.4735                                         41.0488                                      41.6173                                        45.1221                                   45.8258                           10739.9                                  33.4985                           0.486132                             4842.44                                   0.450882                               10787                                        50                                       138                         1.18494e+08                              2.41249                                           46                                  2.64197                                  225                                            26.487                            99.5216                                 104                                   11                                214                                                  19.2126                                     104.809                            -0.256618                                1.18494e+08                               0.219601                               1080.33                                 22.3551                                  84.6983                           -3.95249                                 5.44017                        1.12998                            0.652747                                 0.659573                                  1.51792                                  0.673352                  0.73209                    0.715198                    0.989348                   0.943343                   -0.229585                    0.786125                               0.389665                             4.6127                           0.0982161                             4.13733                   0.672474                                 0.246443                            9.22541                           3.16926                          1.64254                                   6.78056                                        448.713                                                0.0415975                                   48.0879                                      2368.84                                  1.80465                                      22.0517                                        203.3                                                        5099.35                                                   10.3727                                    0.0753738                                      0.0349357                                                    0.625437                                                 0.00437093                                       1134.91                                                 0.188048                                   2.11978                                          20.313                                   6.64126                                             160.47                                             0.384384                                        0.0893694                            4.18768                                        2839.7                                                  0.455108                              0.559291                            2.99746                                  0.696362                                              13.3695                                             0.0684565                                        46.7375                                                0.180453                                    3.22837                                           17.1969                                  87355                                               2.0683e+06                                              4495.09\n",
       "                         0.566024                        0.0909492                                 6.22025                                 68.3926                                         50.4876                                      75.8024                                        76.0592                                   78.2879                            9264.08                                 38.7118                           0.378865                             5630.33                                   0.60776                                 9324                                       118                                       227                         3.0682e+08                               2.73665                                              52                               3.19671                                  296                                            32.1888                          176.635                                  181                                   29                                267                                                  22.0206                                     181.402                             -0.580084                               3.0682e+08                                0.178245                               1706.69                                 47.7745                                192.855                            -9.97388                                  7.84555                        2.30596                            0.544479                                 1.01608                                   1.86935                                  1.18092                   0.639445                   0.606824                    0.982569                   0.922669                   -0.169373                    0.703473                               0.426891                             6.81049                          0.0570134                             4.86148                   0.621767                                 0.149105                           13.621                             3.4543                           2.53788                                   6.70939                                        521.684                                                0.0559507                                  30.014                                        1661.95                                  2.81768                                      46.1424                                        114.046                                                      6083.21                                                   2.43981                                    0.0344713                                      0.061922                                                     1.974                                                    0.00527926                                       1028.34                                                 0.159614                                   3.2058                                           43.428                                   4.28594                                              215.554                                           0.114452                                        0.0398742                            4.05839                                        3782.75                                                 0.567614                              0.685889                            1.75216                                  0.775733                                              32.2352                                             0.0339674                                        64.6864                                                0.137048                                    4.77319                                          27.2352                                  25720.1                                              1.30654e+06                                             543.667                                           0.108871                                      135.788                                                 0.287687                                  0.551999                                               14.3184                                              0.069207                              5.4347                               0.0506221                            25329.8                           12.2232                         0.000971114                           37.5818                        0.0392868                         0.0404805                           0.940185                         0.21829                                  8.10359                                 37.123                                          41.1096                                      41.6773                                        40.05                                     41.8808                            7320                                    34.9025                           0.595999                             3059                                      0.417896                                7351                                       116                                       268                         3.2955e+08                               3.08902                                           95                                  2.23887                                  355                                            49.5364                          203.598                                  220                                   39                                316                                                  38.0102                                     211.732                            -0.543871                                3.2955e+08                                0.135452                               3378.36                                 64.9164                                 707.473                           -43.8361                                 16.8055                         3.97778                            0.616945                                 1.34475                                   2.18517                                  2.05468                   0.583629                   0.540607                    0.98153                    0.919822                   -0.155316                    0.732595                               0.419815                             7.85543                          0.0356789                             5.59628                   0.639847                                 0.100746                           15.7109                            3.88738                          5.19583                                   6.93531                                        478.449                                                0.0650862                                   27.3389                                       995.704                                 5.48734                                      64.2283                                         93.8021                                                     7461.81                                                    1.62533                                   0.0278836                                      0.0717246                                                    3.70788                                                  0.00320303                                        647.648                                                0.121259                                   5.75912                                          60.2897                                  2.90431                                             207.258                                            0.0665189                                       0.0306923                            4.26864                                        3283.65                                                 0.606177                              0.724904                            0.90048                                  0.803884                                              46.4397                                             0.0261503                                        45.709                                                 0.111758                                    7.72674                                           49.8973                                  13640.6                                             1.10833e+06                                              202.556\n",
       "                         0.527299                        0.0696751                                 3.74887                                 53.805                                          47.0106                                      60.1664                                        45.0999                                   60.1664                            2474.62                                 28.3713                           0.287512                             3077.29                                   1.24354                                 2534                                       100                                       323                         1.35958e+08                              3.6666                                              130                               2.09423                                  409                                            70.1779                          216.448                                  225                                   42                                367                                                  53.7259                                     231.633                             -0.070388                               1.35958e+08                               0.0856413                              6804                                    79.0559                               1818.46                            -27.831                                   27.3435                         9.89468                            0.440119                                 2.41225                                   2.58352                                  3.12573                   0.423953                   0.342339                    0.965571                   0.878593                   -0.171225                    0.758563                               0.314839                             8.64018                          0.0162574                             6.46475                   0.616457                                 0.0466738                          17.2804                            4.29058                          9.30953                                   6.50058                                        337.003                                                0.132993                                    4.58323                                       217.015                                10.898                                        77.7451                                         22.7616                                                     2022.96                                                   0.583225                                   0.0347998                                      0.15977                                                     10.3398                                                   0.0068839                                         187.599                                                0.0845148                                 10.9867                                           76.0065                                  1.893                                                157.553                                           0.0586882                                       0.0359872                            4.19173                                        1892.27                                                 0.821479                              0.874476                            0.431367                                 0.912537                                              68.779                                              0.0332583                                        37.8357                                                0.0888162                                  10.5913                                           60.5822                                    461.587                                        45261.8                                                       6.41314                                         0.048642                                      109.46                                                  0.256949                                  0.520829                                               30.9637                                              0.0235263                             6.06682                              0.168114                               426.204                          2.2163                         0.00407269                           123.629                         0.116181                          0.318377                            0.922404                         0.122229                                 5.36147                                 43.8643                                         47.0106                                      51.9711                                        49.0102                                   51.9808                            6463.5                                  40.4606                           0.428811                             3913.19                                   0.605428                                6500                                       134                                       372                         4.49409e+08                              3.71544                                          118                                  2.25206                                  438                                            69.7162                          248.798                                  250                                   65                                373                                                  51.4435                                     262.944                             0.152213                                4.49409e+08                               0.0838182                              7239.19                                 77.3662                                2218.76                              9.34095                                29.6514                         9.38954                            0.486393                                 2.16344                                   2.52704                                  3.70649                   0.479635                   0.412261                    0.968219                   0.891941                   -0.206416                    0.769556                               0.338523                             8.50272                          0.0182015                             6.44668                   0.576874                                 0.0520137                          17.0054                            4.33343                          9.76025                                   7.10221                                        593.973                                                0.0913804                                   11.106                                        544.818                                11.669                                        83.4594                                         48.3911                                                     3854.63                                                    1.0791                                    0.0300499                                      0.0972978                                                    7.13103                                                  0.00425596                                        420.112                                                0.0801143                                 12.357                                            82.8974                                  3.08691                                             259.103                                            0.076322                                        0.0321805                            4.53002                                        4073.57                                                 0.729339                              0.803609                            1.10025                                  0.861631                                              71.4332                                             0.0283832                                        46.9337                                                0.0819087                                  13.6555                                            66.4904                                   3138.24                                       262931                                                         55.0869\n",
       "                         0.70876                         0.10045                                   5.54695                                 55.2209                                         46.2709                                      61.8466                                        60.0083                                   61.8466                            7239.75                                 39.1384                           0.391086                             4627.65                                   0.639201                                7283                                        52                                       121                         5.50301e+07                              2.16694                                              32                               4.30439                                  215                                            21.2204                           82.2134                                  79                                   11                                204                                                  13.715                                       86.9251                             0.936897                               5.50301e+07                               0.277361                                796.93                                 15.9787                                 66.3161                            6.81693                                  4.0219                         1.19994                            0.537705                                 0.667361                                  1.51976                                  0.714191                  0.734588                   0.716844                    0.986315                   0.937685                   -0.185801                    0.675977                               0.375821                             3.90798                          0.120838                              3.88498                   0.573076                                 0.237164                            7.81596                           2.89969                          1.30546                                   6.50902                                        332.342                                                0.0456325                                  43.1885                                       2020.02                                  1.34551                                      15.9893                                        185.437                                                      2653.34                                                  15.3063                                     0.0922318                                      0.0335844                                                    0.568969                                                 0.00575482                                        992.451                                                0.232462                                   1.75125                                          16.7882                                  7.42347                                              110.084                                           0.630025                                        0.0991912                            3.98742                                        2043.53                                                 0.453772                              0.579738                            3.47536                                  0.688601                                              11.9056                                             0.072176                                         28.9641                                                0.173438                                    4.57557                                          17.5269                                  81203.1                                              1.10932e+06                                            6697.31                                            0.235142                                       42.6527                                                0.255405                                  0.520482                                                8.23961                                             0.14384                               5.1839                               0.0229301                            79301.2                           20.4063                         0.00119804                            18.8536                        0.0195409                         0.0443821                           0.949772                         0.264631                                 6.13511                                 23.1837                                         27.1662                                      26.8328                                        28.0713                                   28.5307                            1996                                    22.0192                           0.566911                             1352.31                                   0.67751                                 2018                                        54                                       184                         3.10401e+07                              3.01864                                           74.75                               2.68421                                  255                                            41.93                            113.086                                  106                                   11                                244                                                  30.5954                                     124.023                             0.508121                                3.10401e+07                               0.140266                               2593.11                                 31.6093                                 543.913                            25.3399                                 14.5904                         2.87813                            0.674465                                 1.21441                                   1.9986                                   1.31309                   0.582263                   0.539823                    0.978379                   0.908235                   -0.180357                    0.784753                               0.454086                             5.35461                          0.0303644                             5.54484                   0.697586                                 0.0641276                          10.7092                            3.88987                          4.36712                                   6.64106                                        165.69                                                 0.0821059                                   13.0766                                       283.057                                 4.24173                                      29.6997                                         64.5064                                                     2015.13                                                    3.74899                                   0.075574                                       0.0581217                                                    1.43813                                                  0.00813155                                        213.301                                                0.138369                                   4.33364                                          29.284                                   2.44321                                              73.2957                                           0.166599                                        0.0804536                            4.02614                                        1005.5                                                  0.636462                              0.762636                            0.589748                                 0.819181                                              23.6441                                             0.069032                                         13.6506                                                0.164465                                    5.58456                                           19.988                                    5327.11                                       138195                                                        303.735\n",
       "                         0.518064                        0.0939692                                 5.88477                                 62.6244                                         64                                           69.857                                         45.1774                                   69.857                             5059.79                                 32.4435                           0.34026                              4188.86                                   0.827871                                5117                                        75                                       136                         5.78649e+07                              2.0916                                               30                               5.66883                                  255                                            19.5526                          103.052                                  100                                   22                                233                                                  12.8585                                     106.341                              0.947279                               5.78649e+07                               0.289246                                688.615                                22.7491                                 64.4858                            7.22175                                  3.48927                        0.872336                           0.595502                                 0.541426                                  1.35466                                  0.558398                  0.771543                   0.76017                     0.99315                    0.956832                   -0.237962                    0.754945                               0.358346                             4.70043                          0.148144                              3.54369                   0.680017                                 0.283586                            9.40087                           2.73248                          1.0904                                    6.31453                                        239.791                                                0.0468617                                  44.617                                        1480.07                                  1.18248                                      22.8013                                        193.303                                                      4132.08                                                   9.94173                                    0.0548781                                      0.0436841                                                    0.884017                                                 0.00412484                                        715.938                                                0.243228                                   1.59095                                          23.1953                                  9.16512                                              200.151                                           0.47859                                         0.0587024                            3.87718                                        1379.74                                                 0.447368                              0.569474                            4.79793                                  0.688592                                              16.0265                                             0.0428609                                        39.9149                                                0.212313                                    3.56912                                          19.5266                                  33415.8                                         685300                                                      1750.21                                            0.108185                                       52.9681                                                0.281745                                  0.541616                                                9.87426                                             0.0672249                             4.84676                              0.0367403                            32675                              7.29204                        0.00196045                            25.9973                        0.00970404                        0.123888                            0.882798                         0.203914                                 7.04919                                 34.5694                                         37.0135                                      38.6394                                        35.1283                                   38.6523                            5030.21                                 30.5178                           0.580514                             2445.66                                   0.486194                                5058                                        91                                       185                         1.04722e+08                              2.61243                                           45                                  3.43991                                  255                                            28.6293                          139.054                                  138                                   37                                218                                                  19.3349                                     143.889                             0.35277                                 1.04722e+08                               0.19572                                1368.12                                 28.0459                                 182.629                             9.5049                                  6.97657                        1.53005                            0.637572                                 0.779307                                  1.64106                                  0.880333                  0.698982                   0.678217                    0.985991                   0.934217                   -0.225774                    0.794373                               0.417025                             5.16566                          0.0744333                             4.53227                   0.704342                                 0.179615                           10.3313                            3.36491                          2.12666                                   6.8488                                         241.967                                                0.0478384                                   35.4027                                       989.951                                 2.29121                                      28.2754                                        161.883                                                      4715.21                                                    6.7299                                    0.0541884                                      0.0404487                                                    0.977993                                                 0.0040319                                         533.039                                                0.173083                                   2.75148                                          27.5197                                  5.91249                                             170.592                                            0.270243                                        0.0612926                            4.21908                                        1495.5                                                  0.469961                              0.60591                             2.57586                                  0.707285                                              18.9121                                             0.047466                                         22.7007                                                0.154426                                    4.54153                                           23.1429                                  30638.8                                        832866                                                       1291.24\n",
       "[10 rows x 200 columns]\n"
      ]
     },
     "execution_count": 14,
     "metadata": {},
     "output_type": "execute_result"
    }
   ],
   "source": [
    "hf.head()"
   ]
  },
  {
   "cell_type": "code",
   "execution_count": 14,
   "metadata": {
    "executionInfo": {
     "elapsed": 331,
     "status": "ok",
     "timestamp": 1709498149207,
     "user": {
      "displayName": "Unai Martínez",
      "userId": "07627802615691193729"
     },
     "user_tz": -60
    },
    "id": "0Kz1_H8YDJRf"
   },
   "outputs": [],
   "source": [
    "# Split data into features and target\n",
    "features = df.columns.tolist()\n",
    "#target = 'class'\n",
    "\n",
    "y_label = \"class\"\n",
    "x_labels = features[:-1] # alternative: list(df.drop(columns=[y_label]).columns)"
   ]
  },
  {
   "cell_type": "markdown",
   "metadata": {
    "id": "UInotTlaGl_k"
   },
   "source": [
    "Probably some variables are needed to be selected ¿does H2O autoselect the variables?"
   ]
  },
  {
   "cell_type": "code",
   "execution_count": null,
   "metadata": {
    "colab": {
     "base_uri": "https://localhost:8080/"
    },
    "executionInfo": {
     "elapsed": 242,
     "status": "ok",
     "timestamp": 1709467688551,
     "user": {
      "displayName": "Unai Martínez",
      "userId": "07627802615691193729"
     },
     "user_tz": -60
    },
    "id": "VQjti6vcF2tV",
    "outputId": "16e54c49-c362-48db-ea52-0f9105a3cdce"
   },
   "outputs": [
    {
     "name": "stdout",
     "output_type": "stream",
     "text": [
      "['original_shape_Elongation_LV_ED', 'original_shape_Flatness_LV_ED', 'original_shape_LeastAxisLength_LV_ED', 'original_shape_MajorAxisLength_LV_ED', 'original_shape_Maximum2DDiameterColumn_LV_ED', 'original_shape_Maximum2DDiameterRow_LV_ED', 'original_shape_Maximum2DDiameterSlice_LV_ED', 'original_shape_Maximum3DDiameter_LV_ED', 'original_shape_MeshVolume_LV_ED', 'original_shape_MinorAxisLength_LV_ED', 'original_shape_Sphericity_LV_ED', 'original_shape_SurfaceArea_LV_ED', 'original_shape_SurfaceVolumeRatio_LV_ED', 'original_shape_VoxelVolume_LV_ED', 'original_firstorder_10Percentile_LV_ED', 'original_firstorder_90Percentile_LV_ED', 'original_firstorder_Energy_LV_ED', 'original_firstorder_Entropy_LV_ED', 'original_firstorder_InterquartileRange_LV_ED', 'original_firstorder_Kurtosis_LV_ED', 'original_firstorder_Maximum_LV_ED', 'original_firstorder_MeanAbsoluteDeviation_LV_ED', 'original_firstorder_Mean_LV_ED', 'original_firstorder_Median_LV_ED', 'original_firstorder_Minimum_LV_ED', 'original_firstorder_Range_LV_ED', 'original_firstorder_RobustMeanAbsoluteDeviation_LV_ED', 'original_firstorder_RootMeanSquared_LV_ED', 'original_firstorder_Skewness_LV_ED', 'original_firstorder_TotalEnergy_LV_ED', 'original_firstorder_Uniformity_LV_ED', 'original_firstorder_Variance_LV_ED', 'original_glcm_Autocorrelation_LV_ED', 'original_glcm_ClusterProminence_LV_ED', 'original_glcm_ClusterShade_LV_ED', 'original_glcm_ClusterTendency_LV_ED', 'original_glcm_Contrast_LV_ED', 'original_glcm_Correlation_LV_ED', 'original_glcm_DifferenceAverage_LV_ED', 'original_glcm_DifferenceEntropy_LV_ED', 'original_glcm_DifferenceVariance_LV_ED', 'original_glcm_Id_LV_ED', 'original_glcm_Idm_LV_ED', 'original_glcm_Idmn_LV_ED', 'original_glcm_Idn_LV_ED', 'original_glcm_Imc1_LV_ED', 'original_glcm_Imc2_LV_ED', 'original_glcm_InverseVariance_LV_ED', 'original_glcm_JointAverage_LV_ED', 'original_glcm_JointEnergy_LV_ED', 'original_glcm_JointEntropy_LV_ED', 'original_glcm_MCC_LV_ED', 'original_glcm_MaximumProbability_LV_ED', 'original_glcm_SumAverage_LV_ED', 'original_glcm_SumEntropy_LV_ED', 'original_glcm_SumSquares_LV_ED', 'original_gldm_DependenceEntropy_LV_ED', 'original_gldm_DependenceNonUniformity_LV_ED', 'original_gldm_DependenceNonUniformityNormalized_LV_ED', 'original_gldm_DependenceVariance_LV_ED', 'original_gldm_GrayLevelNonUniformity_LV_ED', 'original_gldm_GrayLevelVariance_LV_ED', 'original_gldm_HighGrayLevelEmphasis_LV_ED', 'original_gldm_LargeDependenceEmphasis_LV_ED', 'original_gldm_LargeDependenceHighGrayLevelEmphasis_LV_ED', 'original_gldm_LargeDependenceLowGrayLevelEmphasis_LV_ED', 'original_gldm_LowGrayLevelEmphasis_LV_ED', 'original_gldm_SmallDependenceEmphasis_LV_ED', 'original_gldm_SmallDependenceHighGrayLevelEmphasis_LV_ED', 'original_gldm_SmallDependenceLowGrayLevelEmphasis_LV_ED', 'original_glrlm_GrayLevelNonUniformity_LV_ED', 'original_glrlm_GrayLevelNonUniformityNormalized_LV_ED', 'original_glrlm_GrayLevelVariance_LV_ED', 'original_glrlm_HighGrayLevelRunEmphasis_LV_ED', 'original_glrlm_LongRunEmphasis_LV_ED', 'original_glrlm_LongRunHighGrayLevelEmphasis_LV_ED', 'original_glrlm_LongRunLowGrayLevelEmphasis_LV_ED', 'original_glrlm_LowGrayLevelRunEmphasis_LV_ED', 'original_glrlm_RunEntropy_LV_ED', 'original_glrlm_RunLengthNonUniformity_LV_ED', 'original_glrlm_RunLengthNonUniformityNormalized_LV_ED', 'original_glrlm_RunPercentage_LV_ED', 'original_glrlm_RunVariance_LV_ED', 'original_glrlm_ShortRunEmphasis_LV_ED', 'original_glrlm_ShortRunHighGrayLevelEmphasis_LV_ED', 'original_glrlm_ShortRunLowGrayLevelEmphasis_LV_ED', 'original_glszm_GrayLevelNonUniformity_LV_ED', 'original_glszm_GrayLevelNonUniformityNormalized_LV_ED', 'original_glszm_GrayLevelVariance_LV_ED', 'original_glszm_HighGrayLevelZoneEmphasis_LV_ED', 'original_glszm_LargeAreaEmphasis_LV_ED', 'original_glszm_LargeAreaHighGrayLevelEmphasis_LV_ED', 'original_glszm_LargeAreaLowGrayLevelEmphasis_LV_ED', 'original_glszm_LowGrayLevelZoneEmphasis_LV_ED', 'original_glszm_SizeZoneNonUniformity_LV_ED', 'original_glszm_SizeZoneNonUniformityNormalized_LV_ED', 'original_glszm_SmallAreaEmphasis_LV_ED', 'original_glszm_SmallAreaHighGrayLevelEmphasis_LV_ED', 'original_glszm_SmallAreaLowGrayLevelEmphasis_LV_ED', 'original_glszm_ZoneEntropy_LV_ED', 'original_glszm_ZonePercentage_LV_ED', 'original_glszm_ZoneVariance_LV_ED', 'original_ngtdm_Busyness_LV_ED', 'original_ngtdm_Coarseness_LV_ED', 'original_ngtdm_Complexity_LV_ED', 'original_ngtdm_Contrast_LV_ED', 'original_ngtdm_Strength_LV_ED', 'original_shape_Elongation_RV_ED', 'original_shape_Flatness_RV_ED', 'original_shape_LeastAxisLength_RV_ED', 'original_shape_MajorAxisLength_RV_ED', 'original_shape_Maximum2DDiameterColumn_RV_ED', 'original_shape_Maximum2DDiameterRow_RV_ED', 'original_shape_Maximum2DDiameterSlice_RV_ED', 'original_shape_Maximum3DDiameter_RV_ED', 'original_shape_MeshVolume_RV_ED', 'original_shape_MinorAxisLength_RV_ED', 'original_shape_Sphericity_RV_ED', 'original_shape_SurfaceArea_RV_ED', 'original_shape_SurfaceVolumeRatio_RV_ED', 'original_shape_VoxelVolume_RV_ED', 'original_firstorder_10Percentile_RV_ED', 'original_firstorder_90Percentile_RV_ED', 'original_firstorder_Energy_RV_ED', 'original_firstorder_Entropy_RV_ED', 'original_firstorder_InterquartileRange_RV_ED', 'original_firstorder_Kurtosis_RV_ED', 'original_firstorder_Maximum_RV_ED', 'original_firstorder_MeanAbsoluteDeviation_RV_ED', 'original_firstorder_Mean_RV_ED', 'original_firstorder_Median_RV_ED', 'original_firstorder_Minimum_RV_ED', 'original_firstorder_Range_RV_ED', 'original_firstorder_RobustMeanAbsoluteDeviation_RV_ED', 'original_firstorder_RootMeanSquared_RV_ED', 'original_firstorder_Skewness_RV_ED', 'original_firstorder_TotalEnergy_RV_ED', 'original_firstorder_Uniformity_RV_ED', 'original_firstorder_Variance_RV_ED', 'original_glcm_Autocorrelation_RV_ED', 'original_glcm_ClusterProminence_RV_ED', 'original_glcm_ClusterShade_RV_ED', 'original_glcm_ClusterTendency_RV_ED', 'original_glcm_Contrast_RV_ED', 'original_glcm_Correlation_RV_ED', 'original_glcm_DifferenceAverage_RV_ED', 'original_glcm_DifferenceEntropy_RV_ED', 'original_glcm_DifferenceVariance_RV_ED', 'original_glcm_Id_RV_ED', 'original_glcm_Idm_RV_ED', 'original_glcm_Idmn_RV_ED', 'original_glcm_Idn_RV_ED', 'original_glcm_Imc1_RV_ED', 'original_glcm_Imc2_RV_ED', 'original_glcm_InverseVariance_RV_ED', 'original_glcm_JointAverage_RV_ED', 'original_glcm_JointEnergy_RV_ED', 'original_glcm_JointEntropy_RV_ED', 'original_glcm_MCC_RV_ED', 'original_glcm_MaximumProbability_RV_ED', 'original_glcm_SumAverage_RV_ED', 'original_glcm_SumEntropy_RV_ED', 'original_glcm_SumSquares_RV_ED', 'original_gldm_DependenceEntropy_RV_ED', 'original_gldm_DependenceNonUniformity_RV_ED', 'original_gldm_DependenceNonUniformityNormalized_RV_ED', 'original_gldm_DependenceVariance_RV_ED', 'original_gldm_GrayLevelNonUniformity_RV_ED', 'original_gldm_GrayLevelVariance_RV_ED', 'original_gldm_HighGrayLevelEmphasis_RV_ED', 'original_gldm_LargeDependenceEmphasis_RV_ED', 'original_gldm_LargeDependenceHighGrayLevelEmphasis_RV_ED', 'original_gldm_LargeDependenceLowGrayLevelEmphasis_RV_ED', 'original_gldm_LowGrayLevelEmphasis_RV_ED', 'original_gldm_SmallDependenceEmphasis_RV_ED', 'original_gldm_SmallDependenceHighGrayLevelEmphasis_RV_ED', 'original_gldm_SmallDependenceLowGrayLevelEmphasis_RV_ED', 'original_glrlm_GrayLevelNonUniformity_RV_ED', 'original_glrlm_GrayLevelNonUniformityNormalized_RV_ED', 'original_glrlm_GrayLevelVariance_RV_ED', 'original_glrlm_HighGrayLevelRunEmphasis_RV_ED', 'original_glrlm_LongRunEmphasis_RV_ED', 'original_glrlm_LongRunHighGrayLevelEmphasis_RV_ED', 'original_glrlm_LongRunLowGrayLevelEmphasis_RV_ED', 'original_glrlm_LowGrayLevelRunEmphasis_RV_ED', 'original_glrlm_RunEntropy_RV_ED', 'original_glrlm_RunLengthNonUniformity_RV_ED', 'original_glrlm_RunLengthNonUniformityNormalized_RV_ED', 'original_glrlm_RunPercentage_RV_ED', 'original_glrlm_RunVariance_RV_ED', 'original_glrlm_ShortRunEmphasis_RV_ED', 'original_glrlm_ShortRunHighGrayLevelEmphasis_RV_ED', 'original_glrlm_ShortRunLowGrayLevelEmphasis_RV_ED', 'original_glszm_GrayLevelNonUniformity_RV_ED', 'original_glszm_GrayLevelNonUniformityNormalized_RV_ED', 'original_glszm_GrayLevelVariance_RV_ED', 'original_glszm_HighGrayLevelZoneEmphasis_RV_ED', 'original_glszm_LargeAreaEmphasis_RV_ED', 'original_glszm_LargeAreaHighGrayLevelEmphasis_RV_ED', 'original_glszm_LargeAreaLowGrayLevelEmphasis_RV_ED', 'original_glszm_LowGrayLevelZoneEmphasis_RV_ED', 'original_glszm_SizeZoneNonUniformity_RV_ED', 'original_glszm_SizeZoneNonUniformityNormalized_RV_ED', 'original_glszm_SmallAreaEmphasis_RV_ED', 'original_glszm_SmallAreaHighGrayLevelEmphasis_RV_ED', 'original_glszm_SmallAreaLowGrayLevelEmphasis_RV_ED', 'original_glszm_ZoneEntropy_RV_ED', 'original_glszm_ZonePercentage_RV_ED', 'original_glszm_ZoneVariance_RV_ED', 'original_ngtdm_Busyness_RV_ED', 'original_ngtdm_Coarseness_RV_ED', 'original_ngtdm_Complexity_RV_ED', 'original_ngtdm_Contrast_RV_ED', 'original_ngtdm_Strength_RV_ED', 'original_shape_Elongation_MYO_ED', 'original_shape_Flatness_MYO_ED', 'original_shape_LeastAxisLength_MYO_ED', 'original_shape_MajorAxisLength_MYO_ED', 'original_shape_Maximum2DDiameterColumn_MYO_ED', 'original_shape_Maximum2DDiameterRow_MYO_ED', 'original_shape_Maximum2DDiameterSlice_MYO_ED', 'original_shape_Maximum3DDiameter_MYO_ED', 'original_shape_MeshVolume_MYO_ED', 'original_shape_MinorAxisLength_MYO_ED', 'original_shape_Sphericity_MYO_ED', 'original_shape_SurfaceArea_MYO_ED', 'original_shape_SurfaceVolumeRatio_MYO_ED', 'original_shape_VoxelVolume_MYO_ED', 'original_firstorder_10Percentile_MYO_ED', 'original_firstorder_90Percentile_MYO_ED', 'original_firstorder_Energy_MYO_ED', 'original_firstorder_Entropy_MYO_ED', 'original_firstorder_InterquartileRange_MYO_ED', 'original_firstorder_Kurtosis_MYO_ED', 'original_firstorder_Maximum_MYO_ED', 'original_firstorder_MeanAbsoluteDeviation_MYO_ED', 'original_firstorder_Mean_MYO_ED', 'original_firstorder_Median_MYO_ED', 'original_firstorder_Minimum_MYO_ED', 'original_firstorder_Range_MYO_ED', 'original_firstorder_RobustMeanAbsoluteDeviation_MYO_ED', 'original_firstorder_RootMeanSquared_MYO_ED', 'original_firstorder_Skewness_MYO_ED', 'original_firstorder_TotalEnergy_MYO_ED', 'original_firstorder_Uniformity_MYO_ED', 'original_firstorder_Variance_MYO_ED', 'original_glcm_Autocorrelation_MYO_ED', 'original_glcm_ClusterProminence_MYO_ED', 'original_glcm_ClusterShade_MYO_ED', 'original_glcm_ClusterTendency_MYO_ED', 'original_glcm_Contrast_MYO_ED', 'original_glcm_Correlation_MYO_ED', 'original_glcm_DifferenceAverage_MYO_ED', 'original_glcm_DifferenceEntropy_MYO_ED', 'original_glcm_DifferenceVariance_MYO_ED', 'original_glcm_Id_MYO_ED', 'original_glcm_Idm_MYO_ED', 'original_glcm_Idmn_MYO_ED', 'original_glcm_Idn_MYO_ED', 'original_glcm_Imc1_MYO_ED', 'original_glcm_Imc2_MYO_ED', 'original_glcm_InverseVariance_MYO_ED', 'original_glcm_JointAverage_MYO_ED', 'original_glcm_JointEnergy_MYO_ED', 'original_glcm_JointEntropy_MYO_ED', 'original_glcm_MCC_MYO_ED', 'original_glcm_MaximumProbability_MYO_ED', 'original_glcm_SumAverage_MYO_ED', 'original_glcm_SumEntropy_MYO_ED', 'original_glcm_SumSquares_MYO_ED', 'original_gldm_DependenceEntropy_MYO_ED', 'original_gldm_DependenceNonUniformity_MYO_ED', 'original_gldm_DependenceNonUniformityNormalized_MYO_ED', 'original_gldm_DependenceVariance_MYO_ED', 'original_gldm_GrayLevelNonUniformity_MYO_ED', 'original_gldm_GrayLevelVariance_MYO_ED', 'original_gldm_HighGrayLevelEmphasis_MYO_ED', 'original_gldm_LargeDependenceEmphasis_MYO_ED', 'original_gldm_LargeDependenceHighGrayLevelEmphasis_MYO_ED', 'original_gldm_LargeDependenceLowGrayLevelEmphasis_MYO_ED', 'original_gldm_LowGrayLevelEmphasis_MYO_ED', 'original_gldm_SmallDependenceEmphasis_MYO_ED', 'original_gldm_SmallDependenceHighGrayLevelEmphasis_MYO_ED', 'original_gldm_SmallDependenceLowGrayLevelEmphasis_MYO_ED', 'original_glrlm_GrayLevelNonUniformity_MYO_ED', 'original_glrlm_GrayLevelNonUniformityNormalized_MYO_ED', 'original_glrlm_GrayLevelVariance_MYO_ED', 'original_glrlm_HighGrayLevelRunEmphasis_MYO_ED', 'original_glrlm_LongRunEmphasis_MYO_ED', 'original_glrlm_LongRunHighGrayLevelEmphasis_MYO_ED', 'original_glrlm_LongRunLowGrayLevelEmphasis_MYO_ED', 'original_glrlm_LowGrayLevelRunEmphasis_MYO_ED', 'original_glrlm_RunEntropy_MYO_ED', 'original_glrlm_RunLengthNonUniformity_MYO_ED', 'original_glrlm_RunLengthNonUniformityNormalized_MYO_ED', 'original_glrlm_RunPercentage_MYO_ED', 'original_glrlm_RunVariance_MYO_ED', 'original_glrlm_ShortRunEmphasis_MYO_ED', 'original_glrlm_ShortRunHighGrayLevelEmphasis_MYO_ED', 'original_glrlm_ShortRunLowGrayLevelEmphasis_MYO_ED', 'original_glszm_GrayLevelNonUniformity_MYO_ED', 'original_glszm_GrayLevelNonUniformityNormalized_MYO_ED', 'original_glszm_GrayLevelVariance_MYO_ED', 'original_glszm_HighGrayLevelZoneEmphasis_MYO_ED', 'original_glszm_LargeAreaEmphasis_MYO_ED', 'original_glszm_LargeAreaHighGrayLevelEmphasis_MYO_ED', 'original_glszm_LargeAreaLowGrayLevelEmphasis_MYO_ED', 'original_glszm_LowGrayLevelZoneEmphasis_MYO_ED', 'original_glszm_SizeZoneNonUniformity_MYO_ED', 'original_glszm_SizeZoneNonUniformityNormalized_MYO_ED', 'original_glszm_SmallAreaEmphasis_MYO_ED', 'original_glszm_SmallAreaHighGrayLevelEmphasis_MYO_ED', 'original_glszm_SmallAreaLowGrayLevelEmphasis_MYO_ED', 'original_glszm_ZoneEntropy_MYO_ED', 'original_glszm_ZonePercentage_MYO_ED', 'original_glszm_ZoneVariance_MYO_ED', 'original_ngtdm_Busyness_MYO_ED', 'original_ngtdm_Coarseness_MYO_ED', 'original_ngtdm_Complexity_MYO_ED', 'original_ngtdm_Contrast_MYO_ED', 'original_ngtdm_Strength_MYO_ED', 'original_shape_Elongation_LV_ES', 'original_shape_Flatness_LV_ES', 'original_shape_LeastAxisLength_LV_ES', 'original_shape_MajorAxisLength_LV_ES', 'original_shape_Maximum2DDiameterColumn_LV_ES', 'original_shape_Maximum2DDiameterRow_LV_ES', 'original_shape_Maximum2DDiameterSlice_LV_ES', 'original_shape_Maximum3DDiameter_LV_ES', 'original_shape_MeshVolume_LV_ES', 'original_shape_MinorAxisLength_LV_ES', 'original_shape_Sphericity_LV_ES', 'original_shape_SurfaceArea_LV_ES', 'original_shape_SurfaceVolumeRatio_LV_ES', 'original_shape_VoxelVolume_LV_ES', 'original_firstorder_10Percentile_LV_ES', 'original_firstorder_90Percentile_LV_ES', 'original_firstorder_Energy_LV_ES', 'original_firstorder_Entropy_LV_ES', 'original_firstorder_InterquartileRange_LV_ES', 'original_firstorder_Kurtosis_LV_ES', 'original_firstorder_Maximum_LV_ES', 'original_firstorder_MeanAbsoluteDeviation_LV_ES', 'original_firstorder_Mean_LV_ES', 'original_firstorder_Median_LV_ES', 'original_firstorder_Minimum_LV_ES', 'original_firstorder_Range_LV_ES', 'original_firstorder_RobustMeanAbsoluteDeviation_LV_ES', 'original_firstorder_RootMeanSquared_LV_ES', 'original_firstorder_Skewness_LV_ES', 'original_firstorder_TotalEnergy_LV_ES', 'original_firstorder_Uniformity_LV_ES', 'original_firstorder_Variance_LV_ES', 'original_glcm_Autocorrelation_LV_ES', 'original_glcm_ClusterProminence_LV_ES', 'original_glcm_ClusterShade_LV_ES', 'original_glcm_ClusterTendency_LV_ES', 'original_glcm_Contrast_LV_ES', 'original_glcm_Correlation_LV_ES', 'original_glcm_DifferenceAverage_LV_ES', 'original_glcm_DifferenceEntropy_LV_ES', 'original_glcm_DifferenceVariance_LV_ES', 'original_glcm_Id_LV_ES', 'original_glcm_Idm_LV_ES', 'original_glcm_Idmn_LV_ES', 'original_glcm_Idn_LV_ES', 'original_glcm_Imc1_LV_ES', 'original_glcm_Imc2_LV_ES', 'original_glcm_InverseVariance_LV_ES', 'original_glcm_JointAverage_LV_ES', 'original_glcm_JointEnergy_LV_ES', 'original_glcm_JointEntropy_LV_ES', 'original_glcm_MCC_LV_ES', 'original_glcm_MaximumProbability_LV_ES', 'original_glcm_SumAverage_LV_ES', 'original_glcm_SumEntropy_LV_ES', 'original_glcm_SumSquares_LV_ES', 'original_gldm_DependenceEntropy_LV_ES', 'original_gldm_DependenceNonUniformity_LV_ES', 'original_gldm_DependenceNonUniformityNormalized_LV_ES', 'original_gldm_DependenceVariance_LV_ES', 'original_gldm_GrayLevelNonUniformity_LV_ES', 'original_gldm_GrayLevelVariance_LV_ES', 'original_gldm_HighGrayLevelEmphasis_LV_ES', 'original_gldm_LargeDependenceEmphasis_LV_ES', 'original_gldm_LargeDependenceHighGrayLevelEmphasis_LV_ES', 'original_gldm_LargeDependenceLowGrayLevelEmphasis_LV_ES', 'original_gldm_LowGrayLevelEmphasis_LV_ES', 'original_gldm_SmallDependenceEmphasis_LV_ES', 'original_gldm_SmallDependenceHighGrayLevelEmphasis_LV_ES', 'original_gldm_SmallDependenceLowGrayLevelEmphasis_LV_ES', 'original_glrlm_GrayLevelNonUniformity_LV_ES', 'original_glrlm_GrayLevelNonUniformityNormalized_LV_ES', 'original_glrlm_GrayLevelVariance_LV_ES', 'original_glrlm_HighGrayLevelRunEmphasis_LV_ES', 'original_glrlm_LongRunEmphasis_LV_ES', 'original_glrlm_LongRunHighGrayLevelEmphasis_LV_ES', 'original_glrlm_LongRunLowGrayLevelEmphasis_LV_ES', 'original_glrlm_LowGrayLevelRunEmphasis_LV_ES', 'original_glrlm_RunEntropy_LV_ES', 'original_glrlm_RunLengthNonUniformity_LV_ES', 'original_glrlm_RunLengthNonUniformityNormalized_LV_ES', 'original_glrlm_RunPercentage_LV_ES', 'original_glrlm_RunVariance_LV_ES', 'original_glrlm_ShortRunEmphasis_LV_ES', 'original_glrlm_ShortRunHighGrayLevelEmphasis_LV_ES', 'original_glrlm_ShortRunLowGrayLevelEmphasis_LV_ES', 'original_glszm_GrayLevelNonUniformity_LV_ES', 'original_glszm_GrayLevelNonUniformityNormalized_LV_ES', 'original_glszm_GrayLevelVariance_LV_ES', 'original_glszm_HighGrayLevelZoneEmphasis_LV_ES', 'original_glszm_LargeAreaEmphasis_LV_ES', 'original_glszm_LargeAreaHighGrayLevelEmphasis_LV_ES', 'original_glszm_LargeAreaLowGrayLevelEmphasis_LV_ES', 'original_glszm_LowGrayLevelZoneEmphasis_LV_ES', 'original_glszm_SizeZoneNonUniformity_LV_ES', 'original_glszm_SizeZoneNonUniformityNormalized_LV_ES', 'original_glszm_SmallAreaEmphasis_LV_ES', 'original_glszm_SmallAreaHighGrayLevelEmphasis_LV_ES', 'original_glszm_SmallAreaLowGrayLevelEmphasis_LV_ES', 'original_glszm_ZoneEntropy_LV_ES', 'original_glszm_ZonePercentage_LV_ES', 'original_glszm_ZoneVariance_LV_ES', 'original_ngtdm_Busyness_LV_ES', 'original_ngtdm_Coarseness_LV_ES', 'original_ngtdm_Complexity_LV_ES', 'original_ngtdm_Contrast_LV_ES', 'original_ngtdm_Strength_LV_ES', 'original_shape_Elongation_RV_ES', 'original_shape_Flatness_RV_ES', 'original_shape_LeastAxisLength_RV_ES', 'original_shape_MajorAxisLength_RV_ES', 'original_shape_Maximum2DDiameterColumn_RV_ES', 'original_shape_Maximum2DDiameterRow_RV_ES', 'original_shape_Maximum2DDiameterSlice_RV_ES', 'original_shape_Maximum3DDiameter_RV_ES', 'original_shape_MeshVolume_RV_ES', 'original_shape_MinorAxisLength_RV_ES', 'original_shape_Sphericity_RV_ES', 'original_shape_SurfaceArea_RV_ES', 'original_shape_SurfaceVolumeRatio_RV_ES', 'original_shape_VoxelVolume_RV_ES', 'original_firstorder_10Percentile_RV_ES', 'original_firstorder_90Percentile_RV_ES', 'original_firstorder_Energy_RV_ES', 'original_firstorder_Entropy_RV_ES', 'original_firstorder_InterquartileRange_RV_ES', 'original_firstorder_Kurtosis_RV_ES', 'original_firstorder_Maximum_RV_ES', 'original_firstorder_MeanAbsoluteDeviation_RV_ES', 'original_firstorder_Mean_RV_ES', 'original_firstorder_Median_RV_ES', 'original_firstorder_Minimum_RV_ES', 'original_firstorder_Range_RV_ES', 'original_firstorder_RobustMeanAbsoluteDeviation_RV_ES', 'original_firstorder_RootMeanSquared_RV_ES', 'original_firstorder_Skewness_RV_ES', 'original_firstorder_TotalEnergy_RV_ES', 'original_firstorder_Uniformity_RV_ES', 'original_firstorder_Variance_RV_ES', 'original_glcm_Autocorrelation_RV_ES', 'original_glcm_ClusterProminence_RV_ES', 'original_glcm_ClusterShade_RV_ES', 'original_glcm_ClusterTendency_RV_ES', 'original_glcm_Contrast_RV_ES', 'original_glcm_Correlation_RV_ES', 'original_glcm_DifferenceAverage_RV_ES', 'original_glcm_DifferenceEntropy_RV_ES', 'original_glcm_DifferenceVariance_RV_ES', 'original_glcm_Id_RV_ES', 'original_glcm_Idm_RV_ES', 'original_glcm_Idmn_RV_ES', 'original_glcm_Idn_RV_ES', 'original_glcm_Imc1_RV_ES', 'original_glcm_Imc2_RV_ES', 'original_glcm_InverseVariance_RV_ES', 'original_glcm_JointAverage_RV_ES', 'original_glcm_JointEnergy_RV_ES', 'original_glcm_JointEntropy_RV_ES', 'original_glcm_MCC_RV_ES', 'original_glcm_MaximumProbability_RV_ES', 'original_glcm_SumAverage_RV_ES', 'original_glcm_SumEntropy_RV_ES', 'original_glcm_SumSquares_RV_ES', 'original_gldm_DependenceEntropy_RV_ES', 'original_gldm_DependenceNonUniformity_RV_ES', 'original_gldm_DependenceNonUniformityNormalized_RV_ES', 'original_gldm_DependenceVariance_RV_ES', 'original_gldm_GrayLevelNonUniformity_RV_ES', 'original_gldm_GrayLevelVariance_RV_ES', 'original_gldm_HighGrayLevelEmphasis_RV_ES', 'original_gldm_LargeDependenceEmphasis_RV_ES', 'original_gldm_LargeDependenceHighGrayLevelEmphasis_RV_ES', 'original_gldm_LargeDependenceLowGrayLevelEmphasis_RV_ES', 'original_gldm_LowGrayLevelEmphasis_RV_ES', 'original_gldm_SmallDependenceEmphasis_RV_ES', 'original_gldm_SmallDependenceHighGrayLevelEmphasis_RV_ES', 'original_gldm_SmallDependenceLowGrayLevelEmphasis_RV_ES', 'original_glrlm_GrayLevelNonUniformity_RV_ES', 'original_glrlm_GrayLevelNonUniformityNormalized_RV_ES', 'original_glrlm_GrayLevelVariance_RV_ES', 'original_glrlm_HighGrayLevelRunEmphasis_RV_ES', 'original_glrlm_LongRunEmphasis_RV_ES', 'original_glrlm_LongRunHighGrayLevelEmphasis_RV_ES', 'original_glrlm_LongRunLowGrayLevelEmphasis_RV_ES', 'original_glrlm_LowGrayLevelRunEmphasis_RV_ES', 'original_glrlm_RunEntropy_RV_ES', 'original_glrlm_RunLengthNonUniformity_RV_ES', 'original_glrlm_RunLengthNonUniformityNormalized_RV_ES', 'original_glrlm_RunPercentage_RV_ES', 'original_glrlm_RunVariance_RV_ES', 'original_glrlm_ShortRunEmphasis_RV_ES', 'original_glrlm_ShortRunHighGrayLevelEmphasis_RV_ES', 'original_glrlm_ShortRunLowGrayLevelEmphasis_RV_ES', 'original_glszm_GrayLevelNonUniformity_RV_ES', 'original_glszm_GrayLevelNonUniformityNormalized_RV_ES', 'original_glszm_GrayLevelVariance_RV_ES', 'original_glszm_HighGrayLevelZoneEmphasis_RV_ES', 'original_glszm_LargeAreaEmphasis_RV_ES', 'original_glszm_LargeAreaHighGrayLevelEmphasis_RV_ES', 'original_glszm_LargeAreaLowGrayLevelEmphasis_RV_ES', 'original_glszm_LowGrayLevelZoneEmphasis_RV_ES', 'original_glszm_SizeZoneNonUniformity_RV_ES', 'original_glszm_SizeZoneNonUniformityNormalized_RV_ES', 'original_glszm_SmallAreaEmphasis_RV_ES', 'original_glszm_SmallAreaHighGrayLevelEmphasis_RV_ES', 'original_glszm_SmallAreaLowGrayLevelEmphasis_RV_ES', 'original_glszm_ZoneEntropy_RV_ES', 'original_glszm_ZonePercentage_RV_ES', 'original_glszm_ZoneVariance_RV_ES', 'original_ngtdm_Busyness_RV_ES', 'original_ngtdm_Coarseness_RV_ES', 'original_ngtdm_Complexity_RV_ES', 'original_ngtdm_Contrast_RV_ES', 'original_ngtdm_Strength_RV_ES', 'original_shape_Elongation_MYO_ES', 'original_shape_Flatness_MYO_ES', 'original_shape_LeastAxisLength_MYO_ES', 'original_shape_MajorAxisLength_MYO_ES', 'original_shape_Maximum2DDiameterColumn_MYO_ES', 'original_shape_Maximum2DDiameterRow_MYO_ES', 'original_shape_Maximum2DDiameterSlice_MYO_ES', 'original_shape_Maximum3DDiameter_MYO_ES', 'original_shape_MeshVolume_MYO_ES', 'original_shape_MinorAxisLength_MYO_ES', 'original_shape_Sphericity_MYO_ES', 'original_shape_SurfaceArea_MYO_ES', 'original_shape_SurfaceVolumeRatio_MYO_ES', 'original_shape_VoxelVolume_MYO_ES', 'original_firstorder_10Percentile_MYO_ES', 'original_firstorder_90Percentile_MYO_ES', 'original_firstorder_Energy_MYO_ES', 'original_firstorder_Entropy_MYO_ES', 'original_firstorder_InterquartileRange_MYO_ES', 'original_firstorder_Kurtosis_MYO_ES', 'original_firstorder_Maximum_MYO_ES', 'original_firstorder_MeanAbsoluteDeviation_MYO_ES', 'original_firstorder_Mean_MYO_ES', 'original_firstorder_Median_MYO_ES', 'original_firstorder_Minimum_MYO_ES', 'original_firstorder_Range_MYO_ES', 'original_firstorder_RobustMeanAbsoluteDeviation_MYO_ES', 'original_firstorder_RootMeanSquared_MYO_ES', 'original_firstorder_Skewness_MYO_ES', 'original_firstorder_TotalEnergy_MYO_ES', 'original_firstorder_Uniformity_MYO_ES', 'original_firstorder_Variance_MYO_ES', 'original_glcm_Autocorrelation_MYO_ES', 'original_glcm_ClusterProminence_MYO_ES', 'original_glcm_ClusterShade_MYO_ES', 'original_glcm_ClusterTendency_MYO_ES', 'original_glcm_Contrast_MYO_ES', 'original_glcm_Correlation_MYO_ES', 'original_glcm_DifferenceAverage_MYO_ES', 'original_glcm_DifferenceEntropy_MYO_ES', 'original_glcm_DifferenceVariance_MYO_ES', 'original_glcm_Id_MYO_ES', 'original_glcm_Idm_MYO_ES', 'original_glcm_Idmn_MYO_ES', 'original_glcm_Idn_MYO_ES', 'original_glcm_Imc1_MYO_ES', 'original_glcm_Imc2_MYO_ES', 'original_glcm_InverseVariance_MYO_ES', 'original_glcm_JointAverage_MYO_ES', 'original_glcm_JointEnergy_MYO_ES', 'original_glcm_JointEntropy_MYO_ES', 'original_glcm_MCC_MYO_ES', 'original_glcm_MaximumProbability_MYO_ES', 'original_glcm_SumAverage_MYO_ES', 'original_glcm_SumEntropy_MYO_ES', 'original_glcm_SumSquares_MYO_ES', 'original_gldm_DependenceEntropy_MYO_ES', 'original_gldm_DependenceNonUniformity_MYO_ES', 'original_gldm_DependenceNonUniformityNormalized_MYO_ES', 'original_gldm_DependenceVariance_MYO_ES', 'original_gldm_GrayLevelNonUniformity_MYO_ES', 'original_gldm_GrayLevelVariance_MYO_ES', 'original_gldm_HighGrayLevelEmphasis_MYO_ES', 'original_gldm_LargeDependenceEmphasis_MYO_ES', 'original_gldm_LargeDependenceHighGrayLevelEmphasis_MYO_ES', 'original_gldm_LargeDependenceLowGrayLevelEmphasis_MYO_ES', 'original_gldm_LowGrayLevelEmphasis_MYO_ES', 'original_gldm_SmallDependenceEmphasis_MYO_ES', 'original_gldm_SmallDependenceHighGrayLevelEmphasis_MYO_ES', 'original_gldm_SmallDependenceLowGrayLevelEmphasis_MYO_ES', 'original_glrlm_GrayLevelNonUniformity_MYO_ES', 'original_glrlm_GrayLevelNonUniformityNormalized_MYO_ES', 'original_glrlm_GrayLevelVariance_MYO_ES', 'original_glrlm_HighGrayLevelRunEmphasis_MYO_ES', 'original_glrlm_LongRunEmphasis_MYO_ES', 'original_glrlm_LongRunHighGrayLevelEmphasis_MYO_ES', 'original_glrlm_LongRunLowGrayLevelEmphasis_MYO_ES', 'original_glrlm_LowGrayLevelRunEmphasis_MYO_ES', 'original_glrlm_RunEntropy_MYO_ES', 'original_glrlm_RunLengthNonUniformity_MYO_ES', 'original_glrlm_RunLengthNonUniformityNormalized_MYO_ES', 'original_glrlm_RunPercentage_MYO_ES', 'original_glrlm_RunVariance_MYO_ES', 'original_glrlm_ShortRunEmphasis_MYO_ES', 'original_glrlm_ShortRunHighGrayLevelEmphasis_MYO_ES', 'original_glrlm_ShortRunLowGrayLevelEmphasis_MYO_ES', 'original_glszm_GrayLevelNonUniformity_MYO_ES', 'original_glszm_GrayLevelNonUniformityNormalized_MYO_ES', 'original_glszm_GrayLevelVariance_MYO_ES', 'original_glszm_HighGrayLevelZoneEmphasis_MYO_ES', 'original_glszm_LargeAreaEmphasis_MYO_ES', 'original_glszm_LargeAreaHighGrayLevelEmphasis_MYO_ES', 'original_glszm_LargeAreaLowGrayLevelEmphasis_MYO_ES', 'original_glszm_LowGrayLevelZoneEmphasis_MYO_ES', 'original_glszm_SizeZoneNonUniformity_MYO_ES', 'original_glszm_SizeZoneNonUniformityNormalized_MYO_ES', 'original_glszm_SmallAreaEmphasis_MYO_ES', 'original_glszm_SmallAreaHighGrayLevelEmphasis_MYO_ES', 'original_glszm_SmallAreaLowGrayLevelEmphasis_MYO_ES', 'original_glszm_ZoneEntropy_MYO_ES', 'original_glszm_ZonePercentage_MYO_ES', 'original_glszm_ZoneVariance_MYO_ES', 'original_ngtdm_Busyness_MYO_ES', 'original_ngtdm_Coarseness_MYO_ES', 'original_ngtdm_Complexity_MYO_ES', 'original_ngtdm_Contrast_MYO_ES', 'original_ngtdm_Strength_MYO_ES', 'height', 'weight']\n",
      "class\n"
     ]
    }
   ],
   "source": [
    "print(x_labels)\n",
    "print(y_label)"
   ]
  },
  {
   "cell_type": "code",
   "execution_count": 15,
   "metadata": {
    "colab": {
     "base_uri": "https://localhost:8080/",
     "height": 1000
    },
    "executionInfo": {
     "elapsed": 63319,
     "status": "ok",
     "timestamp": 1709498218735,
     "user": {
      "displayName": "Unai Martínez",
      "userId": "07627802615691193729"
     },
     "user_tz": -60
    },
    "id": "qYOapV1NGLps",
    "outputId": "a9ed3183-8f7e-4b3f-e70e-c3ce2a13de5b"
   },
   "outputs": [
    {
     "name": "stdout",
     "output_type": "stream",
     "text": [
      "AutoML progress: |███████████████████████████████████████████████████████████████| (done) 100%\n"
     ]
    },
    {
     "data": {
      "text/html": [
       "<pre style='margin: 1em 0 1em 0;'>Model Details\n",
       "=============\n",
       "H2OXGBoostEstimator : XGBoost\n",
       "Model Key: XGBoost_1_AutoML_1_20240303_203555\n",
       "</pre>\n",
       "<div style='margin: 1em 0 1em 0;'>\n",
       "<style>\n",
       "\n",
       "#h2o-table-2.h2o-container {\n",
       "  overflow-x: auto;\n",
       "}\n",
       "#h2o-table-2 .h2o-table {\n",
       "  /* width: 100%; */\n",
       "  margin-top: 1em;\n",
       "  margin-bottom: 1em;\n",
       "}\n",
       "#h2o-table-2 .h2o-table caption {\n",
       "  white-space: nowrap;\n",
       "  caption-side: top;\n",
       "  text-align: left;\n",
       "  /* margin-left: 1em; */\n",
       "  margin: 0;\n",
       "  font-size: larger;\n",
       "}\n",
       "#h2o-table-2 .h2o-table thead {\n",
       "  white-space: nowrap; \n",
       "  position: sticky;\n",
       "  top: 0;\n",
       "  box-shadow: 0 -1px inset;\n",
       "}\n",
       "#h2o-table-2 .h2o-table tbody {\n",
       "  overflow: auto;\n",
       "}\n",
       "#h2o-table-2 .h2o-table th,\n",
       "#h2o-table-2 .h2o-table td {\n",
       "  text-align: right;\n",
       "  /* border: 1px solid; */\n",
       "}\n",
       "#h2o-table-2 .h2o-table tr:nth-child(even) {\n",
       "  /* background: #F5F5F5 */\n",
       "}\n",
       "\n",
       "</style>      \n",
       "<div id=\"h2o-table-2\" class=\"h2o-container\">\n",
       "  <table class=\"h2o-table\">\n",
       "    <caption>Model Summary: </caption>\n",
       "    <thead><tr><th></th>\n",
       "<th>number_of_trees</th></tr></thead>\n",
       "    <tbody><tr><td></td>\n",
       "<td>30.0</td></tr></tbody>\n",
       "  </table>\n",
       "</div>\n",
       "</div>\n",
       "<div style='margin: 1em 0 1em 0;'><pre style='margin: 1em 0 1em 0;'>ModelMetricsMultinomial: xgboost\n",
       "** Reported on train data. **\n",
       "\n",
       "MSE: 0.6273167209526157\n",
       "RMSE: 0.7920332827303508\n",
       "LogLoss: 1.5760206137518722\n",
       "Mean Per-Class Error: 0.611111111111111\n",
       "AUC table was not computed: it is either disabled (model parameter 'auc_type' was set to AUTO or NONE) or the domain size exceeds the limit (maximum is 50 domains).\n",
       "AUCPR table was not computed: it is either disabled (model parameter 'auc_type' was set to AUTO or NONE) or the domain size exceeds the limit (maximum is 50 domains).</pre>\n",
       "<div style='margin: 1em 0 1em 0;'>\n",
       "<style>\n",
       "\n",
       "#h2o-table-3.h2o-container {\n",
       "  overflow-x: auto;\n",
       "}\n",
       "#h2o-table-3 .h2o-table {\n",
       "  /* width: 100%; */\n",
       "  margin-top: 1em;\n",
       "  margin-bottom: 1em;\n",
       "}\n",
       "#h2o-table-3 .h2o-table caption {\n",
       "  white-space: nowrap;\n",
       "  caption-side: top;\n",
       "  text-align: left;\n",
       "  /* margin-left: 1em; */\n",
       "  margin: 0;\n",
       "  font-size: larger;\n",
       "}\n",
       "#h2o-table-3 .h2o-table thead {\n",
       "  white-space: nowrap; \n",
       "  position: sticky;\n",
       "  top: 0;\n",
       "  box-shadow: 0 -1px inset;\n",
       "}\n",
       "#h2o-table-3 .h2o-table tbody {\n",
       "  overflow: auto;\n",
       "}\n",
       "#h2o-table-3 .h2o-table th,\n",
       "#h2o-table-3 .h2o-table td {\n",
       "  text-align: right;\n",
       "  /* border: 1px solid; */\n",
       "}\n",
       "#h2o-table-3 .h2o-table tr:nth-child(even) {\n",
       "  /* background: #F5F5F5 */\n",
       "}\n",
       "\n",
       "</style>      \n",
       "<div id=\"h2o-table-3\" class=\"h2o-container\">\n",
       "  <table class=\"h2o-table\">\n",
       "    <caption>Confusion Matrix: Row labels: Actual class; Column labels: Predicted class</caption>\n",
       "    <thead><tr><th>DCM</th>\n",
       "<th>HCM</th>\n",
       "<th>MINF</th>\n",
       "<th>NOR</th>\n",
       "<th>RV</th>\n",
       "<th>Error</th>\n",
       "<th>Rate</th></tr></thead>\n",
       "    <tbody><tr><td>0.0</td>\n",
       "<td>0.0</td>\n",
       "<td>17.0</td>\n",
       "<td>0.0</td>\n",
       "<td>0.0</td>\n",
       "<td>1.0</td>\n",
       "<td>17 / 17</td></tr>\n",
       "<tr><td>0.0</td>\n",
       "<td>17.0</td>\n",
       "<td>0.0</td>\n",
       "<td>0.0</td>\n",
       "<td>0.0</td>\n",
       "<td>0.0</td>\n",
       "<td>0 / 17</td></tr>\n",
       "<tr><td>0.0</td>\n",
       "<td>1.0</td>\n",
       "<td>17.0</td>\n",
       "<td>0.0</td>\n",
       "<td>0.0</td>\n",
       "<td>0.0555556</td>\n",
       "<td>1 / 18</td></tr>\n",
       "<tr><td>0.0</td>\n",
       "<td>16.0</td>\n",
       "<td>0.0</td>\n",
       "<td>0.0</td>\n",
       "<td>0.0</td>\n",
       "<td>1.0</td>\n",
       "<td>16 / 16</td></tr>\n",
       "<tr><td>0.0</td>\n",
       "<td>12.0</td>\n",
       "<td>5.0</td>\n",
       "<td>0.0</td>\n",
       "<td>0.0</td>\n",
       "<td>1.0</td>\n",
       "<td>17 / 17</td></tr>\n",
       "<tr><td>0.0</td>\n",
       "<td>46.0</td>\n",
       "<td>39.0</td>\n",
       "<td>0.0</td>\n",
       "<td>0.0</td>\n",
       "<td>0.6</td>\n",
       "<td>51 / 85</td></tr></tbody>\n",
       "  </table>\n",
       "</div>\n",
       "</div>\n",
       "<div style='margin: 1em 0 1em 0;'>\n",
       "<style>\n",
       "\n",
       "#h2o-table-4.h2o-container {\n",
       "  overflow-x: auto;\n",
       "}\n",
       "#h2o-table-4 .h2o-table {\n",
       "  /* width: 100%; */\n",
       "  margin-top: 1em;\n",
       "  margin-bottom: 1em;\n",
       "}\n",
       "#h2o-table-4 .h2o-table caption {\n",
       "  white-space: nowrap;\n",
       "  caption-side: top;\n",
       "  text-align: left;\n",
       "  /* margin-left: 1em; */\n",
       "  margin: 0;\n",
       "  font-size: larger;\n",
       "}\n",
       "#h2o-table-4 .h2o-table thead {\n",
       "  white-space: nowrap; \n",
       "  position: sticky;\n",
       "  top: 0;\n",
       "  box-shadow: 0 -1px inset;\n",
       "}\n",
       "#h2o-table-4 .h2o-table tbody {\n",
       "  overflow: auto;\n",
       "}\n",
       "#h2o-table-4 .h2o-table th,\n",
       "#h2o-table-4 .h2o-table td {\n",
       "  text-align: right;\n",
       "  /* border: 1px solid; */\n",
       "}\n",
       "#h2o-table-4 .h2o-table tr:nth-child(even) {\n",
       "  /* background: #F5F5F5 */\n",
       "}\n",
       "\n",
       "</style>      \n",
       "<div id=\"h2o-table-4\" class=\"h2o-container\">\n",
       "  <table class=\"h2o-table\">\n",
       "    <caption>Top-5 Hit Ratios: </caption>\n",
       "    <thead><tr><th>k</th>\n",
       "<th>hit_ratio</th></tr></thead>\n",
       "    <tbody><tr><td>1</td>\n",
       "<td>0.4</td></tr>\n",
       "<tr><td>2</td>\n",
       "<td>0.4</td></tr>\n",
       "<tr><td>3</td>\n",
       "<td>0.7411765</td></tr>\n",
       "<tr><td>4</td>\n",
       "<td>0.8117647</td></tr>\n",
       "<tr><td>5</td>\n",
       "<td>1.0</td></tr></tbody>\n",
       "  </table>\n",
       "</div>\n",
       "</div></div>\n",
       "<div style='margin: 1em 0 1em 0;'><pre style='margin: 1em 0 1em 0;'>ModelMetricsMultinomial: xgboost\n",
       "** Reported on cross-validation data. **\n",
       "\n",
       "MSE: 0.6543122195223501\n",
       "RMSE: 0.8088956790108043\n",
       "LogLoss: 1.6611430440224708\n",
       "Mean Per-Class Error: 0.8973856209150327\n",
       "AUC table was not computed: it is either disabled (model parameter 'auc_type' was set to AUTO or NONE) or the domain size exceeds the limit (maximum is 50 domains).\n",
       "AUCPR table was not computed: it is either disabled (model parameter 'auc_type' was set to AUTO or NONE) or the domain size exceeds the limit (maximum is 50 domains).</pre>\n",
       "<div style='margin: 1em 0 1em 0;'>\n",
       "<style>\n",
       "\n",
       "#h2o-table-5.h2o-container {\n",
       "  overflow-x: auto;\n",
       "}\n",
       "#h2o-table-5 .h2o-table {\n",
       "  /* width: 100%; */\n",
       "  margin-top: 1em;\n",
       "  margin-bottom: 1em;\n",
       "}\n",
       "#h2o-table-5 .h2o-table caption {\n",
       "  white-space: nowrap;\n",
       "  caption-side: top;\n",
       "  text-align: left;\n",
       "  /* margin-left: 1em; */\n",
       "  margin: 0;\n",
       "  font-size: larger;\n",
       "}\n",
       "#h2o-table-5 .h2o-table thead {\n",
       "  white-space: nowrap; \n",
       "  position: sticky;\n",
       "  top: 0;\n",
       "  box-shadow: 0 -1px inset;\n",
       "}\n",
       "#h2o-table-5 .h2o-table tbody {\n",
       "  overflow: auto;\n",
       "}\n",
       "#h2o-table-5 .h2o-table th,\n",
       "#h2o-table-5 .h2o-table td {\n",
       "  text-align: right;\n",
       "  /* border: 1px solid; */\n",
       "}\n",
       "#h2o-table-5 .h2o-table tr:nth-child(even) {\n",
       "  /* background: #F5F5F5 */\n",
       "}\n",
       "\n",
       "</style>      \n",
       "<div id=\"h2o-table-5\" class=\"h2o-container\">\n",
       "  <table class=\"h2o-table\">\n",
       "    <caption>Confusion Matrix: Row labels: Actual class; Column labels: Predicted class</caption>\n",
       "    <thead><tr><th>DCM</th>\n",
       "<th>HCM</th>\n",
       "<th>MINF</th>\n",
       "<th>NOR</th>\n",
       "<th>RV</th>\n",
       "<th>Error</th>\n",
       "<th>Rate</th></tr></thead>\n",
       "    <tbody><tr><td>0.0</td>\n",
       "<td>1.0</td>\n",
       "<td>8.0</td>\n",
       "<td>0.0</td>\n",
       "<td>8.0</td>\n",
       "<td>1.0</td>\n",
       "<td>17 / 17</td></tr>\n",
       "<tr><td>0.0</td>\n",
       "<td>2.0</td>\n",
       "<td>8.0</td>\n",
       "<td>0.0</td>\n",
       "<td>7.0</td>\n",
       "<td>0.8823529</td>\n",
       "<td>15 / 17</td></tr>\n",
       "<tr><td>0.0</td>\n",
       "<td>4.0</td>\n",
       "<td>5.0</td>\n",
       "<td>0.0</td>\n",
       "<td>9.0</td>\n",
       "<td>0.7222222</td>\n",
       "<td>13 / 18</td></tr>\n",
       "<tr><td>0.0</td>\n",
       "<td>3.0</td>\n",
       "<td>5.0</td>\n",
       "<td>0.0</td>\n",
       "<td>8.0</td>\n",
       "<td>1.0</td>\n",
       "<td>16 / 16</td></tr>\n",
       "<tr><td>0.0</td>\n",
       "<td>7.0</td>\n",
       "<td>8.0</td>\n",
       "<td>0.0</td>\n",
       "<td>2.0</td>\n",
       "<td>0.8823529</td>\n",
       "<td>15 / 17</td></tr>\n",
       "<tr><td>0.0</td>\n",
       "<td>17.0</td>\n",
       "<td>34.0</td>\n",
       "<td>0.0</td>\n",
       "<td>34.0</td>\n",
       "<td>0.8941176</td>\n",
       "<td>76 / 85</td></tr></tbody>\n",
       "  </table>\n",
       "</div>\n",
       "</div>\n",
       "<div style='margin: 1em 0 1em 0;'>\n",
       "<style>\n",
       "\n",
       "#h2o-table-6.h2o-container {\n",
       "  overflow-x: auto;\n",
       "}\n",
       "#h2o-table-6 .h2o-table {\n",
       "  /* width: 100%; */\n",
       "  margin-top: 1em;\n",
       "  margin-bottom: 1em;\n",
       "}\n",
       "#h2o-table-6 .h2o-table caption {\n",
       "  white-space: nowrap;\n",
       "  caption-side: top;\n",
       "  text-align: left;\n",
       "  /* margin-left: 1em; */\n",
       "  margin: 0;\n",
       "  font-size: larger;\n",
       "}\n",
       "#h2o-table-6 .h2o-table thead {\n",
       "  white-space: nowrap; \n",
       "  position: sticky;\n",
       "  top: 0;\n",
       "  box-shadow: 0 -1px inset;\n",
       "}\n",
       "#h2o-table-6 .h2o-table tbody {\n",
       "  overflow: auto;\n",
       "}\n",
       "#h2o-table-6 .h2o-table th,\n",
       "#h2o-table-6 .h2o-table td {\n",
       "  text-align: right;\n",
       "  /* border: 1px solid; */\n",
       "}\n",
       "#h2o-table-6 .h2o-table tr:nth-child(even) {\n",
       "  /* background: #F5F5F5 */\n",
       "}\n",
       "\n",
       "</style>      \n",
       "<div id=\"h2o-table-6\" class=\"h2o-container\">\n",
       "  <table class=\"h2o-table\">\n",
       "    <caption>Top-5 Hit Ratios: </caption>\n",
       "    <thead><tr><th>k</th>\n",
       "<th>hit_ratio</th></tr></thead>\n",
       "    <tbody><tr><td>1</td>\n",
       "<td>0.1058824</td></tr>\n",
       "<tr><td>2</td>\n",
       "<td>0.2823529</td></tr>\n",
       "<tr><td>3</td>\n",
       "<td>0.4705883</td></tr>\n",
       "<tr><td>4</td>\n",
       "<td>0.7294118</td></tr>\n",
       "<tr><td>5</td>\n",
       "<td>1.0000001</td></tr></tbody>\n",
       "  </table>\n",
       "</div>\n",
       "</div></div>\n",
       "<div style='margin: 1em 0 1em 0;'>\n",
       "<style>\n",
       "\n",
       "#h2o-table-7.h2o-container {\n",
       "  overflow-x: auto;\n",
       "}\n",
       "#h2o-table-7 .h2o-table {\n",
       "  /* width: 100%; */\n",
       "  margin-top: 1em;\n",
       "  margin-bottom: 1em;\n",
       "}\n",
       "#h2o-table-7 .h2o-table caption {\n",
       "  white-space: nowrap;\n",
       "  caption-side: top;\n",
       "  text-align: left;\n",
       "  /* margin-left: 1em; */\n",
       "  margin: 0;\n",
       "  font-size: larger;\n",
       "}\n",
       "#h2o-table-7 .h2o-table thead {\n",
       "  white-space: nowrap; \n",
       "  position: sticky;\n",
       "  top: 0;\n",
       "  box-shadow: 0 -1px inset;\n",
       "}\n",
       "#h2o-table-7 .h2o-table tbody {\n",
       "  overflow: auto;\n",
       "}\n",
       "#h2o-table-7 .h2o-table th,\n",
       "#h2o-table-7 .h2o-table td {\n",
       "  text-align: right;\n",
       "  /* border: 1px solid; */\n",
       "}\n",
       "#h2o-table-7 .h2o-table tr:nth-child(even) {\n",
       "  /* background: #F5F5F5 */\n",
       "}\n",
       "\n",
       "</style>      \n",
       "<div id=\"h2o-table-7\" class=\"h2o-container\">\n",
       "  <table class=\"h2o-table\">\n",
       "    <caption>Cross-Validation Metrics Summary: </caption>\n",
       "    <thead><tr><th></th>\n",
       "<th>mean</th>\n",
       "<th>sd</th>\n",
       "<th>cv_1_valid</th>\n",
       "<th>cv_2_valid</th>\n",
       "<th>cv_3_valid</th>\n",
       "<th>cv_4_valid</th>\n",
       "<th>cv_5_valid</th></tr></thead>\n",
       "    <tbody><tr><td>accuracy</td>\n",
       "<td>0.1058824</td>\n",
       "<td>0.0492153</td>\n",
       "<td>0.1176471</td>\n",
       "<td>0.0588235</td>\n",
       "<td>0.1764706</td>\n",
       "<td>0.1176471</td>\n",
       "<td>0.0588235</td></tr>\n",
       "<tr><td>auc</td>\n",
       "<td>nan</td>\n",
       "<td>0.0</td>\n",
       "<td>nan</td>\n",
       "<td>nan</td>\n",
       "<td>nan</td>\n",
       "<td>nan</td>\n",
       "<td>nan</td></tr>\n",
       "<tr><td>err</td>\n",
       "<td>0.8941176</td>\n",
       "<td>0.0492153</td>\n",
       "<td>0.8823530</td>\n",
       "<td>0.9411765</td>\n",
       "<td>0.8235294</td>\n",
       "<td>0.8823530</td>\n",
       "<td>0.9411765</td></tr>\n",
       "<tr><td>err_count</td>\n",
       "<td>15.2</td>\n",
       "<td>0.83666</td>\n",
       "<td>15.0</td>\n",
       "<td>16.0</td>\n",
       "<td>14.0</td>\n",
       "<td>15.0</td>\n",
       "<td>16.0</td></tr>\n",
       "<tr><td>logloss</td>\n",
       "<td>1.6611431</td>\n",
       "<td>0.0320701</td>\n",
       "<td>1.712289</td>\n",
       "<td>1.6622791</td>\n",
       "<td>1.624876</td>\n",
       "<td>1.6582942</td>\n",
       "<td>1.6479769</td></tr>\n",
       "<tr><td>max_per_class_error</td>\n",
       "<td>1.0</td>\n",
       "<td>0.0</td>\n",
       "<td>1.0</td>\n",
       "<td>1.0</td>\n",
       "<td>1.0</td>\n",
       "<td>1.0</td>\n",
       "<td>1.0</td></tr>\n",
       "<tr><td>mean_per_class_accuracy</td>\n",
       "<td>0.2</td>\n",
       "<td>0.0</td>\n",
       "<td>0.2</td>\n",
       "<td>0.2</td>\n",
       "<td>0.2</td>\n",
       "<td>0.2</td>\n",
       "<td>0.2</td></tr>\n",
       "<tr><td>mean_per_class_error</td>\n",
       "<td>0.8</td>\n",
       "<td>0.0000000</td>\n",
       "<td>0.8</td>\n",
       "<td>0.8</td>\n",
       "<td>0.8</td>\n",
       "<td>0.8</td>\n",
       "<td>0.8</td></tr>\n",
       "<tr><td>mse</td>\n",
       "<td>0.6543122</td>\n",
       "<td>0.0091063</td>\n",
       "<td>0.6686389</td>\n",
       "<td>0.6543636</td>\n",
       "<td>0.6434611</td>\n",
       "<td>0.653662</td>\n",
       "<td>0.6514354</td></tr>\n",
       "<tr><td>pr_auc</td>\n",
       "<td>nan</td>\n",
       "<td>0.0</td>\n",
       "<td>nan</td>\n",
       "<td>nan</td>\n",
       "<td>nan</td>\n",
       "<td>nan</td>\n",
       "<td>nan</td></tr>\n",
       "<tr><td>r2</td>\n",
       "<td>0.622478</td>\n",
       "<td>0.0876959</td>\n",
       "<td>0.5799203</td>\n",
       "<td>0.6043701</td>\n",
       "<td>0.6556292</td>\n",
       "<td>0.7527378</td>\n",
       "<td>0.5197326</td></tr>\n",
       "<tr><td>rmse</td>\n",
       "<td>0.8088801</td>\n",
       "<td>0.0056186</td>\n",
       "<td>0.8177034</td>\n",
       "<td>0.8089275</td>\n",
       "<td>0.8021603</td>\n",
       "<td>0.8084937</td>\n",
       "<td>0.8071155</td></tr></tbody>\n",
       "  </table>\n",
       "</div>\n",
       "</div>\n",
       "<div style='margin: 1em 0 1em 0;'>\n",
       "<style>\n",
       "\n",
       "#h2o-table-8.h2o-container {\n",
       "  overflow-x: auto;\n",
       "}\n",
       "#h2o-table-8 .h2o-table {\n",
       "  /* width: 100%; */\n",
       "  margin-top: 1em;\n",
       "  margin-bottom: 1em;\n",
       "}\n",
       "#h2o-table-8 .h2o-table caption {\n",
       "  white-space: nowrap;\n",
       "  caption-side: top;\n",
       "  text-align: left;\n",
       "  /* margin-left: 1em; */\n",
       "  margin: 0;\n",
       "  font-size: larger;\n",
       "}\n",
       "#h2o-table-8 .h2o-table thead {\n",
       "  white-space: nowrap; \n",
       "  position: sticky;\n",
       "  top: 0;\n",
       "  box-shadow: 0 -1px inset;\n",
       "}\n",
       "#h2o-table-8 .h2o-table tbody {\n",
       "  overflow: auto;\n",
       "}\n",
       "#h2o-table-8 .h2o-table th,\n",
       "#h2o-table-8 .h2o-table td {\n",
       "  text-align: right;\n",
       "  /* border: 1px solid; */\n",
       "}\n",
       "#h2o-table-8 .h2o-table tr:nth-child(even) {\n",
       "  /* background: #F5F5F5 */\n",
       "}\n",
       "\n",
       "</style>      \n",
       "<div id=\"h2o-table-8\" class=\"h2o-container\">\n",
       "  <table class=\"h2o-table\">\n",
       "    <caption>Scoring History: </caption>\n",
       "    <thead><tr><th></th>\n",
       "<th>timestamp</th>\n",
       "<th>duration</th>\n",
       "<th>number_of_trees</th>\n",
       "<th>training_rmse</th>\n",
       "<th>training_logloss</th>\n",
       "<th>training_classification_error</th>\n",
       "<th>training_auc</th>\n",
       "<th>training_pr_auc</th></tr></thead>\n",
       "    <tbody><tr><td></td>\n",
       "<td>2024-03-03 20:36:00</td>\n",
       "<td> 4.809 sec</td>\n",
       "<td>0.0</td>\n",
       "<td>0.8000000</td>\n",
       "<td>1.6094379</td>\n",
       "<td>0.8117647</td>\n",
       "<td>nan</td>\n",
       "<td>nan</td></tr>\n",
       "<tr><td></td>\n",
       "<td>2024-03-03 20:36:00</td>\n",
       "<td> 5.124 sec</td>\n",
       "<td>5.0</td>\n",
       "<td>0.8002431</td>\n",
       "<td>1.6115739</td>\n",
       "<td>0.8</td>\n",
       "<td>nan</td>\n",
       "<td>nan</td></tr>\n",
       "<tr><td></td>\n",
       "<td>2024-03-03 20:36:01</td>\n",
       "<td> 5.300 sec</td>\n",
       "<td>10.0</td>\n",
       "<td>0.7996509</td>\n",
       "<td>1.6090794</td>\n",
       "<td>0.7882353</td>\n",
       "<td>nan</td>\n",
       "<td>nan</td></tr>\n",
       "<tr><td></td>\n",
       "<td>2024-03-03 20:36:01</td>\n",
       "<td> 5.415 sec</td>\n",
       "<td>15.0</td>\n",
       "<td>0.7998654</td>\n",
       "<td>1.6094713</td>\n",
       "<td>0.7882353</td>\n",
       "<td>nan</td>\n",
       "<td>nan</td></tr>\n",
       "<tr><td></td>\n",
       "<td>2024-03-03 20:36:01</td>\n",
       "<td> 5.688 sec</td>\n",
       "<td>20.0</td>\n",
       "<td>0.7997231</td>\n",
       "<td>1.6094533</td>\n",
       "<td>0.7882353</td>\n",
       "<td>nan</td>\n",
       "<td>nan</td></tr>\n",
       "<tr><td></td>\n",
       "<td>2024-03-03 20:36:01</td>\n",
       "<td> 5.883 sec</td>\n",
       "<td>25.0</td>\n",
       "<td>0.7925381</td>\n",
       "<td>1.5758594</td>\n",
       "<td>0.8</td>\n",
       "<td>nan</td>\n",
       "<td>nan</td></tr>\n",
       "<tr><td></td>\n",
       "<td>2024-03-03 20:36:01</td>\n",
       "<td> 6.086 sec</td>\n",
       "<td>30.0</td>\n",
       "<td>0.7920333</td>\n",
       "<td>1.5760206</td>\n",
       "<td>0.6</td>\n",
       "<td>nan</td>\n",
       "<td>nan</td></tr></tbody>\n",
       "  </table>\n",
       "</div>\n",
       "</div>\n",
       "<div style='margin: 1em 0 1em 0;'>\n",
       "<style>\n",
       "\n",
       "#h2o-table-9.h2o-container {\n",
       "  overflow-x: auto;\n",
       "}\n",
       "#h2o-table-9 .h2o-table {\n",
       "  /* width: 100%; */\n",
       "  margin-top: 1em;\n",
       "  margin-bottom: 1em;\n",
       "}\n",
       "#h2o-table-9 .h2o-table caption {\n",
       "  white-space: nowrap;\n",
       "  caption-side: top;\n",
       "  text-align: left;\n",
       "  /* margin-left: 1em; */\n",
       "  margin: 0;\n",
       "  font-size: larger;\n",
       "}\n",
       "#h2o-table-9 .h2o-table thead {\n",
       "  white-space: nowrap; \n",
       "  position: sticky;\n",
       "  top: 0;\n",
       "  box-shadow: 0 -1px inset;\n",
       "}\n",
       "#h2o-table-9 .h2o-table tbody {\n",
       "  overflow: auto;\n",
       "}\n",
       "#h2o-table-9 .h2o-table th,\n",
       "#h2o-table-9 .h2o-table td {\n",
       "  text-align: right;\n",
       "  /* border: 1px solid; */\n",
       "}\n",
       "#h2o-table-9 .h2o-table tr:nth-child(even) {\n",
       "  /* background: #F5F5F5 */\n",
       "}\n",
       "\n",
       "</style>      \n",
       "<div id=\"h2o-table-9\" class=\"h2o-container\">\n",
       "  <table class=\"h2o-table\">\n",
       "    <caption>Variable Importances: </caption>\n",
       "    <thead><tr><th>variable</th>\n",
       "<th>relative_importance</th>\n",
       "<th>scaled_importance</th>\n",
       "<th>percentage</th></tr></thead>\n",
       "    <tbody><tr><td>original_shape_MeshVolume_RV_ES</td>\n",
       "<td>7.9808855</td>\n",
       "<td>1.0</td>\n",
       "<td>1.0</td></tr></tbody>\n",
       "  </table>\n",
       "</div>\n",
       "</div><pre style=\"font-size: smaller; margin: 1em 0 0 0;\">\n",
       "\n",
       "[tips]\n",
       "Use `model.explain()` to inspect the model.\n",
       "--\n",
       "Use `h2o.display.toggle_user_tips()` to switch on/off this section.</pre>"
      ],
      "text/plain": [
       "Model Details\n",
       "=============\n",
       "H2OXGBoostEstimator : XGBoost\n",
       "Model Key: XGBoost_1_AutoML_1_20240303_203555\n",
       "\n",
       "\n",
       "Model Summary: \n",
       "    number_of_trees\n",
       "--  -----------------\n",
       "    30\n",
       "\n",
       "ModelMetricsMultinomial: xgboost\n",
       "** Reported on train data. **\n",
       "\n",
       "MSE: 0.6273167209526157\n",
       "RMSE: 0.7920332827303508\n",
       "LogLoss: 1.5760206137518722\n",
       "Mean Per-Class Error: 0.611111111111111\n",
       "AUC table was not computed: it is either disabled (model parameter 'auc_type' was set to AUTO or NONE) or the domain size exceeds the limit (maximum is 50 domains).\n",
       "AUCPR table was not computed: it is either disabled (model parameter 'auc_type' was set to AUTO or NONE) or the domain size exceeds the limit (maximum is 50 domains).\n",
       "\n",
       "Confusion Matrix: Row labels: Actual class; Column labels: Predicted class\n",
       "DCM    HCM    MINF    NOR    RV    Error      Rate\n",
       "-----  -----  ------  -----  ----  ---------  -------\n",
       "0      0      17      0      0     1          17 / 17\n",
       "0      17     0       0      0     0          0 / 17\n",
       "0      1      17      0      0     0.0555556  1 / 18\n",
       "0      16     0       0      0     1          16 / 16\n",
       "0      12     5       0      0     1          17 / 17\n",
       "0      46     39      0      0     0.6        51 / 85\n",
       "\n",
       "Top-5 Hit Ratios: \n",
       "k    hit_ratio\n",
       "---  -----------\n",
       "1    0.4\n",
       "2    0.4\n",
       "3    0.741177\n",
       "4    0.811765\n",
       "5    1\n",
       "\n",
       "ModelMetricsMultinomial: xgboost\n",
       "** Reported on cross-validation data. **\n",
       "\n",
       "MSE: 0.6543122195223501\n",
       "RMSE: 0.8088956790108043\n",
       "LogLoss: 1.6611430440224708\n",
       "Mean Per-Class Error: 0.8973856209150327\n",
       "AUC table was not computed: it is either disabled (model parameter 'auc_type' was set to AUTO or NONE) or the domain size exceeds the limit (maximum is 50 domains).\n",
       "AUCPR table was not computed: it is either disabled (model parameter 'auc_type' was set to AUTO or NONE) or the domain size exceeds the limit (maximum is 50 domains).\n",
       "\n",
       "Confusion Matrix: Row labels: Actual class; Column labels: Predicted class\n",
       "DCM    HCM    MINF    NOR    RV    Error     Rate\n",
       "-----  -----  ------  -----  ----  --------  -------\n",
       "0      1      8       0      8     1         17 / 17\n",
       "0      2      8       0      7     0.882353  15 / 17\n",
       "0      4      5       0      9     0.722222  13 / 18\n",
       "0      3      5       0      8     1         16 / 16\n",
       "0      7      8       0      2     0.882353  15 / 17\n",
       "0      17     34      0      34    0.894118  76 / 85\n",
       "\n",
       "Top-5 Hit Ratios: \n",
       "k    hit_ratio\n",
       "---  -----------\n",
       "1    0.105882\n",
       "2    0.282353\n",
       "3    0.470588\n",
       "4    0.729412\n",
       "5    1\n",
       "\n",
       "Cross-Validation Metrics Summary: \n",
       "                         mean      sd           cv_1_valid    cv_2_valid    cv_3_valid    cv_4_valid    cv_5_valid\n",
       "-----------------------  --------  -----------  ------------  ------------  ------------  ------------  ------------\n",
       "accuracy                 0.105882  0.0492153    0.117647      0.0588235     0.176471      0.117647      0.0588235\n",
       "auc                      nan       0            nan           nan           nan           nan           nan\n",
       "err                      0.894118  0.0492153    0.882353      0.941176      0.823529      0.882353      0.941176\n",
       "err_count                15.2      0.83666      15            16            14            15            16\n",
       "logloss                  1.66114   0.0320701    1.71229       1.66228       1.62488       1.65829       1.64798\n",
       "max_per_class_error      1         0            1             1             1             1             1\n",
       "mean_per_class_accuracy  0.2       0            0.2           0.2           0.2           0.2           0.2\n",
       "mean_per_class_error     0.8       1.05367e-08  0.8           0.8           0.8           0.8           0.8\n",
       "mse                      0.654312  0.00910634   0.668639      0.654364      0.643461      0.653662      0.651435\n",
       "pr_auc                   nan       0            nan           nan           nan           nan           nan\n",
       "r2                       0.622478  0.0876959    0.57992       0.60437       0.655629      0.752738      0.519733\n",
       "rmse                     0.80888   0.00561855   0.817703      0.808928      0.80216       0.808494      0.807115\n",
       "\n",
       "Scoring History: \n",
       "    timestamp            duration    number_of_trees    training_rmse    training_logloss    training_classification_error    training_auc    training_pr_auc\n",
       "--  -------------------  ----------  -----------------  ---------------  ------------------  -------------------------------  --------------  -----------------\n",
       "    2024-03-03 20:36:00  4.809 sec   0                  0.8              1.60944             0.811765                         nan             nan\n",
       "    2024-03-03 20:36:00  5.124 sec   5                  0.800243         1.61157             0.8                              nan             nan\n",
       "    2024-03-03 20:36:01  5.300 sec   10                 0.799651         1.60908             0.788235                         nan             nan\n",
       "    2024-03-03 20:36:01  5.415 sec   15                 0.799865         1.60947             0.788235                         nan             nan\n",
       "    2024-03-03 20:36:01  5.688 sec   20                 0.799723         1.60945             0.788235                         nan             nan\n",
       "    2024-03-03 20:36:01  5.883 sec   25                 0.792538         1.57586             0.8                              nan             nan\n",
       "    2024-03-03 20:36:01  6.086 sec   30                 0.792033         1.57602             0.6                              nan             nan\n",
       "\n",
       "Variable Importances: \n",
       "variable                         relative_importance    scaled_importance    percentage\n",
       "-------------------------------  ---------------------  -------------------  ------------\n",
       "original_shape_MeshVolume_RV_ES  7.98089                1                    1\n",
       "\n",
       "[tips]\n",
       "Use `model.explain()` to inspect the model.\n",
       "--\n",
       "Use `h2o.display.toggle_user_tips()` to switch on/off this section."
      ]
     },
     "execution_count": 15,
     "metadata": {},
     "output_type": "execute_result"
    }
   ],
   "source": [
    "#this is a classification problem. convert is_related column to enum type instead of numerical (if necessary, in this case is not necessary)\n",
    "# Set up AutoML pipeline\n",
    "\n",
    "\n",
    "#MODEL AND SPECIFICATIONS:\n",
    "aml = H2OAutoML(\n",
    "    max_runtime_secs=60,\n",
    "    exclude_algos = [\"DeepLearning\"],\n",
    "    nfolds=5,  # Use 5-fold cross-validation\n",
    "    max_models=3,  # Limit to 3 models for demonstration\n",
    "    seed=123,  # Set random seed for reproducibility\n",
    ")\n",
    "\n",
    "# Train the model on features and target\n",
    "\n",
    "aml.train(x = x_labels, y = y_label, training_frame = hf)\n",
    "\n",
    "# Train the model on features and target\n",
    "#aml.train(x=features, y=target, training_frame=iris_df1)"
   ]
  },
  {
   "cell_type": "code",
   "execution_count": 16,
   "metadata": {
    "colab": {
     "base_uri": "https://localhost:8080/",
     "height": 107
    },
    "executionInfo": {
     "elapsed": 324,
     "status": "ok",
     "timestamp": 1709500299975,
     "user": {
      "displayName": "Unai Martínez",
      "userId": "07627802615691193729"
     },
     "user_tz": -60
    },
    "id": "968oQgAJLkz_",
    "outputId": "f8ba57a7-b92a-4f7b-8da0-de6891e902e1"
   },
   "outputs": [
    {
     "data": {
      "text/html": [
       "<table class='dataframe'>\n",
       "<thead>\n",
       "<tr><th>model_id                          </th><th style=\"text-align: right;\">  mean_per_class_error</th><th style=\"text-align: right;\">  logloss</th><th style=\"text-align: right;\">    rmse</th><th style=\"text-align: right;\">     mse</th></tr>\n",
       "</thead>\n",
       "<tbody>\n",
       "<tr><td>XGBoost_1_AutoML_1_20240303_203555</td><td style=\"text-align: right;\">              0.897386</td><td style=\"text-align: right;\">  1.66114</td><td style=\"text-align: right;\">0.808896</td><td style=\"text-align: right;\">0.654312</td></tr>\n",
       "</tbody>\n",
       "</table><pre style='font-size: smaller; margin-bottom: 1em;'>[1 row x 5 columns]</pre>"
      ],
      "text/plain": [
       "model_id                              mean_per_class_error    logloss      rmse       mse\n",
       "----------------------------------  ----------------------  ---------  --------  --------\n",
       "XGBoost_1_AutoML_1_20240303_203555                0.897386    1.66114  0.808896  0.654312\n",
       "[1 row x 5 columns]\n"
      ]
     },
     "execution_count": 16,
     "metadata": {},
     "output_type": "execute_result"
    }
   ],
   "source": [
    "# Get the best performing model\n",
    "lb = aml.leaderboard\n",
    "\n",
    "#lb.head()\n",
    "lb.head(rows=lb.nrows)"
   ]
  },
  {
   "cell_type": "code",
   "execution_count": 17,
   "metadata": {
    "colab": {
     "base_uri": "https://localhost:8080/",
     "height": 36
    },
    "executionInfo": {
     "elapsed": 504,
     "status": "ok",
     "timestamp": 1709500364325,
     "user": {
      "displayName": "Unai Martínez",
      "userId": "07627802615691193729"
     },
     "user_tz": -60
    },
    "id": "JBYP5PL7O0rk",
    "outputId": "7a943445-921d-4437-8916-544b8c0fb372"
   },
   "outputs": [
    {
     "data": {
      "application/vnd.google.colaboratory.intrinsic+json": {
       "type": "string"
      },
      "text/plain": [
       "'/content/XGBoost_1_AutoML_1_20240303_203555'"
      ]
     },
     "execution_count": 17,
     "metadata": {},
     "output_type": "execute_result"
    }
   ],
   "source": [
    "#save best model\n",
    "saved_model = h2o.save_model(aml.leader, path = \"\", force=True)\n",
    "saved_model\n",
    "\n",
    "#you can directly load the best model by running the load_model command\n",
    "#aml = h2o.load_model(\"/outputs/sefik/kinship/StackedEnsemble_BestOfFamily_AutoML_20190904_051328\")"
   ]
  },
  {
   "cell_type": "code",
   "execution_count": 18,
   "metadata": {
    "colab": {
     "base_uri": "https://localhost:8080/"
    },
    "executionInfo": {
     "elapsed": 932,
     "status": "ok",
     "timestamp": 1709500372758,
     "user": {
      "displayName": "Unai Martínez",
      "userId": "07627802615691193729"
     },
     "user_tz": -60
    },
    "id": "NLhqfLafO4-S",
    "outputId": "2ffff2f7-30f8-42db-e5e6-ad572330934d"
   },
   "outputs": [
    {
     "name": "stdout",
     "output_type": "stream",
     "text": [
      "Parse progress: |████████████████████████████████████████████████████████████████| (done) 100%\n",
      "xgboost prediction progress: |███████████████████████████████████████████████████| (done) 100%\n"
     ]
    }
   ],
   "source": [
    "# To generate predictions on a test set, you can make predictions\n",
    "# directly on the `H2OAutoML` object or on the leader model\n",
    "# object directly\n",
    "preds = aml.predict(h2o.H2OFrame(x_test)) #convert x_test in h2o.H2OFrame with h2o.H2OFrame(x_test)\n",
    "\n",
    "# or:\n",
    "#preds = aml.leader.predict(x_test)"
   ]
  },
  {
   "cell_type": "code",
   "execution_count": 19,
   "metadata": {
    "colab": {
     "base_uri": "https://localhost:8080/",
     "height": 389
    },
    "executionInfo": {
     "elapsed": 512,
     "status": "ok",
     "timestamp": 1709500377662,
     "user": {
      "displayName": "Unai Martínez",
      "userId": "07627802615691193729"
     },
     "user_tz": -60
    },
    "id": "E_1CiG0wO-8-",
    "outputId": "99a0ddb1-eae1-44e8-bf46-5f9724df3a4c"
   },
   "outputs": [
    {
     "data": {
      "text/html": [
       "<table class='dataframe'>\n",
       "<thead>\n",
       "<tr><th>predict  </th><th style=\"text-align: right;\">     DCM</th><th style=\"text-align: right;\">     HCM</th><th style=\"text-align: right;\">    MINF</th><th style=\"text-align: right;\">     NOR</th><th style=\"text-align: right;\">      RV</th></tr>\n",
       "</thead>\n",
       "<tbody>\n",
       "<tr><td>HCM      </td><td style=\"text-align: right;\">0.201509</td><td style=\"text-align: right;\">0.203821</td><td style=\"text-align: right;\">0.199893</td><td style=\"text-align: right;\">0.194541</td><td style=\"text-align: right;\">0.200236</td></tr>\n",
       "<tr><td>HCM      </td><td style=\"text-align: right;\">0.201509</td><td style=\"text-align: right;\">0.203821</td><td style=\"text-align: right;\">0.199893</td><td style=\"text-align: right;\">0.194541</td><td style=\"text-align: right;\">0.200236</td></tr>\n",
       "<tr><td>MINF     </td><td style=\"text-align: right;\">0.185857</td><td style=\"text-align: right;\">0.187989</td><td style=\"text-align: right;\">0.26204 </td><td style=\"text-align: right;\">0.179431</td><td style=\"text-align: right;\">0.184683</td></tr>\n",
       "<tr><td>MINF     </td><td style=\"text-align: right;\">0.185857</td><td style=\"text-align: right;\">0.187989</td><td style=\"text-align: right;\">0.26204 </td><td style=\"text-align: right;\">0.179431</td><td style=\"text-align: right;\">0.184683</td></tr>\n",
       "<tr><td>HCM      </td><td style=\"text-align: right;\">0.201509</td><td style=\"text-align: right;\">0.203821</td><td style=\"text-align: right;\">0.199893</td><td style=\"text-align: right;\">0.194541</td><td style=\"text-align: right;\">0.200236</td></tr>\n",
       "<tr><td>HCM      </td><td style=\"text-align: right;\">0.201509</td><td style=\"text-align: right;\">0.203821</td><td style=\"text-align: right;\">0.199893</td><td style=\"text-align: right;\">0.194541</td><td style=\"text-align: right;\">0.200236</td></tr>\n",
       "<tr><td>MINF     </td><td style=\"text-align: right;\">0.185857</td><td style=\"text-align: right;\">0.187989</td><td style=\"text-align: right;\">0.26204 </td><td style=\"text-align: right;\">0.179431</td><td style=\"text-align: right;\">0.184683</td></tr>\n",
       "<tr><td>HCM      </td><td style=\"text-align: right;\">0.201509</td><td style=\"text-align: right;\">0.203821</td><td style=\"text-align: right;\">0.199893</td><td style=\"text-align: right;\">0.194541</td><td style=\"text-align: right;\">0.200236</td></tr>\n",
       "<tr><td>HCM      </td><td style=\"text-align: right;\">0.201509</td><td style=\"text-align: right;\">0.203821</td><td style=\"text-align: right;\">0.199893</td><td style=\"text-align: right;\">0.194541</td><td style=\"text-align: right;\">0.200236</td></tr>\n",
       "<tr><td>MINF     </td><td style=\"text-align: right;\">0.185857</td><td style=\"text-align: right;\">0.187989</td><td style=\"text-align: right;\">0.26204 </td><td style=\"text-align: right;\">0.179431</td><td style=\"text-align: right;\">0.184683</td></tr>\n",
       "</tbody>\n",
       "</table><pre style='font-size: smaller; margin-bottom: 1em;'>[15 rows x 6 columns]</pre>"
      ],
      "text/plain": [
       "predict         DCM       HCM      MINF       NOR        RV\n",
       "---------  --------  --------  --------  --------  --------\n",
       "HCM        0.201509  0.203821  0.199893  0.194541  0.200236\n",
       "HCM        0.201509  0.203821  0.199893  0.194541  0.200236\n",
       "MINF       0.185857  0.187989  0.26204   0.179431  0.184683\n",
       "MINF       0.185857  0.187989  0.26204   0.179431  0.184683\n",
       "HCM        0.201509  0.203821  0.199893  0.194541  0.200236\n",
       "HCM        0.201509  0.203821  0.199893  0.194541  0.200236\n",
       "MINF       0.185857  0.187989  0.26204   0.179431  0.184683\n",
       "HCM        0.201509  0.203821  0.199893  0.194541  0.200236\n",
       "HCM        0.201509  0.203821  0.199893  0.194541  0.200236\n",
       "MINF       0.185857  0.187989  0.26204   0.179431  0.184683\n",
       "[15 rows x 6 columns]\n"
      ]
     },
     "execution_count": 19,
     "metadata": {},
     "output_type": "execute_result"
    }
   ],
   "source": [
    "preds"
   ]
  },
  {
   "cell_type": "code",
   "execution_count": 20,
   "metadata": {
    "colab": {
     "base_uri": "https://localhost:8080/",
     "height": 620
    },
    "executionInfo": {
     "elapsed": 852,
     "status": "ok",
     "timestamp": 1709500385342,
     "user": {
      "displayName": "Unai Martínez",
      "userId": "07627802615691193729"
     },
     "user_tz": -60
    },
    "id": "X_2ItfucPGRW",
    "outputId": "b19cca02-752f-493e-d20d-3d1309a530d6"
   },
   "outputs": [
    {
     "name": "stdout",
     "output_type": "stream",
     "text": [
      "Parse progress: |████████████████████████████████████████████████████████████████| (done) 100%\n"
     ]
    },
    {
     "data": {
      "text/html": [
       "<pre style='margin: 1em 0 1em 0;'>ModelMetricsMultinomial: xgboost\n",
       "** Reported on test data. **\n",
       "\n",
       "MSE: 0.6490022993885057\n",
       "RMSE: 0.8056067895620702\n",
       "LogLoss: 1.6383168161738406\n",
       "Mean Per-Class Error: 0.8666666666666666\n",
       "AUC table was not computed: it is either disabled (model parameter 'auc_type' was set to AUTO or NONE) or the domain size exceeds the limit (maximum is 50 domains).\n",
       "AUCPR table was not computed: it is either disabled (model parameter 'auc_type' was set to AUTO or NONE) or the domain size exceeds the limit (maximum is 50 domains).</pre>\n",
       "<div style='margin: 1em 0 1em 0;'>\n",
       "<style>\n",
       "\n",
       "#h2o-table-10.h2o-container {\n",
       "  overflow-x: auto;\n",
       "}\n",
       "#h2o-table-10 .h2o-table {\n",
       "  /* width: 100%; */\n",
       "  margin-top: 1em;\n",
       "  margin-bottom: 1em;\n",
       "}\n",
       "#h2o-table-10 .h2o-table caption {\n",
       "  white-space: nowrap;\n",
       "  caption-side: top;\n",
       "  text-align: left;\n",
       "  /* margin-left: 1em; */\n",
       "  margin: 0;\n",
       "  font-size: larger;\n",
       "}\n",
       "#h2o-table-10 .h2o-table thead {\n",
       "  white-space: nowrap; \n",
       "  position: sticky;\n",
       "  top: 0;\n",
       "  box-shadow: 0 -1px inset;\n",
       "}\n",
       "#h2o-table-10 .h2o-table tbody {\n",
       "  overflow: auto;\n",
       "}\n",
       "#h2o-table-10 .h2o-table th,\n",
       "#h2o-table-10 .h2o-table td {\n",
       "  text-align: right;\n",
       "  /* border: 1px solid; */\n",
       "}\n",
       "#h2o-table-10 .h2o-table tr:nth-child(even) {\n",
       "  /* background: #F5F5F5 */\n",
       "}\n",
       "\n",
       "</style>      \n",
       "<div id=\"h2o-table-10\" class=\"h2o-container\">\n",
       "  <table class=\"h2o-table\">\n",
       "    <caption>Confusion Matrix: Row labels: Actual class; Column labels: Predicted class</caption>\n",
       "    <thead><tr><th>DCM</th>\n",
       "<th>HCM</th>\n",
       "<th>MINF</th>\n",
       "<th>NOR</th>\n",
       "<th>RV</th>\n",
       "<th>Error</th>\n",
       "<th>Rate</th></tr></thead>\n",
       "    <tbody><tr><td>0.0</td>\n",
       "<td>0.0</td>\n",
       "<td>3.0</td>\n",
       "<td>0.0</td>\n",
       "<td>0.0</td>\n",
       "<td>1.0</td>\n",
       "<td>3 / 3</td></tr>\n",
       "<tr><td>0.0</td>\n",
       "<td>2.0</td>\n",
       "<td>1.0</td>\n",
       "<td>0.0</td>\n",
       "<td>0.0</td>\n",
       "<td>0.3333333</td>\n",
       "<td>1 / 3</td></tr>\n",
       "<tr><td>0.0</td>\n",
       "<td>2.0</td>\n",
       "<td>0.0</td>\n",
       "<td>0.0</td>\n",
       "<td>0.0</td>\n",
       "<td>1.0</td>\n",
       "<td>2 / 2</td></tr>\n",
       "<tr><td>0.0</td>\n",
       "<td>4.0</td>\n",
       "<td>0.0</td>\n",
       "<td>0.0</td>\n",
       "<td>0.0</td>\n",
       "<td>1.0</td>\n",
       "<td>4 / 4</td></tr>\n",
       "<tr><td>0.0</td>\n",
       "<td>2.0</td>\n",
       "<td>1.0</td>\n",
       "<td>0.0</td>\n",
       "<td>0.0</td>\n",
       "<td>1.0</td>\n",
       "<td>3 / 3</td></tr>\n",
       "<tr><td>0.0</td>\n",
       "<td>10.0</td>\n",
       "<td>5.0</td>\n",
       "<td>0.0</td>\n",
       "<td>0.0</td>\n",
       "<td>0.8666667</td>\n",
       "<td>13 / 15</td></tr></tbody>\n",
       "  </table>\n",
       "</div>\n",
       "</div>\n",
       "<div style='margin: 1em 0 1em 0;'>\n",
       "<style>\n",
       "\n",
       "#h2o-table-11.h2o-container {\n",
       "  overflow-x: auto;\n",
       "}\n",
       "#h2o-table-11 .h2o-table {\n",
       "  /* width: 100%; */\n",
       "  margin-top: 1em;\n",
       "  margin-bottom: 1em;\n",
       "}\n",
       "#h2o-table-11 .h2o-table caption {\n",
       "  white-space: nowrap;\n",
       "  caption-side: top;\n",
       "  text-align: left;\n",
       "  /* margin-left: 1em; */\n",
       "  margin: 0;\n",
       "  font-size: larger;\n",
       "}\n",
       "#h2o-table-11 .h2o-table thead {\n",
       "  white-space: nowrap; \n",
       "  position: sticky;\n",
       "  top: 0;\n",
       "  box-shadow: 0 -1px inset;\n",
       "}\n",
       "#h2o-table-11 .h2o-table tbody {\n",
       "  overflow: auto;\n",
       "}\n",
       "#h2o-table-11 .h2o-table th,\n",
       "#h2o-table-11 .h2o-table td {\n",
       "  text-align: right;\n",
       "  /* border: 1px solid; */\n",
       "}\n",
       "#h2o-table-11 .h2o-table tr:nth-child(even) {\n",
       "  /* background: #F5F5F5 */\n",
       "}\n",
       "\n",
       "</style>      \n",
       "<div id=\"h2o-table-11\" class=\"h2o-container\">\n",
       "  <table class=\"h2o-table\">\n",
       "    <caption>Top-5 Hit Ratios: </caption>\n",
       "    <thead><tr><th>k</th>\n",
       "<th>hit_ratio</th></tr></thead>\n",
       "    <tbody><tr><td>1</td>\n",
       "<td>0.1333333</td></tr>\n",
       "<tr><td>2</td>\n",
       "<td>0.2000000</td></tr>\n",
       "<tr><td>3</td>\n",
       "<td>0.5333334</td></tr>\n",
       "<tr><td>4</td>\n",
       "<td>0.7333333</td></tr>\n",
       "<tr><td>5</td>\n",
       "<td>1.0</td></tr></tbody>\n",
       "  </table>\n",
       "</div>\n",
       "</div>"
      ],
      "text/plain": [
       "ModelMetricsMultinomial: xgboost\n",
       "** Reported on test data. **\n",
       "\n",
       "MSE: 0.6490022993885057\n",
       "RMSE: 0.8056067895620702\n",
       "LogLoss: 1.6383168161738406\n",
       "Mean Per-Class Error: 0.8666666666666666\n",
       "AUC table was not computed: it is either disabled (model parameter 'auc_type' was set to AUTO or NONE) or the domain size exceeds the limit (maximum is 50 domains).\n",
       "AUCPR table was not computed: it is either disabled (model parameter 'auc_type' was set to AUTO or NONE) or the domain size exceeds the limit (maximum is 50 domains).\n",
       "\n",
       "Confusion Matrix: Row labels: Actual class; Column labels: Predicted class\n",
       "DCM    HCM    MINF    NOR    RV    Error     Rate\n",
       "-----  -----  ------  -----  ----  --------  -------\n",
       "0      0      3       0      0     1         3 / 3\n",
       "0      2      1       0      0     0.333333  1 / 3\n",
       "0      2      0       0      0     1         2 / 2\n",
       "0      4      0       0      0     1         4 / 4\n",
       "0      2      1       0      0     1         3 / 3\n",
       "0      10     5       0      0     0.866667  13 / 15\n",
       "\n",
       "Top-5 Hit Ratios: \n",
       "k    hit_ratio\n",
       "---  -----------\n",
       "1    0.133333\n",
       "2    0.2\n",
       "3    0.533333\n",
       "4    0.733333\n",
       "5    1"
      ]
     },
     "execution_count": 20,
     "metadata": {},
     "output_type": "execute_result"
    }
   ],
   "source": [
    "#Now, let's see how the best model performs on our test set.\n",
    "aml.leader.model_performance(test_data=h2o.H2OFrame(x_test))"
   ]
  },
  {
   "cell_type": "markdown",
   "metadata": {
    "id": "Ax2m8ITcPRv1"
   },
   "source": [
    "* Here are some additional tips for using a large number of variables in a machine learning model:\n",
    "\n",
    "    * Start with a small number of variables. It is often better to start with a small number of variables and then add more variables as needed. This can help you avoid overfitting and improve the interpretability of your model.\n",
    "    * Use a feature selection algorithm. Feature selection algorithms can help you identify the most important variables for your model. This can help you improve the accuracy of your model and reduce the computational complexity of training.\n",
    "    * Use a regularization technique. Regularization techniques can help prevent your model from overfitting. This can improve the accuracy of your model on new data.\n",
    "    * Use a tree-based classifier. Tree-based classifiers are a good choice for problems with a large number of variables because they are relatively easy to interpret. However, they can also be computationally expensive to train."
   ]
  },
  {
   "cell_type": "code",
   "execution_count": 21,
   "metadata": {
    "colab": {
     "base_uri": "https://localhost:8080/",
     "height": 158
    },
    "executionInfo": {
     "elapsed": 414,
     "status": "error",
     "timestamp": 1709500399377,
     "user": {
      "displayName": "Unai Martínez",
      "userId": "07627802615691193729"
     },
     "user_tz": -60
    },
    "id": "IH24iuz0WSZf",
    "outputId": "1b8ef738-fbef-4d38-9c49-88078d050bc4"
   },
   "outputs": [
    {
     "ename": "NameError",
     "evalue": "name 'h20' is not defined",
     "output_type": "error",
     "traceback": [
      "\u001b[0;31m---------------------------------------------------------------------------\u001b[0m",
      "\u001b[0;31mNameError\u001b[0m                                 Traceback (most recent call last)",
      "\u001b[0;32m<ipython-input-21-22f59d551294>\u001b[0m in \u001b[0;36m<cell line: 2>\u001b[0;34m()\u001b[0m\n\u001b[1;32m      1\u001b[0m \u001b[0;31m# shutdown the cluster\u001b[0m\u001b[0;34m\u001b[0m\u001b[0;34m\u001b[0m\u001b[0m\n\u001b[0;32m----> 2\u001b[0;31m \u001b[0mh20\u001b[0m\u001b[0;34m.\u001b[0m\u001b[0mcluster\u001b[0m\u001b[0;34m(\u001b[0m\u001b[0;34m)\u001b[0m\u001b[0;34m.\u001b[0m\u001b[0mshutdown\u001b[0m\u001b[0;34m(\u001b[0m\u001b[0;34m)\u001b[0m\u001b[0;34m\u001b[0m\u001b[0;34m\u001b[0m\u001b[0m\n\u001b[0m",
      "\u001b[0;31mNameError\u001b[0m: name 'h20' is not defined"
     ]
    }
   ],
   "source": [
    "# shutdown the cluster\n",
    "h20.cluster().shutdown()"
   ]
  }
 ],
 "metadata": {
  "anaconda-cloud": {},
  "colab": {
   "provenance": [
    {
     "file_id": "19-LWZ909Dfgdj4BkhRrbEAeflRtfeUDq",
     "timestamp": 1709016856434
    }
   ]
  },
  "kernelspec": {
   "display_name": "Python 3 (ipykernel)",
   "language": "python",
   "name": "python3"
  },
  "language_info": {
   "codemirror_mode": {
    "name": "ipython",
    "version": 3
   },
   "file_extension": ".py",
   "mimetype": "text/x-python",
   "name": "python",
   "nbconvert_exporter": "python",
   "pygments_lexer": "ipython3",
   "version": "3.11.8"
  },
  "vscode": {
   "interpreter": {
    "hash": "5060c395ae64037ee8844c2173a43fa7410db02f7938ed2393fe6924352a78b7"
   }
  }
 },
 "nbformat": 4,
 "nbformat_minor": 4
}
